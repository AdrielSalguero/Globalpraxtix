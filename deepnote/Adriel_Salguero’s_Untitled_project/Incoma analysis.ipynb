{
  "cells": [
    {
      "cell_type": "code",
      "source": "!pip install openpyxl \n!pip install geopandas\n!pip install shapely",
      "metadata": {
        "source_hash": "acdca07e",
        "execution_start": 1696408219106,
        "execution_millis": 5261,
        "deepnote_app_coordinates": {
          "h": 5,
          "w": 12,
          "x": 0,
          "y": 0
        },
        "deepnote_to_be_reexecuted": false,
        "cell_id": "36bc386c53ec4602a50d6bbee35cf564",
        "deepnote_cell_type": "code"
      },
      "outputs": [
        {
          "name": "stdout",
          "text": "Requirement already satisfied: openpyxl in /root/venv/lib/python3.9/site-packages (3.1.2)\nRequirement already satisfied: et-xmlfile in /root/venv/lib/python3.9/site-packages (from openpyxl) (1.1.0)\n\n\u001b[1m[\u001b[0m\u001b[34;49mnotice\u001b[0m\u001b[1;39;49m]\u001b[0m\u001b[39;49m A new release of pip is available: \u001b[0m\u001b[31;49m23.0.1\u001b[0m\u001b[39;49m -> \u001b[0m\u001b[32;49m23.2.1\u001b[0m\n\u001b[1m[\u001b[0m\u001b[34;49mnotice\u001b[0m\u001b[1;39;49m]\u001b[0m\u001b[39;49m To update, run: \u001b[0m\u001b[32;49mpip install --upgrade pip\u001b[0m\nRequirement already satisfied: geopandas in /shared-libs/python3.9/py/lib/python3.9/site-packages (0.11.1)\nRequirement already satisfied: shapely<2,>=1.7 in /shared-libs/python3.9/py/lib/python3.9/site-packages (from geopandas) (1.8.5.post1)\nRequirement already satisfied: pandas>=1.0.0 in /shared-libs/python3.9/py/lib/python3.9/site-packages (from geopandas) (1.2.5)\nRequirement already satisfied: packaging in /shared-libs/python3.9/py-core/lib/python3.9/site-packages (from geopandas) (21.3)\nRequirement already satisfied: fiona>=1.8 in /shared-libs/python3.9/py/lib/python3.9/site-packages (from geopandas) (1.8.22)\nRequirement already satisfied: pyproj>=2.6.1.post1 in /shared-libs/python3.9/py/lib/python3.9/site-packages (from geopandas) (3.4.0)\nRequirement already satisfied: six>=1.7 in /shared-libs/python3.9/py-core/lib/python3.9/site-packages (from fiona>=1.8->geopandas) (1.16.0)\nRequirement already satisfied: setuptools in /root/venv/lib/python3.9/site-packages (from fiona>=1.8->geopandas) (58.1.0)\nRequirement already satisfied: attrs>=17 in /shared-libs/python3.9/py-core/lib/python3.9/site-packages (from fiona>=1.8->geopandas) (22.1.0)\nRequirement already satisfied: click>=4.0 in /shared-libs/python3.9/py/lib/python3.9/site-packages (from fiona>=1.8->geopandas) (8.1.3)\nRequirement already satisfied: cligj>=0.5 in /shared-libs/python3.9/py/lib/python3.9/site-packages (from fiona>=1.8->geopandas) (0.7.2)\nRequirement already satisfied: munch in /shared-libs/python3.9/py/lib/python3.9/site-packages (from fiona>=1.8->geopandas) (2.5.0)\nRequirement already satisfied: certifi in /shared-libs/python3.9/py/lib/python3.9/site-packages (from fiona>=1.8->geopandas) (2022.9.24)\nRequirement already satisfied: click-plugins>=1.0 in /shared-libs/python3.9/py/lib/python3.9/site-packages (from fiona>=1.8->geopandas) (1.1.1)\nRequirement already satisfied: python-dateutil>=2.7.3 in /shared-libs/python3.9/py-core/lib/python3.9/site-packages (from pandas>=1.0.0->geopandas) (2.8.2)\nRequirement already satisfied: pytz>=2017.3 in /shared-libs/python3.9/py/lib/python3.9/site-packages (from pandas>=1.0.0->geopandas) (2022.5)\nRequirement already satisfied: numpy>=1.16.5 in /shared-libs/python3.9/py/lib/python3.9/site-packages (from pandas>=1.0.0->geopandas) (1.23.4)\nRequirement already satisfied: pyparsing!=3.0.5,>=2.0.2 in /shared-libs/python3.9/py-core/lib/python3.9/site-packages (from packaging->geopandas) (3.0.9)\n\n\u001b[1m[\u001b[0m\u001b[34;49mnotice\u001b[0m\u001b[1;39;49m]\u001b[0m\u001b[39;49m A new release of pip is available: \u001b[0m\u001b[31;49m23.0.1\u001b[0m\u001b[39;49m -> \u001b[0m\u001b[32;49m23.2.1\u001b[0m\n\u001b[1m[\u001b[0m\u001b[34;49mnotice\u001b[0m\u001b[1;39;49m]\u001b[0m\u001b[39;49m To update, run: \u001b[0m\u001b[32;49mpip install --upgrade pip\u001b[0m\n^C\nTraceback (most recent call last):\n  File \"/root/venv/bin/pip\", line 5, in <module>\n    from pip._internal.cli.main import main\n  File \"/root/venv/lib/python3.9/site-packages/pip/_internal/cli/main.py\", line 9, in <module>\n    from pip._internal.cli.autocompletion import autocomplete\n  File \"/root/venv/lib/python3.9/site-packages/pip/_internal/cli/autocompletion.py\", line 10, in <module>\n    from pip._internal.cli.main_parser import create_main_parser\n  File \"/root/venv/lib/python3.9/site-packages/pip/_internal/cli/main_parser.py\", line 9, in <module>\n    from pip._internal.build_env import get_runnable_pip\n  File \"/root/venv/lib/python3.9/site-packages/pip/_internal/build_env.py\", line 19, in <module>\n    from pip._internal.cli.spinners import open_spinner\n  File \"/root/venv/lib/python3.9/site-packages/pip/_internal/cli/spinners.py\", line 9, in <module>\n    from pip._internal.utils.logging import get_indentation\n  File \"/root/venv/lib/python3.9/site-packages/pip/_internal/utils/logging.py\", line 29, in <module>\n    from pip._internal.utils.misc import ensure_dir\n  File \"/root/venv/lib/python3.9/site-packages/pip/_internal/utils/misc.py\", line 42, in <module>\n    from pip._internal.exceptions import CommandError, ExternallyManagedEnvironment\n  File \"/root/venv/lib/python3.9/site-packages/pip/_internal/exceptions.py\", line 18, in <module>\n    from pip._vendor.requests.models import Request, Response\n  File \"/root/venv/lib/python3.9/site-packages/pip/_vendor/requests/__init__.py\", line 149, in <module>\n    from . import packages, utils\n  File \"/root/venv/lib/python3.9/site-packages/pip/_vendor/requests/packages.py\", line 8, in <module>\n    locals()[package] = __import__(vendored_package)\n  File \"/root/venv/lib/python3.9/site-packages/pip/_vendor/idna/__init__.py\", line 1, in <module>\n    from .package_data import __version__\nKeyboardInterrupt\n",
          "output_type": "stream"
        }
      ],
      "execution_count": 1,
      "block_group": "167ca7d254b34639853cb3b7af57fd43"
    },
    {
      "cell_type": "code",
      "source": "import warnings\n# Not recommenden for production.\nwarnings.filterwarnings('ignore')",
      "metadata": {
        "source_hash": "94da19bd",
        "execution_start": 1696408224297,
        "execution_millis": 72,
        "deepnote_app_coordinates": {
          "h": 5,
          "w": 12,
          "x": 0,
          "y": 0
        },
        "deepnote_to_be_reexecuted": false,
        "cell_id": "9581707742644e6789e8779fd7c9d219",
        "deepnote_cell_type": "code"
      },
      "outputs": [],
      "execution_count": 2,
      "block_group": "152db902de4744fc94ab8627d1832cfe"
    },
    {
      "cell_type": "markdown",
      "source": "Start on library importation",
      "metadata": {
        "formattedRanges": [],
        "deepnote_app_coordinates": {
          "h": 2,
          "w": 8,
          "x": 0,
          "y": 0
        },
        "cell_id": "8188c7e6a72c46c0b0c69f7be9190504",
        "deepnote_cell_type": "text-cell-p"
      },
      "block_group": "b17a40f894254269a8875dcb4a61d673"
    },
    {
      "cell_type": "code",
      "source": "#To work with dataframes and geopands to handle geojsons\nimport pandas as pd\nimport geopandas as gpd\nimport numpy as np\nimport json \n\n#Shapely and scipy to work with vectors and geostadistics\nfrom shapely.geometry import shape, Polygon, Point\nfrom scipy.spatial.distance import euclidean\n",
      "metadata": {
        "source_hash": "ace8b9c",
        "execution_start": 1696409569302,
        "execution_millis": 12,
        "deepnote_app_coordinates": {
          "h": 5,
          "w": 12,
          "x": 0,
          "y": 0
        },
        "deepnote_to_be_reexecuted": false,
        "cell_id": "3e10f462e88749b5994f269d55b77b13",
        "deepnote_cell_type": "code"
      },
      "outputs": [],
      "execution_count": 22,
      "block_group": "3e10f462e88749b5994f269d55b77b13"
    },
    {
      "cell_type": "code",
      "source": "\n#We are going to use this module later, for good practices must be at the begging\n# Calculate the center of the polygon, later determine which is closest finding the CUSEC and towns respectivelly\n\ndef calcular_centroide(row):\n    geometry_data = row['geometry']\n    #Convertion of the data on a recognizable shape for Shapely.\n    multipolygon = shape(geometry_data)\n    #Take the centroid and the coordinate on X and Y\n    centroid = multipolygon.centroid\n    centroid_coords = (centroid.x, centroid.y)  # Convert our centroide on a tuple to use later for calculations\n    return centroid_coords\n",
      "metadata": {
        "source_hash": "f97831be",
        "execution_start": 1696408225301,
        "execution_millis": 143,
        "deepnote_app_coordinates": {
          "h": 5,
          "w": 12,
          "x": 0,
          "y": 0
        },
        "deepnote_to_be_reexecuted": false,
        "cell_id": "170c2b0f98634b71bd92822c6e89a2d2",
        "deepnote_cell_type": "code"
      },
      "outputs": [],
      "execution_count": 4,
      "block_group": "56a6d1c7f45e4d929eda456636c67f0d"
    },
    {
      "cell_type": "code",
      "source": "poblacion_sec_censal = pd.read_csv('/work/GPX programing test/poblacion_sec_censal.csv', sep= ';')\n#population of all census sections of the province of Barcelona identified by their unique census section identifier.\nprint(poblacion_sec_censal.info(), '\\n \\n')\nprint(poblacion_sec_censal.head(10))\n\n\n# Here we must change the name Secci�n  which has troubles with the encoding route and drop columns without value\npoblacion_sec_censal.rename(columns={'Secci�n': 'Seccion', }, inplace=True)\npoblacion_sec_censal = poblacion_sec_censal.drop(columns=['Sexo','Edad (grupos quinquenales)'])\n\nprint('\\n DF modified \\n',poblacion_sec_censal.head(10))\n",
      "metadata": {
        "source_hash": "d7355dd2",
        "execution_start": 1696408225301,
        "execution_millis": 392,
        "deepnote_table_state": {
          "sortBy": [],
          "filters": [],
          "pageSize": 100,
          "pageIndex": 0
        },
        "deepnote_table_loading": false,
        "deepnote_app_coordinates": {
          "h": 5,
          "w": 12,
          "x": 0,
          "y": 0
        },
        "deepnote_to_be_reexecuted": false,
        "cell_id": "febe76c4f7f247c49f827878572e37c0",
        "deepnote_cell_type": "code"
      },
      "outputs": [
        {
          "name": "stdout",
          "text": "<class 'pandas.core.frame.DataFrame'>\nRangeIndex: 3613 entries, 0 to 3612\nData columns (total 4 columns):\n #   Column                      Non-Null Count  Dtype  \n---  ------                      --------------  -----  \n 0   Sexo                        3613 non-null   object \n 1   Secci�n                     3613 non-null   int64  \n 2   Edad (grupos quinquenales)  3613 non-null   object \n 3   Total                       3613 non-null   float64\ndtypes: float64(1), int64(1), object(2)\nmemory usage: 113.0+ KB\nNone \n \n\n          Sexo    Secci�n Edad (grupos quinquenales)    Total\n0  Ambos Sexos  800101001                      Total    1.497\n1  Ambos Sexos  800101002                      Total    1.868\n2  Ambos Sexos  800101003                      Total  835.000\n3  Ambos Sexos  800101004                      Total    1.922\n4  Ambos Sexos  800101005                      Total    1.844\n5  Ambos Sexos  800101007                      Total    2.627\n6  Ambos Sexos  800101008                      Total    1.945\n7  Ambos Sexos  800201001                      Total  282.000\n8  Ambos Sexos  800301001                      Total    2.752\n9  Ambos Sexos  800301002                      Total    2.519\n\n DF modified \n      Seccion    Total\n0  800101001    1.497\n1  800101002    1.868\n2  800101003  835.000\n3  800101004    1.922\n4  800101005    1.844\n5  800101007    2.627\n6  800101008    1.945\n7  800201001  282.000\n8  800301001    2.752\n9  800301002    2.519\n",
          "output_type": "stream"
        }
      ],
      "execution_count": 5,
      "block_group": "20b08cdbaa46456793ff4ba2cdf40e81"
    },
    {
      "cell_type": "code",
      "source": "#Here we have to face the design of the sheet and only extract the headers that start at row 7 \natlas_socioeconimo = pd.read_excel('/work/GPX programing test/atlas_socioeconomico.xlsx', header=7)\n\n\nprint(atlas_socioeconimo.info(), '\\n \\n')\nprint(atlas_socioeconimo.head(10))",
      "metadata": {
        "source_hash": "4ed207da",
        "execution_start": 1696408292403,
        "execution_millis": 16022,
        "deepnote_app_coordinates": {
          "h": 5,
          "w": 12,
          "x": 0,
          "y": 0
        },
        "deepnote_to_be_reexecuted": false,
        "cell_id": "848e310465db4f2bacfa98f8dd146aaf",
        "deepnote_cell_type": "code"
      },
      "outputs": [
        {
          "name": "stdout",
          "text": "<class 'pandas.core.frame.DataFrame'>\nRangeIndex: 55095 entries, 0 to 55094\nData columns (total 16 columns):\n #   Column  Non-Null Count  Dtype \n---  ------  --------------  ----- \n 0           55092 non-null  object\n 1   2017    55087 non-null  object\n 2   2016    55087 non-null  object\n 3   2015    55087 non-null  object\n 4   2017.1  55087 non-null  object\n 5   2016.1  55087 non-null  object\n 6   2015.1  55087 non-null  object\n 7   2017.2  55087 non-null  object\n 8   2016.2  55087 non-null  object\n 9   2015.2  55087 non-null  object\n 10  2017.3  55087 non-null  object\n 11  2016.3  55087 non-null  object\n 12  2015.3  55087 non-null  object\n 13  2017.4  55087 non-null  object\n 14  2016.4  55087 non-null  object\n 15  2015.4  55087 non-null  object\ndtypes: object(16)\nmemory usage: 6.7+ MB\nNone \n \n\n                                               2017   2016   2015 2017.1  \\\n0                     01001 Alegría-Dulantzi  13281  13086  12936  34618   \n1       0100101 Alegría-Dulantzi distrito 01                               \n2  0100101001 Alegría-Dulantzi sección 01001                               \n3  0100101002 Alegría-Dulantzi sección 01002                               \n4                              01002 Amurrio  13862  13691  13800  34411   \n5                0100201 Amurrio distrito 01                               \n6           0100201001 Amurrio sección 01001                               \n7           0100201002 Amurrio sección 01002                               \n8           0100201003 Amurrio sección 01003                               \n9           0100201004 Amurrio sección 01004                               \n\n  2016.1 2015.1 2017.2 2016.2 2015.2 2017.3 2016.3 2015.3 2017.4 2016.4 2015.4  \n0  34373  33702                                                                 \n1                                                                               \n2                                                                               \n3                                                                               \n4  33936  34421                                                                 \n5                                                                               \n6                                                                               \n7                                                                               \n8                                                                               \n9                                                                               \n",
          "output_type": "stream"
        }
      ],
      "execution_count": 7,
      "block_group": "9968d2624f274779b4b6a33c4737d114"
    },
    {
      "cell_type": "code",
      "source": "#Extract only the columns that we are interested, on this case only Renta neta media por persona 2017,2016, 2015\natlas_socioeconimo = atlas_socioeconimo.iloc[:, [0, 1, 2, 3]]\n\n#Change columnas name to get clear infomation\n\natlas_socioeconimo.columns = ['Index', '2017 Income', '2016 Income', '2015 Income']\n\n#Change datatypes to filter with dropna ah use only the rows that contain information\natlas_socioeconimo['2017 Income'] = pd.to_numeric(atlas_socioeconimo['2017 Income'], errors='coerce').astype('Int64')\natlas_socioeconimo['2016 Income'] = pd.to_numeric(atlas_socioeconimo['2016 Income'], errors='coerce').astype('Int64')\natlas_socioeconimo['2015 Income'] = pd.to_numeric(atlas_socioeconimo['2015 Income'], errors='coerce').astype('Int64')\natlas_socioeconimo = atlas_socioeconimo.fillna(0)\n#Create the global variable taking in consideration all income in this period\natlas_socioeconimo['Global'] =atlas_socioeconimo['2017 Income']+atlas_socioeconimo['2016 Income']+atlas_socioeconimo['2015 Income']\n\n\n#Reduction of the df removing values without data\natlas_socioeconimo = atlas_socioeconimo[atlas_socioeconimo['Global']!=0]\n\n\n# Take codes appart from location name because we need to do Joins in the future\n#atlas_socioeconimo['NPRO'] = atlas_socioeconimo['Index'].str.split().str[-1]\natlas_socioeconimo['Index'] = atlas_socioeconimo['Index'].str.extract('(\\d+)')\n\n\n#Obtain incomes and codes\natlas_socioeconimo",
      "metadata": {
        "source_hash": "eda236bd",
        "execution_start": 1696408317624,
        "execution_millis": 326,
        "deepnote_table_state": {
          "sortBy": [
            {
              "id": "2015 Income",
              "type": "asc"
            }
          ],
          "filters": [
            {
              "id": "Index",
              "type": "contains",
              "value": "1079"
            }
          ],
          "pageSize": 100,
          "pageIndex": 0
        },
        "deepnote_table_loading": false,
        "deepnote_app_coordinates": {
          "h": 5,
          "w": 12,
          "x": 0,
          "y": 0
        },
        "deepnote_to_be_reexecuted": false,
        "cell_id": "73123b119ba5458e8d46a465618d0be6",
        "deepnote_cell_type": "code"
      },
      "outputs": [
        {
          "output_type": "execute_result",
          "execution_count": 9,
          "data": {
            "application/vnd.deepnote.dataframe.v3+json": {
              "column_count": 5,
              "row_count": 50936,
              "columns": [
                {
                  "name": "Index",
                  "dtype": "object",
                  "stats": {
                    "unique_count": 50936,
                    "nan_count": 0,
                    "categories": [
                      {
                        "name": "4105901029",
                        "count": 1
                      },
                      {
                        "name": "4926701001",
                        "count": 1
                      },
                      {
                        "name": "50934 others",
                        "count": 50934
                      }
                    ]
                  }
                },
                {
                  "name": "2017 Income",
                  "dtype": "Int64"
                },
                {
                  "name": "2016 Income",
                  "dtype": "Int64"
                },
                {
                  "name": "2015 Income",
                  "dtype": "Int64"
                },
                {
                  "name": "Global",
                  "dtype": "Int64"
                },
                {
                  "name": "_deepnote_index_column",
                  "dtype": "int64"
                }
              ],
              "rows": [
                {
                  "Index": "4105901029",
                  "2017 Income": "15010",
                  "2016 Income": "0",
                  "2015 Income": "0",
                  "Global": "15010",
                  "_deepnote_index_column": 43641
                },
                {
                  "Index": "4926701001",
                  "2017 Income": "9077",
                  "2016 Income": "0",
                  "2015 Income": "0",
                  "Global": "9077",
                  "_deepnote_index_column": 53398
                },
                {
                  "Index": "4926701",
                  "2017 Income": "9077",
                  "2016 Income": "0",
                  "2015 Income": "0",
                  "Global": "9077",
                  "_deepnote_index_column": 53397
                },
                {
                  "Index": "2805402005",
                  "2017 Income": "13802",
                  "2016 Income": "0",
                  "2015 Income": "0",
                  "Global": "13802",
                  "_deepnote_index_column": 27484
                },
                {
                  "Index": "49267",
                  "2017 Income": "9077",
                  "2016 Income": "0",
                  "2015 Income": "0",
                  "Global": "9077",
                  "_deepnote_index_column": 53396
                },
                {
                  "Index": "0940301001",
                  "2017 Income": "15768",
                  "2016 Income": "0",
                  "2015 Income": "0",
                  "Global": "15768",
                  "_deepnote_index_column": 11374
                },
                {
                  "Index": "0940301",
                  "2017 Income": "15768",
                  "2016 Income": "0",
                  "2015 Income": "0",
                  "Global": "15768",
                  "_deepnote_index_column": 11373
                },
                {
                  "Index": "4102801002",
                  "2017 Income": "11837",
                  "2016 Income": "11709",
                  "2015 Income": "0",
                  "Global": "23546",
                  "_deepnote_index_column": 43234
                },
                {
                  "Index": "2006903033",
                  "2017 Income": "16160",
                  "2016 Income": "0",
                  "2015 Income": "0",
                  "Global": "16160",
                  "_deepnote_index_column": 21463
                },
                {
                  "Index": "3500201022",
                  "2017 Income": "11759",
                  "2016 Income": "0",
                  "2015 Income": "0",
                  "Global": "11759",
                  "_deepnote_index_column": 37674
                },
                {
                  "Index": "4101801008",
                  "2017 Income": "7675",
                  "2016 Income": "0",
                  "2015 Income": "0",
                  "Global": "7675",
                  "_deepnote_index_column": 43125
                },
                {
                  "Index": "2807920123",
                  "2017 Income": "16797",
                  "2016 Income": "0",
                  "2015 Income": "0",
                  "Global": "16797",
                  "_deepnote_index_column": 30437
                },
                {
                  "Index": "1815002003",
                  "2017 Income": "9260",
                  "2016 Income": "0",
                  "2015 Income": "0",
                  "Global": "9260",
                  "_deepnote_index_column": 19764
                },
                {
                  "Index": "2807920124",
                  "2017 Income": "20531",
                  "2016 Income": "0",
                  "2015 Income": "0",
                  "Global": "20531",
                  "_deepnote_index_column": 30438
                },
                {
                  "Index": "2807920125",
                  "2017 Income": "17929",
                  "2016 Income": "0",
                  "2015 Income": "0",
                  "Global": "17929",
                  "_deepnote_index_column": 30439
                },
                {
                  "Index": "2807920126",
                  "2017 Income": "16479",
                  "2016 Income": "0",
                  "2015 Income": "0",
                  "Global": "16479",
                  "_deepnote_index_column": 30440
                },
                {
                  "Index": "2809204044",
                  "2017 Income": "12262",
                  "2016 Income": "0",
                  "2015 Income": "0",
                  "Global": "12262",
                  "_deepnote_index_column": 30720
                },
                {
                  "Index": "0705401009",
                  "2017 Income": "11676",
                  "2016 Income": "0",
                  "2015 Income": "0",
                  "Global": "11676",
                  "_deepnote_index_column": 5756
                },
                {
                  "Index": "1904601018",
                  "2017 Income": "9298",
                  "2016 Income": "0",
                  "2015 Income": "0",
                  "Global": "9298",
                  "_deepnote_index_column": 20117
                },
                {
                  "Index": "09403",
                  "2017 Income": "15768",
                  "2016 Income": "0",
                  "2015 Income": "0",
                  "Global": "15768",
                  "_deepnote_index_column": 11372
                },
                {
                  "Index": "1210301001",
                  "2017 Income": "0",
                  "2016 Income": "11104",
                  "2015 Income": "0",
                  "Global": "11104",
                  "_deepnote_index_column": 14121
                },
                {
                  "Index": "10083",
                  "2017 Income": "16111",
                  "2016 Income": "7797",
                  "2015 Income": "0",
                  "Global": "23908",
                  "_deepnote_index_column": 11946
                },
                {
                  "Index": "1008301",
                  "2017 Income": "16111",
                  "2016 Income": "7797",
                  "2015 Income": "0",
                  "Global": "23908",
                  "_deepnote_index_column": 11947
                },
                {
                  "Index": "1802201001",
                  "2017 Income": "8082",
                  "2016 Income": "7705",
                  "2015 Income": "0",
                  "Global": "15787",
                  "_deepnote_index_column": 19030
                },
                {
                  "Index": "4104401007",
                  "2017 Income": "15124",
                  "2016 Income": "0",
                  "2015 Income": "0",
                  "Global": "15124",
                  "_deepnote_index_column": 43480
                },
                {
                  "Index": "3412201001",
                  "2017 Income": "9802",
                  "2016 Income": "0",
                  "2015 Income": "0",
                  "Global": "9802",
                  "_deepnote_index_column": 37347
                },
                {
                  "Index": "16177",
                  "2017 Income": "7944",
                  "2016 Income": "7528",
                  "2015 Income": "0",
                  "Global": "15472",
                  "_deepnote_index_column": 17645
                },
                {
                  "Index": "4107501009",
                  "2017 Income": "6281",
                  "2016 Income": "5822",
                  "2015 Income": "0",
                  "Global": "12103",
                  "_deepnote_index_column": 43808
                },
                {
                  "Index": "3412201",
                  "2017 Income": "9802",
                  "2016 Income": "0",
                  "2015 Income": "0",
                  "Global": "9802",
                  "_deepnote_index_column": 37346
                },
                {
                  "Index": "4101901004",
                  "2017 Income": "7308",
                  "2016 Income": "0",
                  "2015 Income": "0",
                  "Global": "7308",
                  "_deepnote_index_column": 43131
                },
                {
                  "Index": "2810401011",
                  "2017 Income": "16384",
                  "2016 Income": "0",
                  "2015 Income": "0",
                  "Global": "16384",
                  "_deepnote_index_column": 30777
                },
                {
                  "Index": "1100602010",
                  "2017 Income": "8942",
                  "2016 Income": "0",
                  "2015 Income": "0",
                  "Global": "8942",
                  "_deepnote_index_column": 12633
                },
                {
                  "Index": "0311902006",
                  "2017 Income": "15030",
                  "2016 Income": "0",
                  "2015 Income": "0",
                  "Global": "15030",
                  "_deepnote_index_column": 2248
                },
                {
                  "Index": "1617701",
                  "2017 Income": "7944",
                  "2016 Income": "7528",
                  "2015 Income": "0",
                  "Global": "15472",
                  "_deepnote_index_column": 17646
                },
                {
                  "Index": "1802201008",
                  "2017 Income": "8976",
                  "2016 Income": "8746",
                  "2015 Income": "0",
                  "Global": "17722",
                  "_deepnote_index_column": 19037
                },
                {
                  "Index": "4109104070",
                  "2017 Income": "8619",
                  "2016 Income": "0",
                  "2015 Income": "0",
                  "Global": "8619",
                  "_deepnote_index_column": 44166
                },
                {
                  "Index": "2807902111",
                  "2017 Income": "20281",
                  "2016 Income": "0",
                  "2015 Income": "0",
                  "Global": "20281",
                  "_deepnote_index_column": 28213
                },
                {
                  "Index": "2807902112",
                  "2017 Income": "20869",
                  "2016 Income": "0",
                  "2015 Income": "0",
                  "Global": "20869",
                  "_deepnote_index_column": 28214
                },
                {
                  "Index": "3500201023",
                  "2017 Income": "13447",
                  "2016 Income": "0",
                  "2015 Income": "0",
                  "Global": "13447",
                  "_deepnote_index_column": 37675
                },
                {
                  "Index": "1617701001",
                  "2017 Income": "7944",
                  "2016 Income": "7528",
                  "2015 Income": "0",
                  "Global": "15472",
                  "_deepnote_index_column": 17647
                },
                {
                  "Index": "2909701005",
                  "2017 Income": "7559",
                  "2016 Income": "0",
                  "2015 Income": "0",
                  "Global": "7559",
                  "_deepnote_index_column": 32835
                },
                {
                  "Index": "1008301001",
                  "2017 Income": "16111",
                  "2016 Income": "7797",
                  "2015 Income": "0",
                  "Global": "23908",
                  "_deepnote_index_column": 11948
                },
                {
                  "Index": "2907001029",
                  "2017 Income": "8563",
                  "2016 Income": "0",
                  "2015 Income": "0",
                  "Global": "8563",
                  "_deepnote_index_column": 32608
                },
                {
                  "Index": "4722401",
                  "2017 Income": "11127",
                  "2016 Income": "10593",
                  "2015 Income": "0",
                  "Global": "21720",
                  "_deepnote_index_column": 51401
                },
                {
                  "Index": "2807908181",
                  "2017 Income": "26584",
                  "2016 Income": "0",
                  "2015 Income": "0",
                  "Global": "26584",
                  "_deepnote_index_column": 28961
                },
                {
                  "Index": "1201501",
                  "2017 Income": "11120",
                  "2016 Income": "0",
                  "2015 Income": "0",
                  "Global": "11120",
                  "_deepnote_index_column": 13656
                },
                {
                  "Index": "1201501001",
                  "2017 Income": "11120",
                  "2016 Income": "0",
                  "2015 Income": "0",
                  "Global": "11120",
                  "_deepnote_index_column": 13657
                },
                {
                  "Index": "34122",
                  "2017 Income": "9802",
                  "2016 Income": "0",
                  "2015 Income": "0",
                  "Global": "9802",
                  "_deepnote_index_column": 37345
                },
                {
                  "Index": "4110101005",
                  "2017 Income": "7094",
                  "2016 Income": "0",
                  "2015 Income": "0",
                  "Global": "7094",
                  "_deepnote_index_column": 44604
                },
                {
                  "Index": "3690201004",
                  "2017 Income": "0",
                  "2016 Income": "9518",
                  "2015 Income": "0",
                  "Global": "9518",
                  "_deepnote_index_column": 39442
                },
                {
                  "Index": "3690201003",
                  "2017 Income": "10130",
                  "2016 Income": "9248",
                  "2015 Income": "0",
                  "Global": "19378",
                  "_deepnote_index_column": 39441
                },
                {
                  "Index": "2807905104",
                  "2017 Income": "23946",
                  "2016 Income": "0",
                  "2015 Income": "0",
                  "Global": "23946",
                  "_deepnote_index_column": 28539
                },
                {
                  "Index": "2807911198",
                  "2017 Income": "15869",
                  "2016 Income": "0",
                  "2015 Income": "0",
                  "Global": "15869",
                  "_deepnote_index_column": 29440
                },
                {
                  "Index": "12015",
                  "2017 Income": "11120",
                  "2016 Income": "0",
                  "2015 Income": "0",
                  "Global": "11120",
                  "_deepnote_index_column": 13655
                },
                {
                  "Index": "2807911197",
                  "2017 Income": "15387",
                  "2016 Income": "0",
                  "2015 Income": "0",
                  "Global": "15387",
                  "_deepnote_index_column": 29439
                },
                {
                  "Index": "2807911195",
                  "2017 Income": "14938",
                  "2016 Income": "0",
                  "2015 Income": "0",
                  "Global": "14938",
                  "_deepnote_index_column": 29437
                },
                {
                  "Index": "3690201002",
                  "2017 Income": "9496",
                  "2016 Income": "9169",
                  "2015 Income": "0",
                  "Global": "18665",
                  "_deepnote_index_column": 39440
                },
                {
                  "Index": "2807905103",
                  "2017 Income": "21503",
                  "2016 Income": "0",
                  "2015 Income": "0",
                  "Global": "21503",
                  "_deepnote_index_column": 28538
                },
                {
                  "Index": "2807914094",
                  "2017 Income": "21322",
                  "2016 Income": "0",
                  "2015 Income": "0",
                  "Global": "21322",
                  "_deepnote_index_column": 29805
                },
                {
                  "Index": "2807914095",
                  "2017 Income": "21359",
                  "2016 Income": "0",
                  "2015 Income": "0",
                  "Global": "21359",
                  "_deepnote_index_column": 29806
                },
                {
                  "Index": "3690201001",
                  "2017 Income": "10530",
                  "2016 Income": "10137",
                  "2015 Income": "0",
                  "Global": "20667",
                  "_deepnote_index_column": 39439
                },
                {
                  "Index": "3690201",
                  "2017 Income": "9880",
                  "2016 Income": "9456",
                  "2015 Income": "0",
                  "Global": "19336",
                  "_deepnote_index_column": 39438
                },
                {
                  "Index": "36902",
                  "2017 Income": "10089",
                  "2016 Income": "9693",
                  "2015 Income": "0",
                  "Global": "19782",
                  "_deepnote_index_column": 39437
                },
                {
                  "Index": "2807911196",
                  "2017 Income": "15490",
                  "2016 Income": "0",
                  "2015 Income": "0",
                  "Global": "15490",
                  "_deepnote_index_column": 29438
                },
                {
                  "Index": "43073",
                  "2017 Income": "12824",
                  "2016 Income": "0",
                  "2015 Income": "0",
                  "Global": "12824",
                  "_deepnote_index_column": 45520
                },
                {
                  "Index": "2810601066",
                  "2017 Income": "10779",
                  "2016 Income": "0",
                  "2015 Income": "0",
                  "Global": "10779",
                  "_deepnote_index_column": 30844
                },
                {
                  "Index": "4722401001",
                  "2017 Income": "11127",
                  "2016 Income": "10593",
                  "2015 Income": "0",
                  "Global": "21720",
                  "_deepnote_index_column": 51402
                },
                {
                  "Index": "4101701013",
                  "2017 Income": "9578",
                  "2016 Income": "0",
                  "2015 Income": "0",
                  "Global": "9578",
                  "_deepnote_index_column": 43115
                },
                {
                  "Index": "3690202002",
                  "2017 Income": "10962",
                  "2016 Income": "10329",
                  "2015 Income": "0",
                  "Global": "21291",
                  "_deepnote_index_column": 39446
                },
                {
                  "Index": "3690202001",
                  "2017 Income": "10349",
                  "2016 Income": "10251",
                  "2015 Income": "0",
                  "Global": "20600",
                  "_deepnote_index_column": 39445
                },
                {
                  "Index": "1210301",
                  "2017 Income": "0",
                  "2016 Income": "11104",
                  "2015 Income": "0",
                  "Global": "11104",
                  "_deepnote_index_column": 14120
                },
                {
                  "Index": "4808901003",
                  "2017 Income": "15913",
                  "2016 Income": "0",
                  "2015 Income": "0",
                  "Global": "15913",
                  "_deepnote_index_column": 52527
                },
                {
                  "Index": "4101701012",
                  "2017 Income": "12232",
                  "2016 Income": "0",
                  "2015 Income": "0",
                  "Global": "12232",
                  "_deepnote_index_column": 43114
                },
                {
                  "Index": "4101701011",
                  "2017 Income": "23132",
                  "2016 Income": "27745",
                  "2015 Income": "0",
                  "Global": "50877",
                  "_deepnote_index_column": 43113
                },
                {
                  "Index": "2807908182",
                  "2017 Income": "26340",
                  "2016 Income": "0",
                  "2015 Income": "0",
                  "Global": "26340",
                  "_deepnote_index_column": 28962
                },
                {
                  "Index": "2810601067",
                  "2017 Income": "11834",
                  "2016 Income": "0",
                  "2015 Income": "0",
                  "Global": "11834",
                  "_deepnote_index_column": 30845
                },
                {
                  "Index": "2807908183",
                  "2017 Income": "21488",
                  "2016 Income": "0",
                  "2015 Income": "0",
                  "Global": "21488",
                  "_deepnote_index_column": 28963
                },
                {
                  "Index": "2807908184",
                  "2017 Income": "20371",
                  "2016 Income": "0",
                  "2015 Income": "0",
                  "Global": "20371",
                  "_deepnote_index_column": 28964
                },
                {
                  "Index": "2807908185",
                  "2017 Income": "17502",
                  "2016 Income": "0",
                  "2015 Income": "0",
                  "Global": "17502",
                  "_deepnote_index_column": 28965
                },
                {
                  "Index": "3690201005",
                  "2017 Income": "9591",
                  "2016 Income": "9331",
                  "2015 Income": "0",
                  "Global": "18922",
                  "_deepnote_index_column": 39443
                },
                {
                  "Index": "12103",
                  "2017 Income": "11108",
                  "2016 Income": "11104",
                  "2015 Income": "0",
                  "Global": "22212",
                  "_deepnote_index_column": 14119
                },
                {
                  "Index": "1100404023",
                  "2017 Income": "14559",
                  "2016 Income": "0",
                  "2015 Income": "0",
                  "Global": "14559",
                  "_deepnote_index_column": 12607
                },
                {
                  "Index": "2807908186",
                  "2017 Income": "17217",
                  "2016 Income": "0",
                  "2015 Income": "0",
                  "Global": "17217",
                  "_deepnote_index_column": 28966
                },
                {
                  "Index": "2807908187",
                  "2017 Income": "20656",
                  "2016 Income": "0",
                  "2015 Income": "0",
                  "Global": "20656",
                  "_deepnote_index_column": 28967
                },
                {
                  "Index": "2807908188",
                  "2017 Income": "16382",
                  "2016 Income": "0",
                  "2015 Income": "0",
                  "Global": "16382",
                  "_deepnote_index_column": 28968
                },
                {
                  "Index": "3690202",
                  "2017 Income": "10617",
                  "2016 Income": "10286",
                  "2015 Income": "0",
                  "Global": "20903",
                  "_deepnote_index_column": 39444
                },
                {
                  "Index": "3803812011",
                  "2017 Income": "7483",
                  "2016 Income": "7100",
                  "2015 Income": "0",
                  "Global": "14583",
                  "_deepnote_index_column": 41431
                },
                {
                  "Index": "1802201002",
                  "2017 Income": "9045",
                  "2016 Income": "8211",
                  "2015 Income": "0",
                  "Global": "17256",
                  "_deepnote_index_column": 19031
                },
                {
                  "Index": "2807917115",
                  "2017 Income": "15264",
                  "2016 Income": "0",
                  "2015 Income": "0",
                  "Global": "15264",
                  "_deepnote_index_column": 30207
                },
                {
                  "Index": "2806504039",
                  "2017 Income": "15103",
                  "2016 Income": "0",
                  "2015 Income": "0",
                  "Global": "15103",
                  "_deepnote_index_column": 27780
                },
                {
                  "Index": "09012",
                  "2017 Income": "0",
                  "2016 Income": "10764",
                  "2015 Income": "0",
                  "Global": "10764",
                  "_deepnote_index_column": 10268
                },
                {
                  "Index": "2807919052",
                  "2017 Income": "13434",
                  "2016 Income": "0",
                  "2015 Income": "0",
                  "Global": "13434",
                  "_deepnote_index_column": 30325
                },
                {
                  "Index": "1103205016",
                  "2017 Income": "5648",
                  "2016 Income": "0",
                  "2015 Income": "0",
                  "Global": "5648",
                  "_deepnote_index_column": 13471
                },
                {
                  "Index": "4100404031",
                  "2017 Income": "24824",
                  "2016 Income": "0",
                  "2015 Income": "0",
                  "Global": "24824",
                  "_deepnote_index_column": 43008
                },
                {
                  "Index": "22203",
                  "2017 Income": "0",
                  "2016 Income": "11637",
                  "2015 Income": "0",
                  "Global": "11637",
                  "_deepnote_index_column": 22825
                },
                {
                  "Index": "47056",
                  "2017 Income": "10833",
                  "2016 Income": "0",
                  "2015 Income": "0",
                  "Global": "10833",
                  "_deepnote_index_column": 50572
                },
                {
                  "Index": "4705601",
                  "2017 Income": "10833",
                  "2016 Income": "0",
                  "2015 Income": "0",
                  "Global": "10833",
                  "_deepnote_index_column": 50573
                },
                {
                  "Index": "3708601001",
                  "2017 Income": "9905",
                  "2016 Income": "9789",
                  "2015 Income": "0",
                  "Global": "19694",
                  "_deepnote_index_column": 39701
                },
                {
                  "Index": "2812301044",
                  "2017 Income": "12776",
                  "2016 Income": "0",
                  "2015 Income": "0",
                  "Global": "12776",
                  "_deepnote_index_column": 31020
                },
                {
                  "Index": "4806902003",
                  "2017 Income": "24483",
                  "2016 Income": "22557",
                  "2015 Income": "0",
                  "Global": "47040",
                  "_deepnote_index_column": 52310
                }
              ]
            },
            "text/plain": "            Index  2017 Income  2016 Income  2015 Income  Global\n0           01001        13281        13086        12936   39303\n4           01002        13862        13691        13800   41353\n13          01003        16177        17194        15786   49157\n16          01004        12530        13185        12722   38437\n19          01006        13115        11330        13040   37485\n...           ...          ...          ...          ...     ...\n55082  5200108011        16433        16373        15847   48653\n55083  5200108012        17350        17185        16792   51327\n55084  5200108013        12553        12705        11823   37081\n55085  5200108014         8906         8872         8937   26715\n55086  5200108015        12314        12296        11813   36423\n\n[50936 rows x 5 columns]",
            "text/html": "<div>\n<style scoped>\n    .dataframe tbody tr th:only-of-type {\n        vertical-align: middle;\n    }\n\n    .dataframe tbody tr th {\n        vertical-align: top;\n    }\n\n    .dataframe thead th {\n        text-align: right;\n    }\n</style>\n<table border=\"1\" class=\"dataframe\">\n  <thead>\n    <tr style=\"text-align: right;\">\n      <th></th>\n      <th>Index</th>\n      <th>2017 Income</th>\n      <th>2016 Income</th>\n      <th>2015 Income</th>\n      <th>Global</th>\n    </tr>\n  </thead>\n  <tbody>\n    <tr>\n      <th>0</th>\n      <td>01001</td>\n      <td>13281</td>\n      <td>13086</td>\n      <td>12936</td>\n      <td>39303</td>\n    </tr>\n    <tr>\n      <th>4</th>\n      <td>01002</td>\n      <td>13862</td>\n      <td>13691</td>\n      <td>13800</td>\n      <td>41353</td>\n    </tr>\n    <tr>\n      <th>13</th>\n      <td>01003</td>\n      <td>16177</td>\n      <td>17194</td>\n      <td>15786</td>\n      <td>49157</td>\n    </tr>\n    <tr>\n      <th>16</th>\n      <td>01004</td>\n      <td>12530</td>\n      <td>13185</td>\n      <td>12722</td>\n      <td>38437</td>\n    </tr>\n    <tr>\n      <th>19</th>\n      <td>01006</td>\n      <td>13115</td>\n      <td>11330</td>\n      <td>13040</td>\n      <td>37485</td>\n    </tr>\n    <tr>\n      <th>...</th>\n      <td>...</td>\n      <td>...</td>\n      <td>...</td>\n      <td>...</td>\n      <td>...</td>\n    </tr>\n    <tr>\n      <th>55082</th>\n      <td>5200108011</td>\n      <td>16433</td>\n      <td>16373</td>\n      <td>15847</td>\n      <td>48653</td>\n    </tr>\n    <tr>\n      <th>55083</th>\n      <td>5200108012</td>\n      <td>17350</td>\n      <td>17185</td>\n      <td>16792</td>\n      <td>51327</td>\n    </tr>\n    <tr>\n      <th>55084</th>\n      <td>5200108013</td>\n      <td>12553</td>\n      <td>12705</td>\n      <td>11823</td>\n      <td>37081</td>\n    </tr>\n    <tr>\n      <th>55085</th>\n      <td>5200108014</td>\n      <td>8906</td>\n      <td>8872</td>\n      <td>8937</td>\n      <td>26715</td>\n    </tr>\n    <tr>\n      <th>55086</th>\n      <td>5200108015</td>\n      <td>12314</td>\n      <td>12296</td>\n      <td>11813</td>\n      <td>36423</td>\n    </tr>\n  </tbody>\n</table>\n<p>50936 rows × 5 columns</p>\n</div>"
          },
          "metadata": {}
        }
      ],
      "execution_count": 9,
      "block_group": "85f70d03b9ca48148ed426195b3f49c1"
    },
    {
      "cell_type": "code",
      "source": "#Create our df using geopandas\nzonas_operador = gpd.read_file('/work/GPX programing test/zonas_operador.geojson')\nprint(zonas_operador.info(), '\\n \\n')\nprint(zonas_operador.head(10))",
      "metadata": {
        "source_hash": "3f6f9f23",
        "execution_start": 1696408325512,
        "execution_millis": 424,
        "deepnote_table_state": {
          "sortBy": [
            {
              "id": "Index",
              "type": "asc"
            }
          ],
          "filters": [],
          "pageSize": 10,
          "pageIndex": 0
        },
        "deepnote_table_loading": false,
        "deepnote_app_coordinates": {
          "h": 5,
          "w": 12,
          "x": 0,
          "y": 0
        },
        "deepnote_to_be_reexecuted": false,
        "cell_id": "99f0b20cac9549e5bdb38a2523eff586",
        "deepnote_cell_type": "code"
      },
      "outputs": [
        {
          "name": "stdout",
          "text": "<class 'geopandas.geodataframe.GeoDataFrame'>\nRangeIndex: 113 entries, 0 to 112\nData columns (total 10 columns):\n #   Column      Non-Null Count  Dtype   \n---  ------      --------------  -----   \n 0   Index       113 non-null    int64   \n 1   Coloration  113 non-null    int64   \n 2   C0          113 non-null    float64 \n 3   C1          113 non-null    float64 \n 4   ZE          113 non-null    object  \n 5   Surface     113 non-null    float64 \n 6   TauxConcav  113 non-null    float64 \n 7   Lac-CellId  113 non-null    object  \n 8   Population  113 non-null    object  \n 9   geometry    113 non-null    geometry\ndtypes: float64(4), geometry(1), int64(2), object(3)\nmemory usage: 9.0+ KB\nNone \n \n\n   Index  Coloration        C0        C1      ZE  Surface  TauxConcav  \\\n0  10113         246  0.614314  0.154390  10113;     4.10    0.147437   \n1  10115         248  0.721709  0.260285  10115;     0.80    0.122245   \n2  10114         247  0.572262  0.343758  10114;     0.51    0.122252   \n3  10125           5  0.714224  0.389354  10125;     0.63    0.156815   \n4  10124           4  0.609474  0.241052  10124;     1.31    0.354716   \n5  10127           7  0.651184  0.425884  10127;     0.93    0.239966   \n6  10126           6  0.827674  0.392603  10126;     1.11    0.073698   \n7  10121           1  0.793586  0.364918  10121;     0.83    0.163104   \n8  10120         253  0.638487  0.323312  10120;     0.46    0.042987   \n9  10123           3  0.736716  0.395433  10123;     0.66    0.000112   \n\n                                          Lac-CellId Population  \\\n0  13957-33620;797-36019;58001-36012;31327-33638;...      17520   \n1  59836-36012;37429-36012;59405-36012;37365-3601...      38090   \n2  60258-36012;58096-36012;54862-36012;54888-3353...      22000   \n3  37440-36012;58432-36012;43282-33625;1829-36013...      22923   \n4  37588-36012;55043-36012;39647-36012;4115-36013...      14739   \n5  60430-36012;59368-36012;37661-36012;2121-36013...       9265   \n6  58149-36012;1699-36013;59643-36012;39123-36012...      22296   \n7  37571-36012;48273-36012;59998-33536;61897-3353...      16731   \n8  54482-36012;55013-36012;55715-36012;37443-3601...      24025   \n9  1693-36013;62304-36012;31899-33536;1694-36013;...      22775   \n\n                                            geometry  \n0  MULTIPOLYGON (((2.15650 41.35266, 2.15465 41.3...  \n1  MULTIPOLYGON (((2.16467 41.37754, 2.16785 41.3...  \n2  MULTIPOLYGON (((2.17640 41.37302, 2.17385 41.3...  \n3  MULTIPOLYGON (((2.18313 41.37160, 2.18208 41.3...  \n4  MULTIPOLYGON (((2.18690 41.36149, 2.18541 41.3...  \n5  MULTIPOLYGON (((2.20007 41.38518, 2.19973 41.3...  \n6  MULTIPOLYGON (((2.18360 41.38127, 2.18247 41.3...  \n7  MULTIPOLYGON (((2.18503 41.37673, 2.18286 41.3...  \n8  MULTIPOLYGON (((2.16575 41.37864, 2.16467 41.3...  \n9  MULTIPOLYGON (((2.16413 41.38631, 2.15858 41.3...  \n",
          "output_type": "stream"
        }
      ],
      "execution_count": 10,
      "block_group": "765c77b01e8b4213a778ffc0dd622c70"
    },
    {
      "cell_type": "code",
      "source": "# Apply our function to get the centroides and create a new column with them\nzonas_operador['centroide'] = zonas_operador.apply(calcular_centroide, axis=1)\n\n#Taking only in consideration usefull columns\nzonas_operador = zonas_operador[['Index', 'Population','centroide']]\nzonas_operador.Index = zonas_operador.Index.astype('object')\n\n\n#Check if is alredy done\nzonas_operador",
      "metadata": {
        "source_hash": "55991f45",
        "execution_start": 1696408329101,
        "execution_millis": 268,
        "deepnote_table_state": {
          "sortBy": [],
          "filters": [],
          "pageSize": 10,
          "pageIndex": 0
        },
        "deepnote_table_loading": false,
        "deepnote_app_coordinates": {
          "h": 5,
          "w": 12,
          "x": 0,
          "y": 0
        },
        "deepnote_to_be_reexecuted": false,
        "cell_id": "a84f7a07636749ddb12b59cfe9d9ab3e",
        "deepnote_cell_type": "code"
      },
      "outputs": [
        {
          "output_type": "execute_result",
          "execution_count": 11,
          "data": {
            "application/vnd.deepnote.dataframe.v3+json": {
              "column_count": 3,
              "row_count": 113,
              "columns": [
                {
                  "name": "Index",
                  "dtype": "object",
                  "stats": {
                    "unique_count": 113,
                    "nan_count": 0,
                    "categories": [
                      {
                        "name": "10113",
                        "count": 1
                      },
                      {
                        "name": "10115",
                        "count": 1
                      },
                      {
                        "name": "111 others",
                        "count": 111
                      }
                    ]
                  }
                },
                {
                  "name": "Population",
                  "dtype": "object",
                  "stats": {
                    "unique_count": 113,
                    "nan_count": 0,
                    "categories": [
                      {
                        "name": "17520",
                        "count": 1
                      },
                      {
                        "name": "38090",
                        "count": 1
                      },
                      {
                        "name": "111 others",
                        "count": 111
                      }
                    ]
                  }
                },
                {
                  "name": "centroide",
                  "dtype": "object",
                  "stats": {
                    "unique_count": 113,
                    "nan_count": 0,
                    "categories": [
                      {
                        "name": "(2.1569322495068772, 41.36446822555657)",
                        "count": 1
                      },
                      {
                        "name": "(2.159359923207574, 41.37853652453478)",
                        "count": 1
                      },
                      {
                        "name": "111 others",
                        "count": 111
                      }
                    ]
                  }
                },
                {
                  "name": "_deepnote_index_column",
                  "dtype": "int64"
                }
              ],
              "rows": [
                {
                  "Index": "10113",
                  "Population": "17520",
                  "centroide": "(2.1569322495068772, 41.36446822555657)",
                  "_deepnote_index_column": 0
                },
                {
                  "Index": "10115",
                  "Population": "38090",
                  "centroide": "(2.159359923207574, 41.37853652453478)",
                  "_deepnote_index_column": 1
                },
                {
                  "Index": "10114",
                  "Population": "22000",
                  "centroide": "(2.1688545577838925, 41.373011178875345)",
                  "_deepnote_index_column": 2
                },
                {
                  "Index": "10125",
                  "Population": "22923",
                  "centroide": "(2.172905132941295, 41.376540848891736)",
                  "_deepnote_index_column": 3
                },
                {
                  "Index": "10124",
                  "Population": "14739",
                  "centroide": "(2.190197608860213, 41.377349237279056)",
                  "_deepnote_index_column": 4
                },
                {
                  "Index": "10127",
                  "Population": "9265",
                  "centroide": "(2.196746635304167, 41.39078824818179)",
                  "_deepnote_index_column": 5
                },
                {
                  "Index": "10126",
                  "Population": "22296",
                  "centroide": "(2.1834249774295413, 41.38680404482177)",
                  "_deepnote_index_column": 6
                },
                {
                  "Index": "10121",
                  "Population": "16731",
                  "centroide": "(2.177436648214058, 41.38115370505237)",
                  "_deepnote_index_column": 7
                },
                {
                  "Index": "10120",
                  "Population": "24025",
                  "centroide": "(2.1672311768886736, 41.38224945333623)",
                  "_deepnote_index_column": 8
                },
                {
                  "Index": "10123",
                  "Population": "22775",
                  "centroide": "(2.158521773893073, 41.387293757064114)",
                  "_deepnote_index_column": 9
                }
              ]
            },
            "text/plain": "     Index Population                                 centroide\n0    10113      17520   (2.1569322495068772, 41.36446822555657)\n1    10115      38090    (2.159359923207574, 41.37853652453478)\n2    10114      22000  (2.1688545577838925, 41.373011178875345)\n3    10125      22923   (2.172905132941295, 41.376540848891736)\n4    10124      14739   (2.190197608860213, 41.377349237279056)\n..     ...        ...                                       ...\n108   1102      91083      (2.03636781029606, 41.3430572426467)\n109   1159      66168   (2.032205213860239, 41.302976277777645)\n110    949      46705  (1.9837474451185597, 41.294668219954396)\n111    880       6961   (1.9015356228294058, 41.31860011293308)\n112    914      65612   (1.9257313463188863, 41.45646969240692)\n\n[113 rows x 3 columns]",
            "text/html": "<div>\n<style scoped>\n    .dataframe tbody tr th:only-of-type {\n        vertical-align: middle;\n    }\n\n    .dataframe tbody tr th {\n        vertical-align: top;\n    }\n\n    .dataframe thead th {\n        text-align: right;\n    }\n</style>\n<table border=\"1\" class=\"dataframe\">\n  <thead>\n    <tr style=\"text-align: right;\">\n      <th></th>\n      <th>Index</th>\n      <th>Population</th>\n      <th>centroide</th>\n    </tr>\n  </thead>\n  <tbody>\n    <tr>\n      <th>0</th>\n      <td>10113</td>\n      <td>17520</td>\n      <td>(2.1569322495068772, 41.36446822555657)</td>\n    </tr>\n    <tr>\n      <th>1</th>\n      <td>10115</td>\n      <td>38090</td>\n      <td>(2.159359923207574, 41.37853652453478)</td>\n    </tr>\n    <tr>\n      <th>2</th>\n      <td>10114</td>\n      <td>22000</td>\n      <td>(2.1688545577838925, 41.373011178875345)</td>\n    </tr>\n    <tr>\n      <th>3</th>\n      <td>10125</td>\n      <td>22923</td>\n      <td>(2.172905132941295, 41.376540848891736)</td>\n    </tr>\n    <tr>\n      <th>4</th>\n      <td>10124</td>\n      <td>14739</td>\n      <td>(2.190197608860213, 41.377349237279056)</td>\n    </tr>\n    <tr>\n      <th>...</th>\n      <td>...</td>\n      <td>...</td>\n      <td>...</td>\n    </tr>\n    <tr>\n      <th>108</th>\n      <td>1102</td>\n      <td>91083</td>\n      <td>(2.03636781029606, 41.3430572426467)</td>\n    </tr>\n    <tr>\n      <th>109</th>\n      <td>1159</td>\n      <td>66168</td>\n      <td>(2.032205213860239, 41.302976277777645)</td>\n    </tr>\n    <tr>\n      <th>110</th>\n      <td>949</td>\n      <td>46705</td>\n      <td>(1.9837474451185597, 41.294668219954396)</td>\n    </tr>\n    <tr>\n      <th>111</th>\n      <td>880</td>\n      <td>6961</td>\n      <td>(1.9015356228294058, 41.31860011293308)</td>\n    </tr>\n    <tr>\n      <th>112</th>\n      <td>914</td>\n      <td>65612</td>\n      <td>(1.9257313463188863, 41.45646969240692)</td>\n    </tr>\n  </tbody>\n</table>\n<p>113 rows × 3 columns</p>\n</div>"
          },
          "metadata": {}
        }
      ],
      "execution_count": 11,
      "block_group": "ea9f9b2997b94859b41cc25db7223e2b"
    },
    {
      "cell_type": "code",
      "source": "#As always, create our df\nzonas_censales_ine = gpd.read_file('/work/GPX programing test/zonas_censales_ine.json')\n\nprint(zonas_censales_ine.info(), '\\n \\n')\nprint(zonas_censales_ine.head(10))",
      "metadata": {
        "source_hash": "fdf60916",
        "execution_start": 1696408332432,
        "execution_millis": 3544,
        "deepnote_table_state": {
          "sortBy": [],
          "filters": [],
          "pageSize": 10,
          "pageIndex": 0
        },
        "deepnote_table_loading": false,
        "deepnote_app_coordinates": {
          "h": 5,
          "w": 12,
          "x": 0,
          "y": 0
        },
        "deepnote_to_be_reexecuted": false,
        "cell_id": "b110bd78af444325ba7f91aa4f43c09e",
        "deepnote_cell_type": "code"
      },
      "outputs": [
        {
          "name": "stdout",
          "text": "<class 'geopandas.geodataframe.GeoDataFrame'>\nRangeIndex: 36309 entries, 0 to 36308\nData columns (total 21 columns):\n #   Column      Non-Null Count  Dtype   \n---  ------      --------------  -----   \n 0   CUSEC       36309 non-null  object  \n 1   CUMUN       36309 non-null  object  \n 2   CSEC        36309 non-null  object  \n 3   CDIS        36309 non-null  object  \n 4   CMUN        36309 non-null  object  \n 5   CPRO        36309 non-null  object  \n 6   CCA         36309 non-null  object  \n 7   CUDIS       36309 non-null  object  \n 8   CLAU2       36309 non-null  object  \n 9   NPRO        36309 non-null  object  \n 10  NCA         36309 non-null  object  \n 11  CNUT0       36309 non-null  object  \n 12  CNUT1       36309 non-null  object  \n 13  CNUT2       36309 non-null  object  \n 14  CNUT3       36309 non-null  object  \n 15  ESTADO      36309 non-null  object  \n 16  OBS         36309 non-null  object  \n 17  NMUN        36309 non-null  object  \n 18  Shape_Leng  36309 non-null  float64 \n 19  Shape_Area  36309 non-null  float64 \n 20  geometry    36309 non-null  geometry\ndtypes: float64(2), geometry(1), object(18)\nmemory usage: 5.8+ MB\nNone \n \n\n        CUSEC  CUMUN CSEC CDIS CMUN CPRO CCA    CUDIS  CLAU2         NPRO  \\\n0  0100901001  01009  001   01  009   01  16  0100901  01009  Araba/Álava   \n1  0101001002  01010  002   01  010   01  16  0101001  01010  Araba/Álava   \n2  0103101001  01031  001   01  031   01  16  0103101  01031  Araba/Álava   \n3  0103301001  01033  001   01  033   01  16  0103301  01033  Araba/Álava   \n4  0103701001  01037  001   01  037   01  16  0103701  01037  Araba/Álava   \n5  0104101001  01041  001   01  041   01  16  0104101  01041  Araba/Álava   \n6  0100801001  01008  001   01  008   01  16  0100801  01008  Araba/Álava   \n7  0101001001  01010  001   01  010   01  16  0101001  01010  Araba/Álava   \n8  0103001001  01030  001   01  030   01  16  0103001  01030  Araba/Álava   \n9  0103201001  01032  001   01  032   01  16  0103201  01032  Araba/Álava   \n\n   ... CNUT0 CNUT1 CNUT2 CNUT3 ESTADO OBS                 NMUN    Shape_Leng  \\\n0  ...    ES     2     1     1      I                Asparrena  51725.353538   \n1  ...    ES     2     1     1      I              Ayala/Aiara  13350.774728   \n2  ...    ES     2     1     1      I                Laguardia  87711.717051   \n3  ...    ES     2     1     1      I      Lapuebla de Labarca  12331.494377   \n4  ...    ES     2     1     1      I            Arraia-Maeztu  60761.315212   \n5  ...    ES     2     1     1      I                Navaridas  12067.798424   \n6  ...    ES     2     1     1      I      Arratzua-Ubarrundia  65823.133803   \n7  ...    ES     2     1     1      I              Ayala/Aiara  61692.582650   \n8  ...    ES     2     1     1      I                   Lagrán  43244.851350   \n9  ...    ES     2     1     1      I       Lanciego/Lantziego  27057.481289   \n\n     Shape_Area                                           geometry  \n0  6.326080e+07  MULTIPOLYGON (((-2.25069 42.89550, -2.31610 42...  \n1  7.332951e+06  POLYGON ((-2.97499 43.09904, -3.01602 43.11833...  \n2  8.041601e+07  MULTIPOLYGON (((-2.52467 42.61471, -2.55285 42...  \n3  5.950453e+06  POLYGON ((-2.54903 42.48445, -2.57448 42.50752...  \n4  1.227207e+08  POLYGON ((-2.36929 42.80425, -2.40900 42.80644...  \n5  8.983918e+06  POLYGON ((-2.61692 42.55443, -2.64668 42.55097...  \n6  5.752654e+07  POLYGON ((-2.55108 42.95891, -2.59649 42.97628...  \n7  1.335313e+08  POLYGON ((-3.07469 43.14643, -3.10886 43.14338...  \n8  4.841174e+07  POLYGON ((-2.66793 42.59240, -2.55285 42.60823...  \n9  2.416839e+07  POLYGON ((-2.49064 42.58533, -2.52230 42.56995...  \n\n[10 rows x 21 columns]\n",
          "output_type": "stream"
        }
      ],
      "execution_count": 12,
      "block_group": "fc3ead59a66f4cf980a1d9a8241cff7e"
    },
    {
      "cell_type": "code",
      "source": "#Create an interactive df, take in consideration here I am using deepnote which allows me this feature\n\nzonas_censales_ine",
      "metadata": {
        "source_hash": "6985f3d8",
        "execution_start": 1696408338319,
        "execution_millis": 266,
        "deepnote_table_state": {
          "sortBy": [],
          "filters": [
            {
              "id": "NCA",
              "type": "contains",
              "value": ""
            }
          ],
          "pageSize": 10,
          "pageIndex": 0
        },
        "deepnote_table_loading": false,
        "deepnote_app_coordinates": {
          "h": 5,
          "w": 12,
          "x": 0,
          "y": 0
        },
        "deepnote_to_be_reexecuted": false,
        "cell_id": "dd07ecf4da4c48339593e30772917868",
        "deepnote_cell_type": "code"
      },
      "outputs": [
        {
          "output_type": "execute_result",
          "execution_count": 13,
          "data": {
            "application/vnd.deepnote.dataframe.v3+json": {
              "column_count": 21,
              "row_count": 11,
              "columns": [
                {
                  "name": "CUSEC",
                  "dtype": "object",
                  "stats": {
                    "unique_count": 11,
                    "nan_count": 0,
                    "categories": [
                      {
                        "name": "0517001001",
                        "count": 1
                      },
                      {
                        "name": "0937801001",
                        "count": 1
                      },
                      {
                        "name": "9 others",
                        "count": 9
                      }
                    ]
                  }
                },
                {
                  "name": "CUMUN",
                  "dtype": "object",
                  "stats": {
                    "unique_count": 11,
                    "nan_count": 0,
                    "categories": [
                      {
                        "name": "05170",
                        "count": 1
                      },
                      {
                        "name": "09378",
                        "count": 1
                      },
                      {
                        "name": "9 others",
                        "count": 9
                      }
                    ]
                  }
                },
                {
                  "name": "CSEC",
                  "dtype": "object",
                  "stats": {
                    "unique_count": 1,
                    "nan_count": 0,
                    "categories": [
                      {
                        "name": "001",
                        "count": 11
                      }
                    ]
                  }
                },
                {
                  "name": "CDIS",
                  "dtype": "object",
                  "stats": {
                    "unique_count": 1,
                    "nan_count": 0,
                    "categories": [
                      {
                        "name": "01",
                        "count": 11
                      }
                    ]
                  }
                },
                {
                  "name": "CMUN",
                  "dtype": "object",
                  "stats": {
                    "unique_count": 11,
                    "nan_count": 0,
                    "categories": [
                      {
                        "name": "170",
                        "count": 1
                      },
                      {
                        "name": "378",
                        "count": 1
                      },
                      {
                        "name": "9 others",
                        "count": 9
                      }
                    ]
                  }
                },
                {
                  "name": "CPRO",
                  "dtype": "object",
                  "stats": {
                    "unique_count": 10,
                    "nan_count": 0,
                    "categories": [
                      {
                        "name": "37",
                        "count": 2
                      },
                      {
                        "name": "05",
                        "count": 1
                      },
                      {
                        "name": "8 others",
                        "count": 8
                      }
                    ]
                  }
                },
                {
                  "name": "CCA",
                  "dtype": "object",
                  "stats": {
                    "unique_count": 5,
                    "nan_count": 0,
                    "categories": [
                      {
                        "name": "07",
                        "count": 7
                      },
                      {
                        "name": "11",
                        "count": 1
                      },
                      {
                        "name": "3 others",
                        "count": 3
                      }
                    ]
                  }
                },
                {
                  "name": "CUDIS",
                  "dtype": "object",
                  "stats": {
                    "unique_count": 11,
                    "nan_count": 0,
                    "categories": [
                      {
                        "name": "0517001",
                        "count": 1
                      },
                      {
                        "name": "0937801",
                        "count": 1
                      },
                      {
                        "name": "9 others",
                        "count": 9
                      }
                    ]
                  }
                },
                {
                  "name": "CLAU2",
                  "dtype": "object",
                  "stats": {
                    "unique_count": 11,
                    "nan_count": 0,
                    "categories": [
                      {
                        "name": "05170",
                        "count": 1
                      },
                      {
                        "name": "09378",
                        "count": 1
                      },
                      {
                        "name": "9 others",
                        "count": 9
                      }
                    ]
                  }
                },
                {
                  "name": "NPRO",
                  "dtype": "object",
                  "stats": {
                    "unique_count": 10,
                    "nan_count": 0,
                    "categories": [
                      {
                        "name": "Salamanca",
                        "count": 2
                      },
                      {
                        "name": "Ávila",
                        "count": 1
                      },
                      {
                        "name": "8 others",
                        "count": 8
                      }
                    ]
                  }
                },
                {
                  "name": "NCA",
                  "dtype": "object",
                  "stats": {
                    "unique_count": 5,
                    "nan_count": 0,
                    "categories": [
                      {
                        "name": "Castilla y León",
                        "count": 7
                      },
                      {
                        "name": "Extremadura",
                        "count": 1
                      },
                      {
                        "name": "3 others",
                        "count": 3
                      }
                    ]
                  }
                },
                {
                  "name": "CNUT0",
                  "dtype": "object",
                  "stats": {
                    "unique_count": 1,
                    "nan_count": 0,
                    "categories": [
                      {
                        "name": "ES",
                        "count": 11
                      }
                    ]
                  }
                },
                {
                  "name": "CNUT1",
                  "dtype": "object",
                  "stats": {
                    "unique_count": 3,
                    "nan_count": 0,
                    "categories": [
                      {
                        "name": "4",
                        "count": 9
                      },
                      {
                        "name": "3",
                        "count": 1
                      },
                      {
                        "name": "6",
                        "count": 1
                      }
                    ]
                  }
                },
                {
                  "name": "CNUT2",
                  "dtype": "object",
                  "stats": {
                    "unique_count": 4,
                    "nan_count": 0,
                    "categories": [
                      {
                        "name": "1",
                        "count": 8
                      },
                      {
                        "name": "3",
                        "count": 1
                      },
                      {
                        "name": "2 others",
                        "count": 2
                      }
                    ]
                  }
                },
                {
                  "name": "CNUT3",
                  "dtype": "object",
                  "stats": {
                    "unique_count": 7,
                    "nan_count": 0,
                    "categories": [
                      {
                        "name": "2",
                        "count": 2
                      },
                      {
                        "name": "3",
                        "count": 2
                      },
                      {
                        "name": "5 others",
                        "count": 7
                      }
                    ]
                  }
                },
                {
                  "name": "ESTADO",
                  "dtype": "object",
                  "stats": {
                    "unique_count": 1,
                    "nan_count": 0,
                    "categories": [
                      {
                        "name": "I",
                        "count": 11
                      }
                    ]
                  }
                },
                {
                  "name": "OBS",
                  "dtype": "object",
                  "stats": {
                    "unique_count": 1,
                    "nan_count": 0,
                    "categories": [
                      {
                        "name": "",
                        "count": 11
                      }
                    ]
                  }
                },
                {
                  "name": "NMUN",
                  "dtype": "object",
                  "stats": {
                    "unique_count": 11,
                    "nan_count": 0,
                    "categories": [
                      {
                        "name": "Navatejares",
                        "count": 1
                      },
                      {
                        "name": "Tejada",
                        "count": 1
                      },
                      {
                        "name": "9 others",
                        "count": 9
                      }
                    ]
                  }
                },
                {
                  "name": "Shape_Leng",
                  "dtype": "float64",
                  "stats": {
                    "unique_count": 11,
                    "nan_count": 0,
                    "min": "11285.1056959",
                    "max": "53116.1777917",
                    "histogram": [
                      {
                        "bin_start": 11285.1056959,
                        "bin_end": 15468.212905479999,
                        "count": 2
                      },
                      {
                        "bin_start": 15468.212905479999,
                        "bin_end": 19651.32011506,
                        "count": 0
                      },
                      {
                        "bin_start": 19651.32011506,
                        "bin_end": 23834.427324639997,
                        "count": 1
                      },
                      {
                        "bin_start": 23834.427324639997,
                        "bin_end": 28017.53453422,
                        "count": 1
                      },
                      {
                        "bin_start": 28017.53453422,
                        "bin_end": 32200.6417438,
                        "count": 0
                      },
                      {
                        "bin_start": 32200.6417438,
                        "bin_end": 36383.748953379996,
                        "count": 2
                      },
                      {
                        "bin_start": 36383.748953379996,
                        "bin_end": 40566.85616296,
                        "count": 1
                      },
                      {
                        "bin_start": 40566.85616296,
                        "bin_end": 44749.96337254,
                        "count": 1
                      },
                      {
                        "bin_start": 44749.96337254,
                        "bin_end": 48933.070582119995,
                        "count": 1
                      },
                      {
                        "bin_start": 48933.070582119995,
                        "bin_end": 53116.1777917,
                        "count": 2
                      }
                    ]
                  }
                },
                {
                  "name": "Shape_Area",
                  "dtype": "float64",
                  "stats": {
                    "unique_count": 11,
                    "nan_count": 0,
                    "min": "5975990.70436",
                    "max": "111877368.295",
                    "histogram": [
                      {
                        "bin_start": 5975990.70436,
                        "bin_end": 16566128.463424,
                        "count": 2
                      },
                      {
                        "bin_start": 16566128.463424,
                        "bin_end": 27156266.222488,
                        "count": 2
                      },
                      {
                        "bin_start": 27156266.222488,
                        "bin_end": 37746403.981552,
                        "count": 2
                      },
                      {
                        "bin_start": 37746403.981552,
                        "bin_end": 48336541.740616,
                        "count": 1
                      },
                      {
                        "bin_start": 48336541.740616,
                        "bin_end": 58926679.499680005,
                        "count": 0
                      },
                      {
                        "bin_start": 58926679.499680005,
                        "bin_end": 69516817.258744,
                        "count": 1
                      },
                      {
                        "bin_start": 69516817.258744,
                        "bin_end": 80106955.01780799,
                        "count": 2
                      },
                      {
                        "bin_start": 80106955.01780799,
                        "bin_end": 90697092.776872,
                        "count": 0
                      },
                      {
                        "bin_start": 90697092.776872,
                        "bin_end": 101287230.535936,
                        "count": 0
                      },
                      {
                        "bin_start": 101287230.535936,
                        "bin_end": 111877368.295,
                        "count": 1
                      }
                    ]
                  }
                },
                {
                  "name": "geometry",
                  "dtype": "geometry",
                  "stats": {
                    "unique_count": 11,
                    "nan_count": 0,
                    "categories": [
                      {
                        "name": "POLYGON ((-5.521915937153006 40.33641864500149, -5.534539653018822 40.344402613067835, -5.554361664112231 40.32466257974474, -5.560746496528867 40.302713485258614, -5.526310747964044 40.308128348540684, -5.5139292297912705 40.33055736331103, -5.521915937153006 40.33641864500149))",
                        "count": 1
                      },
                      {
                        "name": "POLYGON ((-3.5016076531441263 41.96180536125204, -3.5555980662873754 41.97157325005887, -3.5889700734192136 41.96766967371051, -3.572272696821618 41.941273508079824, -3.573018541760311 41.92889431493427, -3.512791737246632 41.94490412687519, -3.5016076531441263 41.96180536125204))",
                        "count": 1
                      },
                      {
                        "name": "9 others",
                        "count": 9
                      }
                    ]
                  }
                },
                {
                  "name": "_deepnote_index_column",
                  "dtype": "int64"
                }
              ],
              "rows": [
                {
                  "CUSEC": "0517001001",
                  "CUMUN": "05170",
                  "CSEC": "001",
                  "CDIS": "01",
                  "CMUN": "170",
                  "CPRO": "05",
                  "CCA": "07",
                  "CUDIS": "0517001",
                  "CLAU2": "05170",
                  "NPRO": "Ávila",
                  "NCA": "Castilla y León",
                  "CNUT0": "ES",
                  "CNUT1": "4",
                  "CNUT2": "1",
                  "CNUT3": "1",
                  "ESTADO": "I",
                  "OBS": "",
                  "NMUN": "Navatejares",
                  "Shape_Leng": 13798.4226763,
                  "Shape_Area": 11083743.5301,
                  "geometry": "POLYGON ((-5.521915937153006 40.33641864500149, -5.534539653018822 40.344402613067835, -5.554361664112231 40.32466257974474, -5.560746496528867 40.302713485258614, -5.526310747964044 40.308128348540684, -5.5139292297912705 40.33055736331103, -5.521915937153006 40.33641864500149))",
                  "_deepnote_index_column": 2257
                },
                {
                  "CUSEC": "0937801001",
                  "CUMUN": "09378",
                  "CSEC": "001",
                  "CDIS": "01",
                  "CMUN": "378",
                  "CPRO": "09",
                  "CCA": "07",
                  "CUDIS": "0937801",
                  "CLAU2": "09378",
                  "NPRO": "Burgos",
                  "NCA": "Castilla y León",
                  "CNUT0": "ES",
                  "CNUT1": "4",
                  "CNUT2": "1",
                  "CNUT3": "2",
                  "ESTADO": "I",
                  "OBS": "",
                  "NMUN": "Tejada",
                  "Shape_Leng": 25256.9616519,
                  "Shape_Area": 22728175.0405,
                  "geometry": "POLYGON ((-3.5016076531441263 41.96180536125204, -3.5555980662873754 41.97157325005887, -3.5889700734192136 41.96766967371051, -3.572272696821618 41.941273508079824, -3.573018541760311 41.92889431493427, -3.512791737246632 41.94490412687519, -3.5016076531441263 41.96180536125204))",
                  "_deepnote_index_column": 7127
                },
                {
                  "CUSEC": "1005801001",
                  "CUMUN": "10058",
                  "CSEC": "001",
                  "CDIS": "01",
                  "CMUN": "058",
                  "CPRO": "10",
                  "CCA": "11",
                  "CUDIS": "1005801",
                  "CLAU2": "10058",
                  "NPRO": "Cáceres",
                  "NCA": "Extremadura",
                  "CNUT0": "ES",
                  "CNUT1": "4",
                  "CNUT2": "3",
                  "CNUT3": "2",
                  "ESTADO": "I",
                  "OBS": "",
                  "NMUN": "Casatejada",
                  "Shape_Leng": 53116.1777917,
                  "Shape_Area": 111877368.295,
                  "geometry": "POLYGON ((-5.648417114414457 39.973926125690795, -5.646171626305351 40.01432472674175, -5.691761369380982 39.983763840489964, -5.705166104344526 39.97923586761428, -5.719258787451041 39.972014667950276, -5.748724419240787 39.91347867955834, -5.750639996785389 39.868374585543094, -5.634637171558326 39.88731990573678, -5.648417114414457 39.973926125690795))",
                  "_deepnote_index_column": 7390
                },
                {
                  "CUSEC": "1620501001",
                  "CUMUN": "16205",
                  "CSEC": "001",
                  "CDIS": "01",
                  "CMUN": "205",
                  "CPRO": "16",
                  "CCA": "08",
                  "CUDIS": "1620501",
                  "CLAU2": "16205",
                  "NPRO": "Cuenca",
                  "NCA": "Castilla-La Mancha",
                  "CNUT0": "ES",
                  "CNUT1": "4",
                  "CNUT2": "2",
                  "CNUT3": "3",
                  "ESTADO": "I",
                  "OBS": "",
                  "NMUN": "Tejadillos",
                  "Shape_Leng": 33880.5929821,
                  "Shape_Area": 63253780.5966,
                  "geometry": "POLYGON ((-1.5493752811783932 40.148861509896115, -1.6237575131295328 40.1769414332589, -1.6718407027077582 40.14926881456788, -1.6606750077517858 40.11581525673999, -1.6283446471372731 40.090787586189116, -1.5897629835289222 40.0959547405135, -1.5482792051038712 40.12589266287914, -1.5493752811783932 40.148861509896115))",
                  "_deepnote_index_column": 10310
                },
                {
                  "CUSEC": "2405501001",
                  "CUMUN": "24055",
                  "CSEC": "001",
                  "CDIS": "01",
                  "CMUN": "055",
                  "CPRO": "24",
                  "CCA": "07",
                  "CUDIS": "2405501",
                  "CLAU2": "24055",
                  "NPRO": "León",
                  "NCA": "Castilla y León",
                  "CNUT0": "ES",
                  "CNUT1": "4",
                  "CNUT2": "1",
                  "CNUT3": "3",
                  "ESTADO": "I",
                  "OBS": "",
                  "NMUN": "Cimanes del Tejar",
                  "Shape_Leng": 50856.1236853,
                  "Shape_Area": 73976165.0683,
                  "geometry": "POLYGON ((-5.741040851394 42.630667482776275, -5.820210191418025 42.68193662895964, -5.827648674482156 42.65650347852107, -5.809884008335258 42.60824227397344, -5.837263209655281 42.55021454133427, -5.837940621032342 42.5460825168697, -5.822018022332978 42.53514767293297, -5.7465401441004245 42.5704633817273, -5.731672991826197 42.615844025672864, -5.741040851394 42.630667482776275))",
                  "_deepnote_index_column": 13470
                },
                {
                  "CUSEC": "2812201001",
                  "CUMUN": "28122",
                  "CSEC": "001",
                  "CDIS": "01",
                  "CMUN": "122",
                  "CPRO": "28",
                  "CCA": "13",
                  "CUDIS": "2812201",
                  "CLAU2": "28122",
                  "NPRO": "Madrid",
                  "NCA": "Comunidad de Madrid",
                  "CNUT0": "ES",
                  "CNUT1": "3",
                  "CNUT2": "0",
                  "CNUT3": "0",
                  "ESTADO": "I",
                  "OBS": "",
                  "NMUN": "Ribatejada",
                  "Shape_Leng": 37163.3596428,
                  "Shape_Area": 32421989.1036,
                  "geometry": "POLYGON ((-3.382877523839806 40.68321748982736, -3.400379262359441 40.69066248814708, -3.4228168974835684 40.68131974793494, -3.448509496795104 40.681178868550944, -3.4685451043271054 40.68993678777997, -3.462587536753719 40.68486044837035, -3.482680411535337 40.67040607893735, -3.4202739346950253 40.64584476309426, -3.382136530261922 40.63047003962598, -3.3802580991897737 40.632853658396584, -3.365451952182525 40.65073520283169, -3.362264282093662 40.65372882011234, -3.382877523839806 40.68321748982736))",
                  "_deepnote_index_column": 18508
                },
                {
                  "CUSEC": "2907401001",
                  "CUMUN": "29074",
                  "CSEC": "001",
                  "CDIS": "01",
                  "CMUN": "074",
                  "CPRO": "29",
                  "CCA": "01",
                  "CUDIS": "2907401",
                  "CLAU2": "29074",
                  "NPRO": "Málaga",
                  "NCA": "Andalucía",
                  "CNUT0": "ES",
                  "CNUT1": "6",
                  "CNUT2": "1",
                  "CNUT3": "7",
                  "ESTADO": "I",
                  "OBS": "",
                  "NMUN": "Montejaque",
                  "Shape_Leng": 32739.8055774,
                  "Shape_Area": 45477322.4799,
                  "geometry": "POLYGON ((-5.228294710428082 36.75460165722879, -5.295291410840935 36.76434504027946, -5.324993428553864 36.724194182977826, -5.3240297725571635 36.67334051514028, -5.227178670025718 36.744690592137104, -5.228294710428082 36.75460165722879))",
                  "_deepnote_index_column": 19281
                },
                {
                  "CUSEC": "3702301001",
                  "CUMUN": "37023",
                  "CSEC": "001",
                  "CDIS": "01",
                  "CMUN": "023",
                  "CPRO": "37",
                  "CCA": "07",
                  "CUDIS": "3702301",
                  "CLAU2": "37023",
                  "NPRO": "Salamanca",
                  "NCA": "Castilla y León",
                  "CNUT0": "ES",
                  "CNUT1": "4",
                  "CNUT2": "1",
                  "CNUT3": "5",
                  "ESTADO": "I",
                  "OBS": "",
                  "NMUN": "Aldeatejada",
                  "Shape_Leng": 43616.6551673,
                  "Shape_Area": 31492479.9851,
                  "geometry": "POLYGON ((-5.67878008230351 40.945454477993295, -5.708666560182173 40.9411473167943, -5.728409278210729 40.93052251366229, -5.738876802606959 40.91310695916391, -5.7615948734725535 40.8978383423583, -5.766739709500861 40.88515023548209, -5.768437391248816 40.8697976476932, -5.764423982665112 40.86829979973488, -5.737540376388311 40.88187561008304, -5.679465995239614 40.900795204765934, -5.681942434278649 40.91477043170782, -5.67878008230351 40.945454477993295))",
                  "_deepnote_index_column": 23598
                },
                {
                  "CUSEC": "3731901001",
                  "CUMUN": "37319",
                  "CSEC": "001",
                  "CDIS": "01",
                  "CMUN": "319",
                  "CPRO": "37",
                  "CCA": "07",
                  "CUDIS": "3731901",
                  "CLAU2": "37319",
                  "NPRO": "Salamanca",
                  "NCA": "Castilla y León",
                  "CNUT0": "ES",
                  "CNUT1": "4",
                  "CNUT2": "1",
                  "CNUT3": "5",
                  "ESTADO": "I",
                  "OBS": "",
                  "NMUN": "Tejado, El",
                  "Shape_Leng": 20525.7718278,
                  "Shape_Area": 21194609.318,
                  "geometry": "POLYGON ((-5.508032705552895 40.46285628772207, -5.508282392113091 40.47177746297199, -5.5601307855206 40.46675764374034, -5.573157241773361 40.44807459295504, -5.544753828850952 40.423094956189615, -5.51111038292177 40.42802862649337, -5.508032705552895 40.46285628772207))",
                  "_deepnote_index_column": 24039
                },
                {
                  "CUSEC": "4022401001",
                  "CUMUN": "40224",
                  "CSEC": "001",
                  "CDIS": "01",
                  "CMUN": "224",
                  "CPRO": "40",
                  "CCA": "07",
                  "CUDIS": "4022401",
                  "CLAU2": "40224",
                  "NPRO": "Segovia",
                  "NCA": "Castilla y León",
                  "CNUT0": "ES",
                  "CNUT1": "4",
                  "CNUT2": "1",
                  "CNUT3": "6",
                  "ESTADO": "I",
                  "OBS": "",
                  "NMUN": "Ventosilla y Tejadilla",
                  "Shape_Leng": 11285.1056959,
                  "Shape_Area": 5975990.70436,
                  "geometry": "POLYGON ((-3.67774549093698 41.193371061560526, -3.6947167667140857 41.19691825130912, -3.6775152918253666 41.1721585441018, -3.67774549093698 41.193371061560526))",
                  "_deepnote_index_column": 25399
                }
              ]
            },
            "text/plain": "            CUSEC  CUMUN CSEC CDIS CMUN CPRO CCA    CUDIS  CLAU2         NPRO  \\\n0      0100901001  01009  001   01  009   01  16  0100901  01009  Araba/Álava   \n1      0101001002  01010  002   01  010   01  16  0101001  01010  Araba/Álava   \n2      0103101001  01031  001   01  031   01  16  0103101  01031  Araba/Álava   \n3      0103301001  01033  001   01  033   01  16  0103301  01033  Araba/Álava   \n4      0103701001  01037  001   01  037   01  16  0103701  01037  Araba/Álava   \n...           ...    ...  ...  ...  ...  ...  ..      ...    ...          ...   \n36304  3501605017  35016  017   05  016   35  05  3501605  35016  Palmas, Las   \n36305  3501605009  35016  009   05  016   35  05  3501605  35016  Palmas, Las   \n36306  3501605033  35016  033   05  016   35  05  3501605  35016  Palmas, Las   \n36307  3501605034  35016  034   05  016   35  05  3501605  35016  Palmas, Las   \n36308  4103904004  41039  004   04  039   41  01  4103904  41039      Sevilla   \n\n       ... CNUT0 CNUT1 CNUT2 CNUT3 ESTADO OBS                         NMUN  \\\n0      ...    ES     2     1     1      I                        Asparrena   \n1      ...    ES     2     1     1      I                      Ayala/Aiara   \n2      ...    ES     2     1     1      I                        Laguardia   \n3      ...    ES     2     1     1      I              Lapuebla de Labarca   \n4      ...    ES     2     1     1      I                    Arraia-Maeztu   \n...    ...   ...   ...   ...   ...    ...  ..                          ...   \n36304  ...    ES     7     0     5      M      Palmas de Gran Canaria, Las   \n36305  ...    ES     7     0     5      M      Palmas de Gran Canaria, Las   \n36306  ...    ES     7     0     5      M      Palmas de Gran Canaria, Las   \n36307  ...    ES     7     0     5      M      Palmas de Gran Canaria, Las   \n36308  ...    ES     6     1     8      M                            Écija   \n\n          Shape_Leng    Shape_Area  \\\n0       51725.353538  6.326080e+07   \n1       13350.774728  7.332951e+06   \n2       87711.717051  8.041601e+07   \n3       12331.494377  5.950453e+06   \n4       60761.315212  1.227207e+08   \n...              ...           ...   \n36304   15642.540059  5.318911e+06   \n36305    2929.633264  2.023513e+05   \n36306    9796.053160  2.625522e+06   \n36307    1994.804489  1.635899e+05   \n36308  256664.300052  8.496741e+08   \n\n                                                geometry  \n0      MULTIPOLYGON (((-2.25069 42.89550, -2.31610 42...  \n1      POLYGON ((-2.97499 43.09904, -3.01602 43.11833...  \n2      MULTIPOLYGON (((-2.52467 42.61471, -2.55285 42...  \n3      POLYGON ((-2.54903 42.48445, -2.57448 42.50752...  \n4      POLYGON ((-2.36929 42.80425, -2.40900 42.80644...  \n...                                                  ...  \n36304  POLYGON ((-15.49347 28.08960, -15.49699 28.096...  \n36305  POLYGON ((-15.48841 28.09245, -15.48927 28.093...  \n36306  POLYGON ((-15.48999 28.08495, -15.49145 28.086...  \n36307  POLYGON ((-15.48999 28.08495, -15.48559 28.089...  \n36308  MULTIPOLYGON (((-5.24389 37.59755, -5.27452 37...  \n\n[36309 rows x 21 columns]",
            "text/html": "<div>\n<style scoped>\n    .dataframe tbody tr th:only-of-type {\n        vertical-align: middle;\n    }\n\n    .dataframe tbody tr th {\n        vertical-align: top;\n    }\n\n    .dataframe thead th {\n        text-align: right;\n    }\n</style>\n<table border=\"1\" class=\"dataframe\">\n  <thead>\n    <tr style=\"text-align: right;\">\n      <th></th>\n      <th>CUSEC</th>\n      <th>CUMUN</th>\n      <th>CSEC</th>\n      <th>CDIS</th>\n      <th>CMUN</th>\n      <th>CPRO</th>\n      <th>CCA</th>\n      <th>CUDIS</th>\n      <th>CLAU2</th>\n      <th>NPRO</th>\n      <th>...</th>\n      <th>CNUT0</th>\n      <th>CNUT1</th>\n      <th>CNUT2</th>\n      <th>CNUT3</th>\n      <th>ESTADO</th>\n      <th>OBS</th>\n      <th>NMUN</th>\n      <th>Shape_Leng</th>\n      <th>Shape_Area</th>\n      <th>geometry</th>\n    </tr>\n  </thead>\n  <tbody>\n    <tr>\n      <th>0</th>\n      <td>0100901001</td>\n      <td>01009</td>\n      <td>001</td>\n      <td>01</td>\n      <td>009</td>\n      <td>01</td>\n      <td>16</td>\n      <td>0100901</td>\n      <td>01009</td>\n      <td>Araba/Álava</td>\n      <td>...</td>\n      <td>ES</td>\n      <td>2</td>\n      <td>1</td>\n      <td>1</td>\n      <td>I</td>\n      <td></td>\n      <td>Asparrena</td>\n      <td>51725.353538</td>\n      <td>6.326080e+07</td>\n      <td>MULTIPOLYGON (((-2.25069 42.89550, -2.31610 42...</td>\n    </tr>\n    <tr>\n      <th>1</th>\n      <td>0101001002</td>\n      <td>01010</td>\n      <td>002</td>\n      <td>01</td>\n      <td>010</td>\n      <td>01</td>\n      <td>16</td>\n      <td>0101001</td>\n      <td>01010</td>\n      <td>Araba/Álava</td>\n      <td>...</td>\n      <td>ES</td>\n      <td>2</td>\n      <td>1</td>\n      <td>1</td>\n      <td>I</td>\n      <td></td>\n      <td>Ayala/Aiara</td>\n      <td>13350.774728</td>\n      <td>7.332951e+06</td>\n      <td>POLYGON ((-2.97499 43.09904, -3.01602 43.11833...</td>\n    </tr>\n    <tr>\n      <th>2</th>\n      <td>0103101001</td>\n      <td>01031</td>\n      <td>001</td>\n      <td>01</td>\n      <td>031</td>\n      <td>01</td>\n      <td>16</td>\n      <td>0103101</td>\n      <td>01031</td>\n      <td>Araba/Álava</td>\n      <td>...</td>\n      <td>ES</td>\n      <td>2</td>\n      <td>1</td>\n      <td>1</td>\n      <td>I</td>\n      <td></td>\n      <td>Laguardia</td>\n      <td>87711.717051</td>\n      <td>8.041601e+07</td>\n      <td>MULTIPOLYGON (((-2.52467 42.61471, -2.55285 42...</td>\n    </tr>\n    <tr>\n      <th>3</th>\n      <td>0103301001</td>\n      <td>01033</td>\n      <td>001</td>\n      <td>01</td>\n      <td>033</td>\n      <td>01</td>\n      <td>16</td>\n      <td>0103301</td>\n      <td>01033</td>\n      <td>Araba/Álava</td>\n      <td>...</td>\n      <td>ES</td>\n      <td>2</td>\n      <td>1</td>\n      <td>1</td>\n      <td>I</td>\n      <td></td>\n      <td>Lapuebla de Labarca</td>\n      <td>12331.494377</td>\n      <td>5.950453e+06</td>\n      <td>POLYGON ((-2.54903 42.48445, -2.57448 42.50752...</td>\n    </tr>\n    <tr>\n      <th>4</th>\n      <td>0103701001</td>\n      <td>01037</td>\n      <td>001</td>\n      <td>01</td>\n      <td>037</td>\n      <td>01</td>\n      <td>16</td>\n      <td>0103701</td>\n      <td>01037</td>\n      <td>Araba/Álava</td>\n      <td>...</td>\n      <td>ES</td>\n      <td>2</td>\n      <td>1</td>\n      <td>1</td>\n      <td>I</td>\n      <td></td>\n      <td>Arraia-Maeztu</td>\n      <td>60761.315212</td>\n      <td>1.227207e+08</td>\n      <td>POLYGON ((-2.36929 42.80425, -2.40900 42.80644...</td>\n    </tr>\n    <tr>\n      <th>...</th>\n      <td>...</td>\n      <td>...</td>\n      <td>...</td>\n      <td>...</td>\n      <td>...</td>\n      <td>...</td>\n      <td>...</td>\n      <td>...</td>\n      <td>...</td>\n      <td>...</td>\n      <td>...</td>\n      <td>...</td>\n      <td>...</td>\n      <td>...</td>\n      <td>...</td>\n      <td>...</td>\n      <td>...</td>\n      <td>...</td>\n      <td>...</td>\n      <td>...</td>\n      <td>...</td>\n    </tr>\n    <tr>\n      <th>36304</th>\n      <td>3501605017</td>\n      <td>35016</td>\n      <td>017</td>\n      <td>05</td>\n      <td>016</td>\n      <td>35</td>\n      <td>05</td>\n      <td>3501605</td>\n      <td>35016</td>\n      <td>Palmas, Las</td>\n      <td>...</td>\n      <td>ES</td>\n      <td>7</td>\n      <td>0</td>\n      <td>5</td>\n      <td>M</td>\n      <td></td>\n      <td>Palmas de Gran Canaria, Las</td>\n      <td>15642.540059</td>\n      <td>5.318911e+06</td>\n      <td>POLYGON ((-15.49347 28.08960, -15.49699 28.096...</td>\n    </tr>\n    <tr>\n      <th>36305</th>\n      <td>3501605009</td>\n      <td>35016</td>\n      <td>009</td>\n      <td>05</td>\n      <td>016</td>\n      <td>35</td>\n      <td>05</td>\n      <td>3501605</td>\n      <td>35016</td>\n      <td>Palmas, Las</td>\n      <td>...</td>\n      <td>ES</td>\n      <td>7</td>\n      <td>0</td>\n      <td>5</td>\n      <td>M</td>\n      <td></td>\n      <td>Palmas de Gran Canaria, Las</td>\n      <td>2929.633264</td>\n      <td>2.023513e+05</td>\n      <td>POLYGON ((-15.48841 28.09245, -15.48927 28.093...</td>\n    </tr>\n    <tr>\n      <th>36306</th>\n      <td>3501605033</td>\n      <td>35016</td>\n      <td>033</td>\n      <td>05</td>\n      <td>016</td>\n      <td>35</td>\n      <td>05</td>\n      <td>3501605</td>\n      <td>35016</td>\n      <td>Palmas, Las</td>\n      <td>...</td>\n      <td>ES</td>\n      <td>7</td>\n      <td>0</td>\n      <td>5</td>\n      <td>M</td>\n      <td></td>\n      <td>Palmas de Gran Canaria, Las</td>\n      <td>9796.053160</td>\n      <td>2.625522e+06</td>\n      <td>POLYGON ((-15.48999 28.08495, -15.49145 28.086...</td>\n    </tr>\n    <tr>\n      <th>36307</th>\n      <td>3501605034</td>\n      <td>35016</td>\n      <td>034</td>\n      <td>05</td>\n      <td>016</td>\n      <td>35</td>\n      <td>05</td>\n      <td>3501605</td>\n      <td>35016</td>\n      <td>Palmas, Las</td>\n      <td>...</td>\n      <td>ES</td>\n      <td>7</td>\n      <td>0</td>\n      <td>5</td>\n      <td>M</td>\n      <td></td>\n      <td>Palmas de Gran Canaria, Las</td>\n      <td>1994.804489</td>\n      <td>1.635899e+05</td>\n      <td>POLYGON ((-15.48999 28.08495, -15.48559 28.089...</td>\n    </tr>\n    <tr>\n      <th>36308</th>\n      <td>4103904004</td>\n      <td>41039</td>\n      <td>004</td>\n      <td>04</td>\n      <td>039</td>\n      <td>41</td>\n      <td>01</td>\n      <td>4103904</td>\n      <td>41039</td>\n      <td>Sevilla</td>\n      <td>...</td>\n      <td>ES</td>\n      <td>6</td>\n      <td>1</td>\n      <td>8</td>\n      <td>M</td>\n      <td></td>\n      <td>Écija</td>\n      <td>256664.300052</td>\n      <td>8.496741e+08</td>\n      <td>MULTIPOLYGON (((-5.24389 37.59755, -5.27452 37...</td>\n    </tr>\n  </tbody>\n</table>\n<p>36309 rows × 21 columns</p>\n</div>"
          },
          "metadata": {}
        }
      ],
      "execution_count": 13,
      "block_group": "cbebcb0eb92749f6a6ec39b1ce4de693"
    },
    {
      "cell_type": "code",
      "source": "#Start our variable with columns for my new df, a empty list to add more list and create a df, and an empty list to add errors\ncolumnas = ['Index', 'Population', 'CUSEC', 'NPRO', 'NCA', 'NMUN']\nndf = []\nfaltantes= []\n\n#Start to run our indexes looking for closest point\nfor elemento in zonas_operador['Index']:\n\n    #To avoid use to much compute power fisrt we filter zonas_censales_ine reducing the number of operations\n    resultado = zonas_censales_ine[zonas_censales_ine['CUSEC'].str.contains(str(elemento))]\n    #create a variable for our centroid\n    centroide_str = zonas_operador[zonas_operador['Index'] == elemento]['centroide']\n    #Same for population because we will need in the future to complement our df\n    population = zonas_operador[zonas_operador['Index'] == elemento]['Population']\n    # Obtain the numeric value\n    population = population.iloc[0]\n\n\n\n    if resultado.shape[0] == 0:\n        faltantes.append(elemento)\n\n\n    else:\n        centroide = centroide_str.iloc[0]  # Obtain the numeric value\n        #Apply the function to our df results\n        resultado['centroide'] = resultado.apply(calcular_centroide, axis=1)\n\n        #Calculation of euclidean distance btw our centroid and each column\n        resultado['distancia'] = resultado['centroide'].apply(lambda x: euclidean(centroide, x))\n        \n        # Find the minimum index \n        indice_fila_mas_cercana = resultado['distancia'].idxmin()\n        \n        # Append the closest values to our list of list\n        fila_mas_cercana = resultado.loc[indice_fila_mas_cercana]\n        #Element because this was the ennuncement\n        #Population to calculate the global\n        # CUSEC for look in atlas_socioeconimo\n        #NPRO to check cities looking potential joins\n        #NCA to check cities looking potential joins\n        #NMUN to check cities looking potential joins\n\n        ndf.append([str(elemento),population,fila_mas_cercana['CUSEC'],fila_mas_cercana['NPRO'],fila_mas_cercana['NCA'],fila_mas_cercana['NMUN'] ])\n",
      "metadata": {
        "source_hash": "a84f7872",
        "execution_start": 1696409605325,
        "execution_millis": 2154,
        "deepnote_app_coordinates": {
          "h": 5,
          "w": 12,
          "x": 0,
          "y": 0
        },
        "deepnote_to_be_reexecuted": false,
        "cell_id": "7ab19f6218b74def9161d443db7c7532",
        "deepnote_cell_type": "code"
      },
      "outputs": [],
      "execution_count": 24,
      "block_group": "1ab4b67fefa2464d80b8f7fde934c96f"
    },
    {
      "cell_type": "code",
      "source": "#Creation of df features\ncolumnas = ['Index', 'Population', '2017 Income','2016 Income','2015 Income']\ndf = pd.DataFrame(columns=columnas)\n\n\n\nfor lista in ndf:\n\n    cusec_mc = lista[2]\n    #Check if CUSEC is in our DF with best granularity\n    if cusec_mc in atlas_socioeconimo['Index'].values:\n        \n        fila = {'Index': lista[0]  ,\n                  '2017 Income':  atlas_socioeconimo[atlas_socioeconimo['Index'] == cusec_mc]['2017 Income'].iloc[0] ,\n                  '2016 Income':   atlas_socioeconimo[atlas_socioeconimo['Index'] == cusec_mc]['2016 Income'].iloc[0],\n                  '2015 Income':  atlas_socioeconimo[atlas_socioeconimo['Index'] == cusec_mc]['2015 Income'].iloc[0]} \n        df = df.append(fila, ignore_index=True)        \n    #If dont exist, we could go further and check on the CUMUN to get the data \n    else:\n        first_five_digits = cusec_mc[:5]\n        \n        if first_five_digits in atlas_socioeconimo['Index'].str[:5].values:\n                fila = {'Index': lista[0]  ,\n                        '2017 Income':  atlas_socioeconimo[atlas_socioeconimo['Index'] == first_five_digits]['2017 Income'].iloc[0] ,\n                        '2016 Income':   atlas_socioeconimo[atlas_socioeconimo['Index'] == first_five_digits]['2016 Income'].iloc[0],\n                        '2015 Income':  atlas_socioeconimo[atlas_socioeconimo['Index'] == first_five_digits]['2015 Income'].iloc[0]} \n                df = df.append(fila, ignore_index=True)   \n        #If we dont have any data at this point we consider that these data is not available\n        else:\n            \n                fila = {'Index': lista[0]  ,\n                         '2017 Income': np.nan ,\n                          '2016 Income':   np.nan ,\n                          '2015 Income':  np.nan} \n                df = df.append(fila, ignore_index=True)\n  \n",
      "metadata": {
        "source_hash": "fc7cd2f7",
        "execution_start": 1696412324747,
        "execution_millis": 1260,
        "deepnote_app_coordinates": {
          "h": 5,
          "w": 12,
          "x": 0,
          "y": 0
        },
        "deepnote_to_be_reexecuted": false,
        "cell_id": "5c8d03d3d8d34cecacee150ad6605571",
        "deepnote_cell_type": "code"
      },
      "outputs": [],
      "execution_count": 80,
      "block_group": "b9d25e4b3e3b45e588a6d253503c5bfe"
    },
    {
      "cell_type": "code",
      "source": "#The average is taken for each year, since the file with the request does not clarify whether it is the average of the years with data or the average for each year\ndf.to_csv('archivo_solicitdado.csv', index=False) ",
      "metadata": {
        "source_hash": "b165799",
        "execution_start": 1696412668624,
        "execution_millis": 153,
        "deepnote_app_coordinates": {
          "h": 5,
          "w": 12,
          "x": 0,
          "y": 0
        },
        "deepnote_to_be_reexecuted": false,
        "cell_id": "52c72a80c3ce445291e3d97171f7c0bd",
        "deepnote_cell_type": "code"
      },
      "outputs": [],
      "execution_count": 82,
      "block_group": "3d7863461fda4772aab880d3f3700a19"
    },
    {
      "cell_type": "markdown",
      "source": "<a style='text-decoration:none;line-height:16px;display:flex;color:#5B5B62;padding:10px;justify-content:end;' href='https://deepnote.com?utm_source=created-in-deepnote-cell&projectId=d79b2b15-9a76-4b8a-9139-6103e6385a17' target=\"_blank\">\n<img alt='Created in deepnote.com' style='display:inline;max-height:16px;margin:0px;margin-right:7.5px;' src='data:image/svg+xml;base64,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' > </img>\nCreated in <span style='font-weight:600;margin-left:4px;'>Deepnote</span></a>",
      "metadata": {
        "created_in_deepnote_cell": true,
        "deepnote_cell_type": "markdown"
      }
    }
  ],
  "nbformat": 4,
  "nbformat_minor": 0,
  "metadata": {
    "deepnote": {},
    "orig_nbformat": 2,
    "deepnote_app_layout": "powerful-article",
    "deepnote_notebook_id": "78dc1c59f5ca4fdba3e8366267f3474d",
    "deepnote_execution_queue": []
  }
}