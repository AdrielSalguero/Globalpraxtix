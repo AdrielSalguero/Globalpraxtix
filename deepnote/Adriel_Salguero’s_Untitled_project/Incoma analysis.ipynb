{
  "cells": [
    {
      "cell_type": "code",
      "source": "!pip install openpyxl \n!pip install geopandas\n!pip install shapely\n\n",
      "metadata": {
        "source_hash": "acdca07e",
        "execution_start": 1696365198430,
        "execution_millis": 6860,
        "deepnote_app_coordinates": {
          "h": 5,
          "w": 12,
          "x": 0,
          "y": 0
        },
        "deepnote_to_be_reexecuted": false,
        "cell_id": "36bc386c53ec4602a50d6bbee35cf564",
        "deepnote_cell_type": "code"
      },
      "outputs": [
        {
          "name": "stdout",
          "text": "Requirement already satisfied: openpyxl in /root/venv/lib/python3.9/site-packages (3.1.2)\nRequirement already satisfied: et-xmlfile in /root/venv/lib/python3.9/site-packages (from openpyxl) (1.1.0)\n\n\u001b[1m[\u001b[0m\u001b[34;49mnotice\u001b[0m\u001b[1;39;49m]\u001b[0m\u001b[39;49m A new release of pip is available: \u001b[0m\u001b[31;49m23.0.1\u001b[0m\u001b[39;49m -> \u001b[0m\u001b[32;49m23.2.1\u001b[0m\n\u001b[1m[\u001b[0m\u001b[34;49mnotice\u001b[0m\u001b[1;39;49m]\u001b[0m\u001b[39;49m To update, run: \u001b[0m\u001b[32;49mpip install --upgrade pip\u001b[0m\nRequirement already satisfied: geopandas in /shared-libs/python3.9/py/lib/python3.9/site-packages (0.11.1)\nRequirement already satisfied: shapely<2,>=1.7 in /shared-libs/python3.9/py/lib/python3.9/site-packages (from geopandas) (1.8.5.post1)\nRequirement already satisfied: pyproj>=2.6.1.post1 in /shared-libs/python3.9/py/lib/python3.9/site-packages (from geopandas) (3.4.0)\nRequirement already satisfied: fiona>=1.8 in /shared-libs/python3.9/py/lib/python3.9/site-packages (from geopandas) (1.8.22)\nRequirement already satisfied: pandas>=1.0.0 in /shared-libs/python3.9/py/lib/python3.9/site-packages (from geopandas) (1.2.5)\nRequirement already satisfied: packaging in /shared-libs/python3.9/py-core/lib/python3.9/site-packages (from geopandas) (21.3)\nRequirement already satisfied: attrs>=17 in /shared-libs/python3.9/py-core/lib/python3.9/site-packages (from fiona>=1.8->geopandas) (22.1.0)\nRequirement already satisfied: munch in /shared-libs/python3.9/py/lib/python3.9/site-packages (from fiona>=1.8->geopandas) (2.5.0)\nRequirement already satisfied: click-plugins>=1.0 in /shared-libs/python3.9/py/lib/python3.9/site-packages (from fiona>=1.8->geopandas) (1.1.1)\nRequirement already satisfied: cligj>=0.5 in /shared-libs/python3.9/py/lib/python3.9/site-packages (from fiona>=1.8->geopandas) (0.7.2)\nRequirement already satisfied: click>=4.0 in /shared-libs/python3.9/py/lib/python3.9/site-packages (from fiona>=1.8->geopandas) (8.1.3)\nRequirement already satisfied: certifi in /shared-libs/python3.9/py/lib/python3.9/site-packages (from fiona>=1.8->geopandas) (2022.9.24)\nRequirement already satisfied: setuptools in /root/venv/lib/python3.9/site-packages (from fiona>=1.8->geopandas) (58.1.0)\nRequirement already satisfied: six>=1.7 in /shared-libs/python3.9/py-core/lib/python3.9/site-packages (from fiona>=1.8->geopandas) (1.16.0)\nRequirement already satisfied: pytz>=2017.3 in /shared-libs/python3.9/py/lib/python3.9/site-packages (from pandas>=1.0.0->geopandas) (2022.5)\nRequirement already satisfied: numpy>=1.16.5 in /shared-libs/python3.9/py/lib/python3.9/site-packages (from pandas>=1.0.0->geopandas) (1.23.4)\nRequirement already satisfied: python-dateutil>=2.7.3 in /shared-libs/python3.9/py-core/lib/python3.9/site-packages (from pandas>=1.0.0->geopandas) (2.8.2)\nRequirement already satisfied: pyparsing!=3.0.5,>=2.0.2 in /shared-libs/python3.9/py-core/lib/python3.9/site-packages (from packaging->geopandas) (3.0.9)\n\n\u001b[1m[\u001b[0m\u001b[34;49mnotice\u001b[0m\u001b[1;39;49m]\u001b[0m\u001b[39;49m A new release of pip is available: \u001b[0m\u001b[31;49m23.0.1\u001b[0m\u001b[39;49m -> \u001b[0m\u001b[32;49m23.2.1\u001b[0m\n\u001b[1m[\u001b[0m\u001b[34;49mnotice\u001b[0m\u001b[1;39;49m]\u001b[0m\u001b[39;49m To update, run: \u001b[0m\u001b[32;49mpip install --upgrade pip\u001b[0m\nRequirement already satisfied: shapely in /shared-libs/python3.9/py/lib/python3.9/site-packages (1.8.5.post1)\n\n\u001b[1m[\u001b[0m\u001b[34;49mnotice\u001b[0m\u001b[1;39;49m]\u001b[0m\u001b[39;49m A new release of pip is available: \u001b[0m\u001b[31;49m23.0.1\u001b[0m\u001b[39;49m -> \u001b[0m\u001b[32;49m23.2.1\u001b[0m\n\u001b[1m[\u001b[0m\u001b[34;49mnotice\u001b[0m\u001b[1;39;49m]\u001b[0m\u001b[39;49m To update, run: \u001b[0m\u001b[32;49mpip install --upgrade pip\u001b[0m\n",
          "output_type": "stream"
        }
      ],
      "execution_count": 22,
      "block_group": "167ca7d254b34639853cb3b7af57fd43"
    },
    {
      "cell_type": "code",
      "source": "import warnings\n# Ignorar todas las advertencias (NO RECOMENDADO en producción) por practicidad\nwarnings.filterwarnings(\"ignore\")",
      "metadata": {
        "source_hash": "4deb1ead",
        "execution_start": 1696370224202,
        "execution_millis": 10,
        "deepnote_app_coordinates": {
          "h": 5,
          "w": 12,
          "x": 0,
          "y": 0
        },
        "deepnote_to_be_reexecuted": false,
        "cell_id": "9581707742644e6789e8779fd7c9d219",
        "deepnote_cell_type": "code"
      },
      "outputs": [],
      "execution_count": 99,
      "block_group": "152db902de4744fc94ab8627d1832cfe"
    },
    {
      "cell_type": "code",
      "source": "import pandas as pd\nimport geopandas as gpd\nimport matplotlib_inline as plt\nimport numpy as np\nimport json \nfrom shapely.geometry import shape, Polygon, Point\nfrom scipy.spatial.distance import euclidean\n",
      "metadata": {
        "source_hash": "f62d2928",
        "execution_start": 1696369719368,
        "execution_millis": 12,
        "deepnote_app_coordinates": {
          "h": 5,
          "w": 12,
          "x": 0,
          "y": 0
        },
        "deepnote_to_be_reexecuted": false,
        "cell_id": "3e10f462e88749b5994f269d55b77b13",
        "deepnote_cell_type": "code"
      },
      "outputs": [],
      "execution_count": 86,
      "block_group": "3e10f462e88749b5994f269d55b77b13"
    },
    {
      "cell_type": "code",
      "source": "poblacion_sec_censal = pd.read_csv('/work/GPX programing test/poblacion_sec_censal.csv', sep= ';')\n#population of all census sections of the province of Barcelona identified by their unique census section identifier.\npoblacion_sec_censal.head(10)\n\n\ntotal_poblacion = poblacion_sec_censal['Total'].sum()\n\nprint(total_poblacion)",
      "metadata": {
        "source_hash": "8322e27b",
        "execution_start": 1696363760915,
        "execution_millis": 26,
        "deepnote_table_state": {
          "sortBy": [],
          "filters": [],
          "pageSize": 100,
          "pageIndex": 0
        },
        "deepnote_table_loading": false,
        "deepnote_app_coordinates": {
          "h": 5,
          "w": 12,
          "x": 0,
          "y": 0
        },
        "deepnote_to_be_reexecuted": false,
        "cell_id": "febe76c4f7f247c49f827878572e37c0",
        "deepnote_cell_type": "code"
      },
      "outputs": [
        {
          "name": "stdout",
          "text": "280703.167\n",
          "output_type": "stream"
        }
      ],
      "execution_count": 3,
      "block_group": "20b08cdbaa46456793ff4ba2cdf40e81"
    },
    {
      "cell_type": "code",
      "source": "atlas_socioeconimo = pd.read_excel('/work/GPX programing test/atlas_socioeconomico.xlsx', header=7)\n#Here we have to face the design of the sheet and only extract the headers that start at row 7 ",
      "metadata": {
        "source_hash": "5bcdb918",
        "execution_start": 1696364576726,
        "execution_millis": 16442,
        "deepnote_app_coordinates": {
          "h": 5,
          "w": 12,
          "x": 0,
          "y": 0
        },
        "deepnote_to_be_reexecuted": false,
        "cell_id": "848e310465db4f2bacfa98f8dd146aaf",
        "deepnote_cell_type": "code"
      },
      "outputs": [],
      "execution_count": 18,
      "block_group": "9968d2624f274779b4b6a33c4737d114"
    },
    {
      "cell_type": "code",
      "source": "atlas_socioeconimo.head(10)",
      "metadata": {
        "source_hash": "60bb9032",
        "execution_start": 1696364603458,
        "execution_millis": 255,
        "deepnote_app_coordinates": {
          "h": 5,
          "w": 12,
          "x": 0,
          "y": 0
        },
        "deepnote_to_be_reexecuted": false,
        "cell_id": "d270e49a481f44a6b104031e56500a25",
        "deepnote_cell_type": "code"
      },
      "outputs": [
        {
          "output_type": "execute_result",
          "execution_count": 19,
          "data": {
            "application/vnd.deepnote.dataframe.v3+json": {
              "column_count": 16,
              "row_count": 10,
              "columns": [
                {
                  "name": " ",
                  "dtype": "object",
                  "stats": {
                    "unique_count": 10,
                    "nan_count": 0,
                    "categories": [
                      {
                        "name": "01001 Alegría-Dulantzi",
                        "count": 1
                      },
                      {
                        "name": "0100101 Alegría-Dulantzi distrito 01",
                        "count": 1
                      },
                      {
                        "name": "8 others",
                        "count": 8
                      }
                    ]
                  }
                },
                {
                  "name": "2017",
                  "dtype": "object",
                  "stats": {
                    "unique_count": 3,
                    "nan_count": 0,
                    "categories": [
                      {
                        "name": " ",
                        "count": 8
                      },
                      {
                        "name": "13281",
                        "count": 1
                      },
                      {
                        "name": "13862",
                        "count": 1
                      }
                    ]
                  }
                },
                {
                  "name": "2016",
                  "dtype": "object",
                  "stats": {
                    "unique_count": 3,
                    "nan_count": 0,
                    "categories": [
                      {
                        "name": " ",
                        "count": 8
                      },
                      {
                        "name": "13086",
                        "count": 1
                      },
                      {
                        "name": "13691",
                        "count": 1
                      }
                    ]
                  }
                },
                {
                  "name": "2015",
                  "dtype": "object",
                  "stats": {
                    "unique_count": 3,
                    "nan_count": 0,
                    "categories": [
                      {
                        "name": " ",
                        "count": 8
                      },
                      {
                        "name": "12936",
                        "count": 1
                      },
                      {
                        "name": "13800",
                        "count": 1
                      }
                    ]
                  }
                },
                {
                  "name": "2017.1",
                  "dtype": "object",
                  "stats": {
                    "unique_count": 3,
                    "nan_count": 0,
                    "categories": [
                      {
                        "name": " ",
                        "count": 8
                      },
                      {
                        "name": "34618",
                        "count": 1
                      },
                      {
                        "name": "34411",
                        "count": 1
                      }
                    ]
                  }
                },
                {
                  "name": "2016.1",
                  "dtype": "object",
                  "stats": {
                    "unique_count": 3,
                    "nan_count": 0,
                    "categories": [
                      {
                        "name": " ",
                        "count": 8
                      },
                      {
                        "name": "34373",
                        "count": 1
                      },
                      {
                        "name": "33936",
                        "count": 1
                      }
                    ]
                  }
                },
                {
                  "name": "2015.1",
                  "dtype": "object",
                  "stats": {
                    "unique_count": 3,
                    "nan_count": 0,
                    "categories": [
                      {
                        "name": " ",
                        "count": 8
                      },
                      {
                        "name": "33702",
                        "count": 1
                      },
                      {
                        "name": "34421",
                        "count": 1
                      }
                    ]
                  }
                },
                {
                  "name": "2017.2",
                  "dtype": "object",
                  "stats": {
                    "unique_count": 1,
                    "nan_count": 0,
                    "categories": [
                      {
                        "name": " ",
                        "count": 10
                      }
                    ]
                  }
                },
                {
                  "name": "2016.2",
                  "dtype": "object",
                  "stats": {
                    "unique_count": 1,
                    "nan_count": 0,
                    "categories": [
                      {
                        "name": " ",
                        "count": 10
                      }
                    ]
                  }
                },
                {
                  "name": "2015.2",
                  "dtype": "object",
                  "stats": {
                    "unique_count": 1,
                    "nan_count": 0,
                    "categories": [
                      {
                        "name": " ",
                        "count": 10
                      }
                    ]
                  }
                },
                {
                  "name": "2017.3",
                  "dtype": "object",
                  "stats": {
                    "unique_count": 1,
                    "nan_count": 0,
                    "categories": [
                      {
                        "name": " ",
                        "count": 10
                      }
                    ]
                  }
                },
                {
                  "name": "2016.3",
                  "dtype": "object",
                  "stats": {
                    "unique_count": 1,
                    "nan_count": 0,
                    "categories": [
                      {
                        "name": " ",
                        "count": 10
                      }
                    ]
                  }
                },
                {
                  "name": "2015.3",
                  "dtype": "object",
                  "stats": {
                    "unique_count": 1,
                    "nan_count": 0,
                    "categories": [
                      {
                        "name": " ",
                        "count": 10
                      }
                    ]
                  }
                },
                {
                  "name": "2017.4",
                  "dtype": "object",
                  "stats": {
                    "unique_count": 1,
                    "nan_count": 0,
                    "categories": [
                      {
                        "name": " ",
                        "count": 10
                      }
                    ]
                  }
                },
                {
                  "name": "2016.4",
                  "dtype": "object",
                  "stats": {
                    "unique_count": 1,
                    "nan_count": 0,
                    "categories": [
                      {
                        "name": " ",
                        "count": 10
                      }
                    ]
                  }
                },
                {
                  "name": "2015.4",
                  "dtype": "object",
                  "stats": {
                    "unique_count": 1,
                    "nan_count": 0,
                    "categories": [
                      {
                        "name": " ",
                        "count": 10
                      }
                    ]
                  }
                },
                {
                  "name": "_deepnote_index_column",
                  "dtype": "int64"
                }
              ],
              "rows": [
                {
                  "2015": "12936",
                  "2016": "13086",
                  "2017": "13281",
                  " ": "01001 Alegría-Dulantzi",
                  "2017.1": "34618",
                  "2016.1": "34373",
                  "2015.1": "33702",
                  "2017.2": " ",
                  "2016.2": " ",
                  "2015.2": " ",
                  "2017.3": " ",
                  "2016.3": " ",
                  "2015.3": " ",
                  "2017.4": " ",
                  "2016.4": " ",
                  "2015.4": " ",
                  "_deepnote_index_column": 0
                },
                {
                  "2015": " ",
                  "2016": " ",
                  "2017": " ",
                  " ": "0100101 Alegría-Dulantzi distrito 01",
                  "2017.1": " ",
                  "2016.1": " ",
                  "2015.1": " ",
                  "2017.2": " ",
                  "2016.2": " ",
                  "2015.2": " ",
                  "2017.3": " ",
                  "2016.3": " ",
                  "2015.3": " ",
                  "2017.4": " ",
                  "2016.4": " ",
                  "2015.4": " ",
                  "_deepnote_index_column": 1
                },
                {
                  "2015": " ",
                  "2016": " ",
                  "2017": " ",
                  " ": "0100101001 Alegría-Dulantzi sección 01001",
                  "2017.1": " ",
                  "2016.1": " ",
                  "2015.1": " ",
                  "2017.2": " ",
                  "2016.2": " ",
                  "2015.2": " ",
                  "2017.3": " ",
                  "2016.3": " ",
                  "2015.3": " ",
                  "2017.4": " ",
                  "2016.4": " ",
                  "2015.4": " ",
                  "_deepnote_index_column": 2
                },
                {
                  "2015": " ",
                  "2016": " ",
                  "2017": " ",
                  " ": "0100101002 Alegría-Dulantzi sección 01002",
                  "2017.1": " ",
                  "2016.1": " ",
                  "2015.1": " ",
                  "2017.2": " ",
                  "2016.2": " ",
                  "2015.2": " ",
                  "2017.3": " ",
                  "2016.3": " ",
                  "2015.3": " ",
                  "2017.4": " ",
                  "2016.4": " ",
                  "2015.4": " ",
                  "_deepnote_index_column": 3
                },
                {
                  "2015": "13800",
                  "2016": "13691",
                  "2017": "13862",
                  " ": "01002 Amurrio",
                  "2017.1": "34411",
                  "2016.1": "33936",
                  "2015.1": "34421",
                  "2017.2": " ",
                  "2016.2": " ",
                  "2015.2": " ",
                  "2017.3": " ",
                  "2016.3": " ",
                  "2015.3": " ",
                  "2017.4": " ",
                  "2016.4": " ",
                  "2015.4": " ",
                  "_deepnote_index_column": 4
                },
                {
                  "2015": " ",
                  "2016": " ",
                  "2017": " ",
                  " ": "0100201 Amurrio distrito 01",
                  "2017.1": " ",
                  "2016.1": " ",
                  "2015.1": " ",
                  "2017.2": " ",
                  "2016.2": " ",
                  "2015.2": " ",
                  "2017.3": " ",
                  "2016.3": " ",
                  "2015.3": " ",
                  "2017.4": " ",
                  "2016.4": " ",
                  "2015.4": " ",
                  "_deepnote_index_column": 5
                },
                {
                  "2015": " ",
                  "2016": " ",
                  "2017": " ",
                  " ": "0100201001 Amurrio sección 01001",
                  "2017.1": " ",
                  "2016.1": " ",
                  "2015.1": " ",
                  "2017.2": " ",
                  "2016.2": " ",
                  "2015.2": " ",
                  "2017.3": " ",
                  "2016.3": " ",
                  "2015.3": " ",
                  "2017.4": " ",
                  "2016.4": " ",
                  "2015.4": " ",
                  "_deepnote_index_column": 6
                },
                {
                  "2015": " ",
                  "2016": " ",
                  "2017": " ",
                  " ": "0100201002 Amurrio sección 01002",
                  "2017.1": " ",
                  "2016.1": " ",
                  "2015.1": " ",
                  "2017.2": " ",
                  "2016.2": " ",
                  "2015.2": " ",
                  "2017.3": " ",
                  "2016.3": " ",
                  "2015.3": " ",
                  "2017.4": " ",
                  "2016.4": " ",
                  "2015.4": " ",
                  "_deepnote_index_column": 7
                },
                {
                  "2015": " ",
                  "2016": " ",
                  "2017": " ",
                  " ": "0100201003 Amurrio sección 01003",
                  "2017.1": " ",
                  "2016.1": " ",
                  "2015.1": " ",
                  "2017.2": " ",
                  "2016.2": " ",
                  "2015.2": " ",
                  "2017.3": " ",
                  "2016.3": " ",
                  "2015.3": " ",
                  "2017.4": " ",
                  "2016.4": " ",
                  "2015.4": " ",
                  "_deepnote_index_column": 8
                },
                {
                  "2015": " ",
                  "2016": " ",
                  "2017": " ",
                  " ": "0100201004 Amurrio sección 01004",
                  "2017.1": " ",
                  "2016.1": " ",
                  "2015.1": " ",
                  "2017.2": " ",
                  "2016.2": " ",
                  "2015.2": " ",
                  "2017.3": " ",
                  "2016.3": " ",
                  "2015.3": " ",
                  "2017.4": " ",
                  "2016.4": " ",
                  "2015.4": " ",
                  "_deepnote_index_column": 9
                }
              ]
            },
            "text/plain": "                                               2017   2016   2015 2017.1  \\\n0                     01001 Alegría-Dulantzi  13281  13086  12936  34618   \n1       0100101 Alegría-Dulantzi distrito 01                               \n2  0100101001 Alegría-Dulantzi sección 01001                               \n3  0100101002 Alegría-Dulantzi sección 01002                               \n4                              01002 Amurrio  13862  13691  13800  34411   \n5                0100201 Amurrio distrito 01                               \n6           0100201001 Amurrio sección 01001                               \n7           0100201002 Amurrio sección 01002                               \n8           0100201003 Amurrio sección 01003                               \n9           0100201004 Amurrio sección 01004                               \n\n  2016.1 2015.1 2017.2 2016.2 2015.2 2017.3 2016.3 2015.3 2017.4 2016.4 2015.4  \n0  34373  33702                                                                 \n1                                                                               \n2                                                                               \n3                                                                               \n4  33936  34421                                                                 \n5                                                                               \n6                                                                               \n7                                                                               \n8                                                                               \n9                                                                               ",
            "text/html": "<div>\n<style scoped>\n    .dataframe tbody tr th:only-of-type {\n        vertical-align: middle;\n    }\n\n    .dataframe tbody tr th {\n        vertical-align: top;\n    }\n\n    .dataframe thead th {\n        text-align: right;\n    }\n</style>\n<table border=\"1\" class=\"dataframe\">\n  <thead>\n    <tr style=\"text-align: right;\">\n      <th></th>\n      <th></th>\n      <th>2017</th>\n      <th>2016</th>\n      <th>2015</th>\n      <th>2017.1</th>\n      <th>2016.1</th>\n      <th>2015.1</th>\n      <th>2017.2</th>\n      <th>2016.2</th>\n      <th>2015.2</th>\n      <th>2017.3</th>\n      <th>2016.3</th>\n      <th>2015.3</th>\n      <th>2017.4</th>\n      <th>2016.4</th>\n      <th>2015.4</th>\n    </tr>\n  </thead>\n  <tbody>\n    <tr>\n      <th>0</th>\n      <td>01001 Alegría-Dulantzi</td>\n      <td>13281</td>\n      <td>13086</td>\n      <td>12936</td>\n      <td>34618</td>\n      <td>34373</td>\n      <td>33702</td>\n      <td></td>\n      <td></td>\n      <td></td>\n      <td></td>\n      <td></td>\n      <td></td>\n      <td></td>\n      <td></td>\n      <td></td>\n    </tr>\n    <tr>\n      <th>1</th>\n      <td>0100101 Alegría-Dulantzi distrito 01</td>\n      <td></td>\n      <td></td>\n      <td></td>\n      <td></td>\n      <td></td>\n      <td></td>\n      <td></td>\n      <td></td>\n      <td></td>\n      <td></td>\n      <td></td>\n      <td></td>\n      <td></td>\n      <td></td>\n      <td></td>\n    </tr>\n    <tr>\n      <th>2</th>\n      <td>0100101001 Alegría-Dulantzi sección 01001</td>\n      <td></td>\n      <td></td>\n      <td></td>\n      <td></td>\n      <td></td>\n      <td></td>\n      <td></td>\n      <td></td>\n      <td></td>\n      <td></td>\n      <td></td>\n      <td></td>\n      <td></td>\n      <td></td>\n      <td></td>\n    </tr>\n    <tr>\n      <th>3</th>\n      <td>0100101002 Alegría-Dulantzi sección 01002</td>\n      <td></td>\n      <td></td>\n      <td></td>\n      <td></td>\n      <td></td>\n      <td></td>\n      <td></td>\n      <td></td>\n      <td></td>\n      <td></td>\n      <td></td>\n      <td></td>\n      <td></td>\n      <td></td>\n      <td></td>\n    </tr>\n    <tr>\n      <th>4</th>\n      <td>01002 Amurrio</td>\n      <td>13862</td>\n      <td>13691</td>\n      <td>13800</td>\n      <td>34411</td>\n      <td>33936</td>\n      <td>34421</td>\n      <td></td>\n      <td></td>\n      <td></td>\n      <td></td>\n      <td></td>\n      <td></td>\n      <td></td>\n      <td></td>\n      <td></td>\n    </tr>\n    <tr>\n      <th>5</th>\n      <td>0100201 Amurrio distrito 01</td>\n      <td></td>\n      <td></td>\n      <td></td>\n      <td></td>\n      <td></td>\n      <td></td>\n      <td></td>\n      <td></td>\n      <td></td>\n      <td></td>\n      <td></td>\n      <td></td>\n      <td></td>\n      <td></td>\n      <td></td>\n    </tr>\n    <tr>\n      <th>6</th>\n      <td>0100201001 Amurrio sección 01001</td>\n      <td></td>\n      <td></td>\n      <td></td>\n      <td></td>\n      <td></td>\n      <td></td>\n      <td></td>\n      <td></td>\n      <td></td>\n      <td></td>\n      <td></td>\n      <td></td>\n      <td></td>\n      <td></td>\n      <td></td>\n    </tr>\n    <tr>\n      <th>7</th>\n      <td>0100201002 Amurrio sección 01002</td>\n      <td></td>\n      <td></td>\n      <td></td>\n      <td></td>\n      <td></td>\n      <td></td>\n      <td></td>\n      <td></td>\n      <td></td>\n      <td></td>\n      <td></td>\n      <td></td>\n      <td></td>\n      <td></td>\n      <td></td>\n    </tr>\n    <tr>\n      <th>8</th>\n      <td>0100201003 Amurrio sección 01003</td>\n      <td></td>\n      <td></td>\n      <td></td>\n      <td></td>\n      <td></td>\n      <td></td>\n      <td></td>\n      <td></td>\n      <td></td>\n      <td></td>\n      <td></td>\n      <td></td>\n      <td></td>\n      <td></td>\n      <td></td>\n    </tr>\n    <tr>\n      <th>9</th>\n      <td>0100201004 Amurrio sección 01004</td>\n      <td></td>\n      <td></td>\n      <td></td>\n      <td></td>\n      <td></td>\n      <td></td>\n      <td></td>\n      <td></td>\n      <td></td>\n      <td></td>\n      <td></td>\n      <td></td>\n      <td></td>\n      <td></td>\n      <td></td>\n    </tr>\n  </tbody>\n</table>\n</div>"
          },
          "metadata": {}
        }
      ],
      "execution_count": 19,
      "block_group": "fbaf7f65e0584f8cba9f39e8a2da6d73"
    },
    {
      "cell_type": "code",
      "source": "#Extract only the columns that we are interested, on this case only Renta neta media por persona 2017,2016, 2015\natlas_socioeconimo = atlas_socioeconimo.iloc[:, [0, 1, 2, 3]]\n\n#Change columnas name to get clear infomation\n\natlas_socioeconimo.columns = ['Index', '2017 Income', '2016 Income', '2015 Income']\n\n#Change datatypes to filter with dropna ah use only the rows that contain information\natlas_socioeconimo['2017 Income'] = pd.to_numeric(atlas_socioeconimo['2017 Income'], errors='coerce').astype('Int64')\natlas_socioeconimo['2016 Income'] = pd.to_numeric(atlas_socioeconimo['2016 Income'], errors='coerce').astype('Int64')\natlas_socioeconimo['2015 Income'] = pd.to_numeric(atlas_socioeconimo['2015 Income'], errors='coerce').astype('Int64')\n\n#Reduction of the df removing null values\natlas_socioeconimo = atlas_socioeconimo.dropna()\n\n\n#Create the global variable taking in consideration all income in this period\natlas_socioeconimo['Global'] =atlas_socioeconimo['2017 Income']+atlas_socioeconimo['2016 Income']+atlas_socioeconimo['2015 Income']\n\n# Take codes appart from location name because we need to do Joins in the future\n#atlas_socioeconimo['NPRO'] = atlas_socioeconimo['Index'].str.split().str[-1]\natlas_socioeconimo['Index'] = atlas_socioeconimo['Index'].str.extract('(\\d+)')\n\n\n#Obtain incomes and codes\natlas_socioeconimo",
      "metadata": {
        "source_hash": "40f70b78",
        "execution_start": 1696364738855,
        "execution_millis": 453,
        "deepnote_table_state": {
          "sortBy": [],
          "filters": [
            {
              "id": "Index",
              "type": "contains",
              "value": "10115"
            }
          ],
          "pageSize": 10,
          "pageIndex": 0
        },
        "deepnote_table_loading": false,
        "deepnote_app_coordinates": {
          "h": 5,
          "w": 12,
          "x": 0,
          "y": 0
        },
        "deepnote_to_be_reexecuted": false,
        "cell_id": "73123b119ba5458e8d46a465618d0be6",
        "deepnote_cell_type": "code"
      },
      "outputs": [
        {
          "output_type": "execute_result",
          "execution_count": 21,
          "data": {
            "application/vnd.deepnote.dataframe.v3+json": {
              "column_count": 6,
              "row_count": 49134,
              "columns": [
                {
                  "name": "Index",
                  "dtype": "object",
                  "stats": {
                    "unique_count": 49134,
                    "nan_count": 0,
                    "categories": [
                      {
                        "name": "01001",
                        "count": 1
                      },
                      {
                        "name": "01002",
                        "count": 1
                      },
                      {
                        "name": "49132 others",
                        "count": 49132
                      }
                    ]
                  }
                },
                {
                  "name": "2017 Income",
                  "dtype": "Int64",
                  "stats": {
                    "unique_count": 11948,
                    "nan_count": 0,
                    "categories": [
                      {
                        "name": "30210",
                        "count": 165
                      },
                      {
                        "name": "3431",
                        "count": 26
                      },
                      {
                        "name": "11946 others",
                        "count": 48943
                      }
                    ]
                  }
                },
                {
                  "name": "2016 Income",
                  "dtype": "Int64"
                },
                {
                  "name": "2015 Income",
                  "dtype": "Int64"
                },
                {
                  "name": "Global",
                  "dtype": "Int64"
                },
                {
                  "name": "NPRO",
                  "dtype": "object"
                },
                {
                  "name": "_deepnote_index_column",
                  "dtype": "int64"
                }
              ],
              "rows": [
                {
                  "Index": "01001",
                  "2017 Income": "13281",
                  "2016 Income": "13086",
                  "2015 Income": "12936",
                  "Global": "39303",
                  "NPRO": "Alegría-Dulantzi",
                  "_deepnote_index_column": 0
                },
                {
                  "Index": "01002",
                  "2017 Income": "13862",
                  "2016 Income": "13691",
                  "2015 Income": "13800",
                  "Global": "41353",
                  "NPRO": "Amurrio",
                  "_deepnote_index_column": 4
                },
                {
                  "Index": "01003",
                  "2017 Income": "16177",
                  "2016 Income": "17194",
                  "2015 Income": "15786",
                  "Global": "49157",
                  "NPRO": "Aramaio",
                  "_deepnote_index_column": 13
                },
                {
                  "Index": "01004",
                  "2017 Income": "12530",
                  "2016 Income": "13185",
                  "2015 Income": "12722",
                  "Global": "38437",
                  "NPRO": "Artziniega",
                  "_deepnote_index_column": 16
                },
                {
                  "Index": "01006",
                  "2017 Income": "13115",
                  "2016 Income": "11330",
                  "2015 Income": "13040",
                  "Global": "37485",
                  "NPRO": "Armiñón",
                  "_deepnote_index_column": 19
                },
                {
                  "Index": "01008",
                  "2017 Income": "18302",
                  "2016 Income": "18089",
                  "2015 Income": "17674",
                  "Global": "54065",
                  "NPRO": "Arratzua-Ubarrundia",
                  "_deepnote_index_column": 22
                },
                {
                  "Index": "01009",
                  "2017 Income": "13993",
                  "2016 Income": "14134",
                  "2015 Income": "13218",
                  "Global": "41345",
                  "NPRO": "Asparrena",
                  "_deepnote_index_column": 25
                },
                {
                  "Index": "01010",
                  "2017 Income": "13827",
                  "2016 Income": "13635",
                  "2015 Income": "13317",
                  "Global": "40779",
                  "NPRO": "Ayala/Aiara",
                  "_deepnote_index_column": 28
                },
                {
                  "Index": "01011",
                  "2017 Income": "11845",
                  "2016 Income": "11794",
                  "2015 Income": "10690",
                  "Global": "34329",
                  "NPRO": "Ebro/Mañueta",
                  "_deepnote_index_column": 32
                },
                {
                  "Index": "01013",
                  "2017 Income": "16157",
                  "2016 Income": "15419",
                  "2015 Income": "15493",
                  "Global": "47069",
                  "NPRO": "Barrundia",
                  "_deepnote_index_column": 35
                }
              ]
            },
            "text/plain": "            Index  2017 Income  2016 Income  2015 Income  Global  \\\n0           01001        13281        13086        12936   39303   \n4           01002        13862        13691        13800   41353   \n13          01003        16177        17194        15786   49157   \n16          01004        12530        13185        12722   38437   \n19          01006        13115        11330        13040   37485   \n...           ...          ...          ...          ...     ...   \n55082  5200108011        16433        16373        15847   48653   \n55083  5200108012        17350        17185        16792   51327   \n55084  5200108013        12553        12705        11823   37081   \n55085  5200108014         8906         8872         8937   26715   \n55086  5200108015        12314        12296        11813   36423   \n\n                   NPRO  \n0      Alegría-Dulantzi  \n4               Amurrio  \n13              Aramaio  \n16           Artziniega  \n19              Armiñón  \n...                 ...  \n55082             08011  \n55083             08012  \n55084             08013  \n55085             08014  \n55086             08015  \n\n[49134 rows x 6 columns]",
            "text/html": "<div>\n<style scoped>\n    .dataframe tbody tr th:only-of-type {\n        vertical-align: middle;\n    }\n\n    .dataframe tbody tr th {\n        vertical-align: top;\n    }\n\n    .dataframe thead th {\n        text-align: right;\n    }\n</style>\n<table border=\"1\" class=\"dataframe\">\n  <thead>\n    <tr style=\"text-align: right;\">\n      <th></th>\n      <th>Index</th>\n      <th>2017 Income</th>\n      <th>2016 Income</th>\n      <th>2015 Income</th>\n      <th>Global</th>\n      <th>NPRO</th>\n    </tr>\n  </thead>\n  <tbody>\n    <tr>\n      <th>0</th>\n      <td>01001</td>\n      <td>13281</td>\n      <td>13086</td>\n      <td>12936</td>\n      <td>39303</td>\n      <td>Alegría-Dulantzi</td>\n    </tr>\n    <tr>\n      <th>4</th>\n      <td>01002</td>\n      <td>13862</td>\n      <td>13691</td>\n      <td>13800</td>\n      <td>41353</td>\n      <td>Amurrio</td>\n    </tr>\n    <tr>\n      <th>13</th>\n      <td>01003</td>\n      <td>16177</td>\n      <td>17194</td>\n      <td>15786</td>\n      <td>49157</td>\n      <td>Aramaio</td>\n    </tr>\n    <tr>\n      <th>16</th>\n      <td>01004</td>\n      <td>12530</td>\n      <td>13185</td>\n      <td>12722</td>\n      <td>38437</td>\n      <td>Artziniega</td>\n    </tr>\n    <tr>\n      <th>19</th>\n      <td>01006</td>\n      <td>13115</td>\n      <td>11330</td>\n      <td>13040</td>\n      <td>37485</td>\n      <td>Armiñón</td>\n    </tr>\n    <tr>\n      <th>...</th>\n      <td>...</td>\n      <td>...</td>\n      <td>...</td>\n      <td>...</td>\n      <td>...</td>\n      <td>...</td>\n    </tr>\n    <tr>\n      <th>55082</th>\n      <td>5200108011</td>\n      <td>16433</td>\n      <td>16373</td>\n      <td>15847</td>\n      <td>48653</td>\n      <td>08011</td>\n    </tr>\n    <tr>\n      <th>55083</th>\n      <td>5200108012</td>\n      <td>17350</td>\n      <td>17185</td>\n      <td>16792</td>\n      <td>51327</td>\n      <td>08012</td>\n    </tr>\n    <tr>\n      <th>55084</th>\n      <td>5200108013</td>\n      <td>12553</td>\n      <td>12705</td>\n      <td>11823</td>\n      <td>37081</td>\n      <td>08013</td>\n    </tr>\n    <tr>\n      <th>55085</th>\n      <td>5200108014</td>\n      <td>8906</td>\n      <td>8872</td>\n      <td>8937</td>\n      <td>26715</td>\n      <td>08014</td>\n    </tr>\n    <tr>\n      <th>55086</th>\n      <td>5200108015</td>\n      <td>12314</td>\n      <td>12296</td>\n      <td>11813</td>\n      <td>36423</td>\n      <td>08015</td>\n    </tr>\n  </tbody>\n</table>\n<p>49134 rows × 6 columns</p>\n</div>"
          },
          "metadata": {}
        }
      ],
      "execution_count": 21,
      "block_group": "85f70d03b9ca48148ed426195b3f49c1"
    },
    {
      "cell_type": "code",
      "source": "atlas_socioeconimo\natlas_socioeconimo['lens'] =  atlas_socioeconimo['Index'].apply(lambda x: len(str(x)))\nprint(atlas_socioeconimo['lens'].unique())",
      "metadata": {
        "source_hash": "bf5ad8c9",
        "execution_start": 1696363777672,
        "execution_millis": 214,
        "deepnote_table_state": {
          "sortBy": [],
          "filters": [],
          "pageSize": 10,
          "pageIndex": 0
        },
        "deepnote_table_loading": false,
        "deepnote_app_coordinates": {
          "h": 5,
          "w": 12,
          "x": 0,
          "y": 0
        },
        "deepnote_to_be_reexecuted": false,
        "cell_id": "ea31de2878e147aba4e10cc28bb6d2cb",
        "deepnote_cell_type": "code"
      },
      "outputs": [
        {
          "name": "stdout",
          "text": "[ 5  7 10]\n",
          "output_type": "stream"
        }
      ],
      "execution_count": 7,
      "block_group": "5302842e211247619f14413dacdbec02"
    },
    {
      "cell_type": "code",
      "source": "zonas_operador = gpd.read_file('/work/GPX programing test/zonas_operador.geojson')\nprint(zonas_operador.shape)\nzonas_operador.dtypes\n",
      "metadata": {
        "source_hash": "825bd4fb",
        "execution_start": 1696369974699,
        "execution_millis": 37,
        "deepnote_table_state": {
          "sortBy": [],
          "filters": [],
          "pageSize": 10,
          "pageIndex": 0
        },
        "deepnote_table_loading": false,
        "deepnote_app_coordinates": {
          "h": 5,
          "w": 12,
          "x": 0,
          "y": 0
        },
        "deepnote_to_be_reexecuted": false,
        "cell_id": "99f0b20cac9549e5bdb38a2523eff586",
        "deepnote_cell_type": "code"
      },
      "outputs": [
        {
          "name": "stdout",
          "text": "(113, 10)\n",
          "output_type": "stream"
        },
        {
          "output_type": "execute_result",
          "execution_count": 93,
          "data": {
            "text/plain": "Index            int64\nColoration       int64\nC0             float64\nC1             float64\nZE              object\nSurface        float64\nTauxConcav     float64\nLac-CellId      object\nPopulation      object\ngeometry      geometry\ndtype: object"
          },
          "metadata": {}
        }
      ],
      "execution_count": 93,
      "block_group": "765c77b01e8b4213a778ffc0dd622c70"
    },
    {
      "cell_type": "code",
      "source": "def calcular_centroide(row):\n    geometry_data = row['geometry']\n    multipolygon = shape(geometry_data)\n    centroid = multipolygon.centroid\n    centroid_coords = (centroid.x, centroid.y)  # Convierte el centroide a una tupla de coordenadas\n    return centroid_coords\n\n\n# Aplica la función para calcular los centroides y crea la columna 'centroide'\nzonas_operador['centroide'] = zonas_operador.apply(calcular_centroide, axis=1)\n\nzonas_operador = zonas_operador[['Index', 'Population','centroide']]\nzonas_operador.Index = zonas_operador.Index.astype('object')\n#zonas_operador['lens'] =  zonas_operador['Index'].apply(lambda x: len(str(x)))\n\n\n\nzonas_operador",
      "metadata": {
        "source_hash": "fa5063fa",
        "execution_start": 1696369977289,
        "execution_millis": 269,
        "deepnote_table_state": {
          "sortBy": [],
          "filters": [],
          "pageSize": 10,
          "pageIndex": 0
        },
        "deepnote_table_loading": false,
        "deepnote_app_coordinates": {
          "h": 5,
          "w": 12,
          "x": 0,
          "y": 0
        },
        "deepnote_to_be_reexecuted": false,
        "cell_id": "a84f7a07636749ddb12b59cfe9d9ab3e",
        "deepnote_cell_type": "code"
      },
      "outputs": [
        {
          "output_type": "execute_result",
          "execution_count": 94,
          "data": {
            "application/vnd.deepnote.dataframe.v3+json": {
              "column_count": 3,
              "row_count": 113,
              "columns": [
                {
                  "name": "Index",
                  "dtype": "object",
                  "stats": {
                    "unique_count": 113,
                    "nan_count": 0,
                    "categories": [
                      {
                        "name": "10113",
                        "count": 1
                      },
                      {
                        "name": "10115",
                        "count": 1
                      },
                      {
                        "name": "111 others",
                        "count": 111
                      }
                    ]
                  }
                },
                {
                  "name": "Population",
                  "dtype": "object",
                  "stats": {
                    "unique_count": 113,
                    "nan_count": 0,
                    "categories": [
                      {
                        "name": "17520",
                        "count": 1
                      },
                      {
                        "name": "38090",
                        "count": 1
                      },
                      {
                        "name": "111 others",
                        "count": 111
                      }
                    ]
                  }
                },
                {
                  "name": "centroide",
                  "dtype": "object",
                  "stats": {
                    "unique_count": 113,
                    "nan_count": 0,
                    "categories": [
                      {
                        "name": "(2.1569322495068772, 41.36446822555657)",
                        "count": 1
                      },
                      {
                        "name": "(2.159359923207574, 41.37853652453478)",
                        "count": 1
                      },
                      {
                        "name": "111 others",
                        "count": 111
                      }
                    ]
                  }
                },
                {
                  "name": "_deepnote_index_column",
                  "dtype": "int64"
                }
              ],
              "rows": [
                {
                  "Index": "10113",
                  "Population": "17520",
                  "centroide": "(2.1569322495068772, 41.36446822555657)",
                  "_deepnote_index_column": 0
                },
                {
                  "Index": "10115",
                  "Population": "38090",
                  "centroide": "(2.159359923207574, 41.37853652453478)",
                  "_deepnote_index_column": 1
                },
                {
                  "Index": "10114",
                  "Population": "22000",
                  "centroide": "(2.1688545577838925, 41.373011178875345)",
                  "_deepnote_index_column": 2
                },
                {
                  "Index": "10125",
                  "Population": "22923",
                  "centroide": "(2.172905132941295, 41.376540848891736)",
                  "_deepnote_index_column": 3
                },
                {
                  "Index": "10124",
                  "Population": "14739",
                  "centroide": "(2.190197608860213, 41.377349237279056)",
                  "_deepnote_index_column": 4
                },
                {
                  "Index": "10127",
                  "Population": "9265",
                  "centroide": "(2.196746635304167, 41.39078824818179)",
                  "_deepnote_index_column": 5
                },
                {
                  "Index": "10126",
                  "Population": "22296",
                  "centroide": "(2.1834249774295413, 41.38680404482177)",
                  "_deepnote_index_column": 6
                },
                {
                  "Index": "10121",
                  "Population": "16731",
                  "centroide": "(2.177436648214058, 41.38115370505237)",
                  "_deepnote_index_column": 7
                },
                {
                  "Index": "10120",
                  "Population": "24025",
                  "centroide": "(2.1672311768886736, 41.38224945333623)",
                  "_deepnote_index_column": 8
                },
                {
                  "Index": "10123",
                  "Population": "22775",
                  "centroide": "(2.158521773893073, 41.387293757064114)",
                  "_deepnote_index_column": 9
                }
              ]
            },
            "text/plain": "     Index Population                                 centroide\n0    10113      17520   (2.1569322495068772, 41.36446822555657)\n1    10115      38090    (2.159359923207574, 41.37853652453478)\n2    10114      22000  (2.1688545577838925, 41.373011178875345)\n3    10125      22923   (2.172905132941295, 41.376540848891736)\n4    10124      14739   (2.190197608860213, 41.377349237279056)\n..     ...        ...                                       ...\n108   1102      91083      (2.03636781029606, 41.3430572426467)\n109   1159      66168   (2.032205213860239, 41.302976277777645)\n110    949      46705  (1.9837474451185597, 41.294668219954396)\n111    880       6961   (1.9015356228294058, 41.31860011293308)\n112    914      65612   (1.9257313463188863, 41.45646969240692)\n\n[113 rows x 3 columns]",
            "text/html": "<div>\n<style scoped>\n    .dataframe tbody tr th:only-of-type {\n        vertical-align: middle;\n    }\n\n    .dataframe tbody tr th {\n        vertical-align: top;\n    }\n\n    .dataframe thead th {\n        text-align: right;\n    }\n</style>\n<table border=\"1\" class=\"dataframe\">\n  <thead>\n    <tr style=\"text-align: right;\">\n      <th></th>\n      <th>Index</th>\n      <th>Population</th>\n      <th>centroide</th>\n    </tr>\n  </thead>\n  <tbody>\n    <tr>\n      <th>0</th>\n      <td>10113</td>\n      <td>17520</td>\n      <td>(2.1569322495068772, 41.36446822555657)</td>\n    </tr>\n    <tr>\n      <th>1</th>\n      <td>10115</td>\n      <td>38090</td>\n      <td>(2.159359923207574, 41.37853652453478)</td>\n    </tr>\n    <tr>\n      <th>2</th>\n      <td>10114</td>\n      <td>22000</td>\n      <td>(2.1688545577838925, 41.373011178875345)</td>\n    </tr>\n    <tr>\n      <th>3</th>\n      <td>10125</td>\n      <td>22923</td>\n      <td>(2.172905132941295, 41.376540848891736)</td>\n    </tr>\n    <tr>\n      <th>4</th>\n      <td>10124</td>\n      <td>14739</td>\n      <td>(2.190197608860213, 41.377349237279056)</td>\n    </tr>\n    <tr>\n      <th>...</th>\n      <td>...</td>\n      <td>...</td>\n      <td>...</td>\n    </tr>\n    <tr>\n      <th>108</th>\n      <td>1102</td>\n      <td>91083</td>\n      <td>(2.03636781029606, 41.3430572426467)</td>\n    </tr>\n    <tr>\n      <th>109</th>\n      <td>1159</td>\n      <td>66168</td>\n      <td>(2.032205213860239, 41.302976277777645)</td>\n    </tr>\n    <tr>\n      <th>110</th>\n      <td>949</td>\n      <td>46705</td>\n      <td>(1.9837474451185597, 41.294668219954396)</td>\n    </tr>\n    <tr>\n      <th>111</th>\n      <td>880</td>\n      <td>6961</td>\n      <td>(1.9015356228294058, 41.31860011293308)</td>\n    </tr>\n    <tr>\n      <th>112</th>\n      <td>914</td>\n      <td>65612</td>\n      <td>(1.9257313463188863, 41.45646969240692)</td>\n    </tr>\n  </tbody>\n</table>\n<p>113 rows × 3 columns</p>\n</div>"
          },
          "metadata": {}
        }
      ],
      "execution_count": 94,
      "block_group": "ea9f9b2997b94859b41cc25db7223e2b"
    },
    {
      "cell_type": "code",
      "source": "zonas_censales_ine = gpd.read_file('/work/GPX programing test/zonas_censales_ine.json')\nzonas_censales_ine",
      "metadata": {
        "source_hash": "4d37cca7",
        "execution_start": 1696369981732,
        "execution_millis": 2935,
        "deepnote_table_state": {
          "sortBy": [],
          "filters": [],
          "pageSize": 10,
          "pageIndex": 0
        },
        "deepnote_table_loading": false,
        "deepnote_app_coordinates": {
          "h": 5,
          "w": 12,
          "x": 0,
          "y": 0
        },
        "deepnote_to_be_reexecuted": false,
        "cell_id": "b110bd78af444325ba7f91aa4f43c09e",
        "deepnote_cell_type": "code"
      },
      "outputs": [
        {
          "output_type": "execute_result",
          "execution_count": 95,
          "data": {
            "application/vnd.deepnote.dataframe.v3+json": {
              "column_count": 21,
              "row_count": 36309,
              "columns": [
                {
                  "name": "CUSEC",
                  "dtype": "object",
                  "stats": {
                    "unique_count": 36309,
                    "nan_count": 0,
                    "categories": [
                      {
                        "name": "0100901001",
                        "count": 1
                      },
                      {
                        "name": "0101001002",
                        "count": 1
                      },
                      {
                        "name": "36307 others",
                        "count": 36307
                      }
                    ]
                  }
                },
                {
                  "name": "CUMUN",
                  "dtype": "object",
                  "stats": {
                    "unique_count": 8131,
                    "nan_count": 0,
                    "categories": [
                      {
                        "name": "28079",
                        "count": 2443
                      },
                      {
                        "name": "08019",
                        "count": 1068
                      },
                      {
                        "name": "8129 others",
                        "count": 32798
                      }
                    ]
                  }
                },
                {
                  "name": "CSEC",
                  "dtype": "object"
                },
                {
                  "name": "CDIS",
                  "dtype": "object"
                },
                {
                  "name": "CMUN",
                  "dtype": "object"
                },
                {
                  "name": "CPRO",
                  "dtype": "object"
                },
                {
                  "name": "CCA",
                  "dtype": "object"
                },
                {
                  "name": "CUDIS",
                  "dtype": "object"
                },
                {
                  "name": "CLAU2",
                  "dtype": "object"
                },
                {
                  "name": "NPRO",
                  "dtype": "object"
                },
                {
                  "name": "NCA",
                  "dtype": "object"
                },
                {
                  "name": "CNUT0",
                  "dtype": "object"
                },
                {
                  "name": "CNUT1",
                  "dtype": "object"
                },
                {
                  "name": "CNUT2",
                  "dtype": "object"
                },
                {
                  "name": "CNUT3",
                  "dtype": "object"
                },
                {
                  "name": "ESTADO",
                  "dtype": "object"
                },
                {
                  "name": "OBS",
                  "dtype": "object"
                },
                {
                  "name": "NMUN",
                  "dtype": "object"
                },
                {
                  "name": "Shape_Leng",
                  "dtype": "float64"
                },
                {
                  "name": "Shape_Area",
                  "dtype": "float64"
                },
                {
                  "name": "geometry",
                  "dtype": "geometry"
                },
                {
                  "name": "_deepnote_index_column",
                  "dtype": "int64"
                }
              ],
              "rows": [
                {
                  "CUSEC": "0100901001",
                  "CUMUN": "01009",
                  "CSEC": "001",
                  "CDIS": "01",
                  "CMUN": "009",
                  "CPRO": "01",
                  "CCA": "16",
                  "CUDIS": "0100901",
                  "CLAU2": "01009",
                  "NPRO": "Araba/Álava",
                  "NCA": "País Vasco",
                  "CNUT0": "ES",
                  "CNUT1": "2",
                  "CNUT2": "1",
                  "CNUT3": "1",
                  "ESTADO": "I",
                  "OBS": "",
                  "NMUN": "Asparrena",
                  "Shape_Leng": 51725.3535379,
                  "Shape_Area": 63260804.4929,
                  "geometry": "MULTIPOLYGON (((-2.2506897690201075 42.89549801786226, -2.316102389435056 42.92908167601734, -2.337468389202634 42.87133130212004, -2.2976103751981447 42.849431112460074, -2.23494216925327 42.850681673676334, -2.2506897690201075 42.89549801786226)), ((-2.354381879853505 42.94975959649108, -2.384832153869809 42.95100824566288, -2.406414036509047 42.89488525412457, -2.405577526405495 42.894232535251945, -2.3511972480822125 42.942528463212106, -2.354381879853505 42.94975959649108)))",
                  "_deepnote_index_column": 0
                },
                {
                  "CUSEC": "0101001002",
                  "CUMUN": "01010",
                  "CSEC": "002",
                  "CDIS": "01",
                  "CMUN": "010",
                  "CPRO": "01",
                  "CCA": "16",
                  "CUDIS": "0101001",
                  "CLAU2": "01010",
                  "NPRO": "Araba/Álava",
                  "NCA": "País Vasco",
                  "CNUT0": "ES",
                  "CNUT1": "2",
                  "CNUT2": "1",
                  "CNUT3": "1",
                  "ESTADO": "I",
                  "OBS": "",
                  "NMUN": "Ayala/Aiara",
                  "Shape_Leng": 13350.7747279,
                  "Shape_Area": 7332951.23071,
                  "geometry": "POLYGON ((-2.9749902007828237 43.09903800597374, -3.0160245564500823 43.11833288006328, -3.0024839354187782 43.084840332691, -2.9729505343319262 43.095246491394725, -2.9749902007828237 43.09903800597374))",
                  "_deepnote_index_column": 1
                },
                {
                  "CUSEC": "0103101001",
                  "CUMUN": "01031",
                  "CSEC": "001",
                  "CDIS": "01",
                  "CMUN": "031",
                  "CPRO": "01",
                  "CCA": "16",
                  "CUDIS": "0103101",
                  "CLAU2": "01031",
                  "NPRO": "Araba/Álava",
                  "NCA": "País Vasco",
                  "CNUT0": "ES",
                  "CNUT1": "2",
                  "CNUT2": "1",
                  "CNUT3": "1",
                  "ESTADO": "I",
                  "OBS": "",
                  "NMUN": "Laguardia",
                  "Shape_Leng": 87711.7170506,
                  "Shape_Area": 80416014.598,
                  "geometry": "MULTIPOLYGON (((-2.5246695632915417 42.61470709022148, -2.5528470651185 42.60822862344177, -2.6679348013756594 42.59239714953861, -2.6551985494716956 42.56123435374545, -2.6551893932187665 42.56115846879931, -2.616920374166768 42.55442638903213, -2.6160082306030925 42.53044981937655, -2.60090906681547 42.48455835054158, -2.5912417973598805 42.4827411036652, -2.574484073376645 42.50751817131602, -2.5490317748111964 42.48444677925078, -2.537245941182016 42.48335861242521, -2.5139190901135486 42.51803890723045, -2.5198199436796838 42.520607901405704, -2.5322818617088845 42.58777527070389, -2.5246695632915417 42.61470709022148)), ((-2.4825656605737945 42.499912251414365, -2.5053986923571583 42.51289604159015, -2.4773686903587366 42.48659158058082, -2.476954967410146 42.48693189907122, -2.4825656605737945 42.499912251414365)), ((-2.4982898734865646 42.615920405046204, -2.5039075686467407 42.61671717507847, -2.498731721373175 42.61272120882382, -2.4982898734865646 42.615920405046204)))",
                  "_deepnote_index_column": 2
                },
                {
                  "CUSEC": "0103301001",
                  "CUMUN": "01033",
                  "CSEC": "001",
                  "CDIS": "01",
                  "CMUN": "033",
                  "CPRO": "01",
                  "CCA": "16",
                  "CUDIS": "0103301",
                  "CLAU2": "01033",
                  "NPRO": "Araba/Álava",
                  "NCA": "País Vasco",
                  "CNUT0": "ES",
                  "CNUT1": "2",
                  "CNUT2": "1",
                  "CNUT3": "1",
                  "ESTADO": "I",
                  "OBS": "",
                  "NMUN": "Lapuebla de Labarca",
                  "Shape_Leng": 12331.4943773,
                  "Shape_Area": 5950453.12142,
                  "geometry": "POLYGON ((-2.5490317748111964 42.48444677925078, -2.574484073376645 42.50751817131602, -2.5912417973598805 42.4827411036652, -2.5490317748111964 42.48444677925078))",
                  "_deepnote_index_column": 3
                },
                {
                  "CUSEC": "0103701001",
                  "CUMUN": "01037",
                  "CSEC": "001",
                  "CDIS": "01",
                  "CMUN": "037",
                  "CPRO": "01",
                  "CCA": "16",
                  "CUDIS": "0103701",
                  "CLAU2": "01037",
                  "NPRO": "Araba/Álava",
                  "NCA": "País Vasco",
                  "CNUT0": "ES",
                  "CNUT1": "2",
                  "CNUT2": "1",
                  "CNUT3": "1",
                  "ESTADO": "I",
                  "OBS": "",
                  "NMUN": "Arraia-Maeztu",
                  "Shape_Leng": 60761.3152118,
                  "Shape_Area": 122720687.489,
                  "geometry": "POLYGON ((-2.3692919346320083 42.80424660003015, -2.408996089321657 42.80643563825446, -2.4455942961266817 42.79305259298165, -2.4664441049899515 42.78841959383204, -2.476906706857464 42.78530715045956, -2.4918746338917406 42.79274563207051, -2.4973287153172965 42.79313893593757, -2.508560273301725 42.79038726843911, -2.527237202296312 42.78829140859343, -2.426990299053683 42.67830736785405, -2.378043449131422 42.73161640962847, -2.3571915733508004 42.76575322908487, -2.3692919346320083 42.80424660003015))",
                  "_deepnote_index_column": 4
                },
                {
                  "CUSEC": "0104101001",
                  "CUMUN": "01041",
                  "CSEC": "001",
                  "CDIS": "01",
                  "CMUN": "041",
                  "CPRO": "01",
                  "CCA": "16",
                  "CUDIS": "0104101",
                  "CLAU2": "01041",
                  "NPRO": "Araba/Álava",
                  "NCA": "País Vasco",
                  "CNUT0": "ES",
                  "CNUT1": "2",
                  "CNUT2": "1",
                  "CNUT3": "1",
                  "ESTADO": "I",
                  "OBS": "",
                  "NMUN": "Navaridas",
                  "Shape_Leng": 12067.7984238,
                  "Shape_Area": 8983918.26168,
                  "geometry": "POLYGON ((-2.616920374166768 42.55442638903213, -2.6466769228797244 42.55096936285662, -2.640458025425126 42.52033015578849, -2.6160082306030925 42.53044981937655, -2.616920374166768 42.55442638903213))",
                  "_deepnote_index_column": 5
                },
                {
                  "CUSEC": "0100801001",
                  "CUMUN": "01008",
                  "CSEC": "001",
                  "CDIS": "01",
                  "CMUN": "008",
                  "CPRO": "01",
                  "CCA": "16",
                  "CUDIS": "0100801",
                  "CLAU2": "01008",
                  "NPRO": "Araba/Álava",
                  "NCA": "País Vasco",
                  "CNUT0": "ES",
                  "CNUT1": "2",
                  "CNUT2": "1",
                  "CNUT3": "1",
                  "ESTADO": "I",
                  "OBS": "",
                  "NMUN": "Arratzua-Ubarrundia",
                  "Shape_Leng": 65823.1338032,
                  "Shape_Area": 57526541.4452,
                  "geometry": "POLYGON ((-2.551080083147599 42.95891086014067, -2.5964945322165063 42.97628052180871, -2.6813297203251243 42.96122744923833, -2.6797538116627813 42.92058727375512, -2.643662808039352 42.8774846772457, -2.5798973565386984 42.90801102266723, -2.551080083147599 42.95891086014067))",
                  "_deepnote_index_column": 6
                },
                {
                  "CUSEC": "0101001001",
                  "CUMUN": "01010",
                  "CSEC": "001",
                  "CDIS": "01",
                  "CMUN": "010",
                  "CPRO": "01",
                  "CCA": "16",
                  "CUDIS": "0101001",
                  "CLAU2": "01010",
                  "NPRO": "Araba/Álava",
                  "NCA": "País Vasco",
                  "CNUT0": "ES",
                  "CNUT1": "2",
                  "CNUT2": "1",
                  "CNUT3": "1",
                  "ESTADO": "I",
                  "OBS": "",
                  "NMUN": "Ayala/Aiara",
                  "Shape_Leng": 61692.5826502,
                  "Shape_Area": 133531254.991,
                  "geometry": "POLYGON ((-3.074691865501491 43.14643227097736, -3.1088601760493817 43.14337959464969, -3.1340779924898157 43.09709085786957, -3.1778009240816374 43.02198471904254, -3.089417124963765 43.00175008523637, -3.018387807410033 43.03716262906677, -3.016303445586782 43.05475404779594, -3.0085333984833076 43.063620118827934, -3.0007561458990124 43.06799670583464, -3.0024839354187782 43.084840332691, -3.0160245564500823 43.11833288006328, -3.0239574528785673 43.13314902321456, -3.074691865501491 43.14643227097736))",
                  "_deepnote_index_column": 7
                },
                {
                  "CUSEC": "0103001001",
                  "CUMUN": "01030",
                  "CSEC": "001",
                  "CDIS": "01",
                  "CMUN": "030",
                  "CPRO": "01",
                  "CCA": "16",
                  "CUDIS": "0103001",
                  "CLAU2": "01030",
                  "NPRO": "Araba/Álava",
                  "NCA": "País Vasco",
                  "CNUT0": "ES",
                  "CNUT1": "2",
                  "CNUT2": "1",
                  "CNUT3": "1",
                  "ESTADO": "I",
                  "OBS": "",
                  "NMUN": "Lagrán",
                  "Shape_Leng": 43244.8513501,
                  "Shape_Area": 48411739.4671,
                  "geometry": "POLYGON ((-2.6679348013756594 42.59239714953861, -2.5528470651185 42.60822862344177, -2.538047363866885 42.63845157513254, -2.6182220190117214 42.64837059696944, -2.6477373171736494 42.63236310499568, -2.6815792476472535 42.59562408402134, -2.6679348013756594 42.59239714953861))",
                  "_deepnote_index_column": 8
                },
                {
                  "CUSEC": "0103201001",
                  "CUMUN": "01032",
                  "CSEC": "001",
                  "CDIS": "01",
                  "CMUN": "032",
                  "CPRO": "01",
                  "CCA": "16",
                  "CUDIS": "0103201",
                  "CLAU2": "01032",
                  "NPRO": "Araba/Álava",
                  "NCA": "País Vasco",
                  "CNUT0": "ES",
                  "CNUT1": "2",
                  "CNUT2": "1",
                  "CNUT3": "1",
                  "ESTADO": "I",
                  "OBS": "",
                  "NMUN": "Lanciego/Lantziego",
                  "Shape_Leng": 27057.4812891,
                  "Shape_Area": 24168385.8926,
                  "geometry": "POLYGON ((-2.4906431818248826 42.5853307375579, -2.5222966091232095 42.56995205787171, -2.5198199436796838 42.520607901405704, -2.5139190901135486 42.51803890723045, -2.5053986923571583 42.51289604159015, -2.4825656605737945 42.499912251414365, -2.4840889517214073 42.51883586739815, -2.4906431818248826 42.5853307375579))",
                  "_deepnote_index_column": 9
                }
              ]
            },
            "text/plain": "            CUSEC  CUMUN CSEC CDIS CMUN CPRO CCA    CUDIS  CLAU2         NPRO  \\\n0      0100901001  01009  001   01  009   01  16  0100901  01009  Araba/Álava   \n1      0101001002  01010  002   01  010   01  16  0101001  01010  Araba/Álava   \n2      0103101001  01031  001   01  031   01  16  0103101  01031  Araba/Álava   \n3      0103301001  01033  001   01  033   01  16  0103301  01033  Araba/Álava   \n4      0103701001  01037  001   01  037   01  16  0103701  01037  Araba/Álava   \n...           ...    ...  ...  ...  ...  ...  ..      ...    ...          ...   \n36304  3501605017  35016  017   05  016   35  05  3501605  35016  Palmas, Las   \n36305  3501605009  35016  009   05  016   35  05  3501605  35016  Palmas, Las   \n36306  3501605033  35016  033   05  016   35  05  3501605  35016  Palmas, Las   \n36307  3501605034  35016  034   05  016   35  05  3501605  35016  Palmas, Las   \n36308  4103904004  41039  004   04  039   41  01  4103904  41039      Sevilla   \n\n       ... CNUT0 CNUT1 CNUT2 CNUT3 ESTADO OBS                         NMUN  \\\n0      ...    ES     2     1     1      I                        Asparrena   \n1      ...    ES     2     1     1      I                      Ayala/Aiara   \n2      ...    ES     2     1     1      I                        Laguardia   \n3      ...    ES     2     1     1      I              Lapuebla de Labarca   \n4      ...    ES     2     1     1      I                    Arraia-Maeztu   \n...    ...   ...   ...   ...   ...    ...  ..                          ...   \n36304  ...    ES     7     0     5      M      Palmas de Gran Canaria, Las   \n36305  ...    ES     7     0     5      M      Palmas de Gran Canaria, Las   \n36306  ...    ES     7     0     5      M      Palmas de Gran Canaria, Las   \n36307  ...    ES     7     0     5      M      Palmas de Gran Canaria, Las   \n36308  ...    ES     6     1     8      M                            Écija   \n\n          Shape_Leng    Shape_Area  \\\n0       51725.353538  6.326080e+07   \n1       13350.774728  7.332951e+06   \n2       87711.717051  8.041601e+07   \n3       12331.494377  5.950453e+06   \n4       60761.315212  1.227207e+08   \n...              ...           ...   \n36304   15642.540059  5.318911e+06   \n36305    2929.633264  2.023513e+05   \n36306    9796.053160  2.625522e+06   \n36307    1994.804489  1.635899e+05   \n36308  256664.300052  8.496741e+08   \n\n                                                geometry  \n0      MULTIPOLYGON (((-2.25069 42.89550, -2.31610 42...  \n1      POLYGON ((-2.97499 43.09904, -3.01602 43.11833...  \n2      MULTIPOLYGON (((-2.52467 42.61471, -2.55285 42...  \n3      POLYGON ((-2.54903 42.48445, -2.57448 42.50752...  \n4      POLYGON ((-2.36929 42.80425, -2.40900 42.80644...  \n...                                                  ...  \n36304  POLYGON ((-15.49347 28.08960, -15.49699 28.096...  \n36305  POLYGON ((-15.48841 28.09245, -15.48927 28.093...  \n36306  POLYGON ((-15.48999 28.08495, -15.49145 28.086...  \n36307  POLYGON ((-15.48999 28.08495, -15.48559 28.089...  \n36308  MULTIPOLYGON (((-5.24389 37.59755, -5.27452 37...  \n\n[36309 rows x 21 columns]",
            "text/html": "<div>\n<style scoped>\n    .dataframe tbody tr th:only-of-type {\n        vertical-align: middle;\n    }\n\n    .dataframe tbody tr th {\n        vertical-align: top;\n    }\n\n    .dataframe thead th {\n        text-align: right;\n    }\n</style>\n<table border=\"1\" class=\"dataframe\">\n  <thead>\n    <tr style=\"text-align: right;\">\n      <th></th>\n      <th>CUSEC</th>\n      <th>CUMUN</th>\n      <th>CSEC</th>\n      <th>CDIS</th>\n      <th>CMUN</th>\n      <th>CPRO</th>\n      <th>CCA</th>\n      <th>CUDIS</th>\n      <th>CLAU2</th>\n      <th>NPRO</th>\n      <th>...</th>\n      <th>CNUT0</th>\n      <th>CNUT1</th>\n      <th>CNUT2</th>\n      <th>CNUT3</th>\n      <th>ESTADO</th>\n      <th>OBS</th>\n      <th>NMUN</th>\n      <th>Shape_Leng</th>\n      <th>Shape_Area</th>\n      <th>geometry</th>\n    </tr>\n  </thead>\n  <tbody>\n    <tr>\n      <th>0</th>\n      <td>0100901001</td>\n      <td>01009</td>\n      <td>001</td>\n      <td>01</td>\n      <td>009</td>\n      <td>01</td>\n      <td>16</td>\n      <td>0100901</td>\n      <td>01009</td>\n      <td>Araba/Álava</td>\n      <td>...</td>\n      <td>ES</td>\n      <td>2</td>\n      <td>1</td>\n      <td>1</td>\n      <td>I</td>\n      <td></td>\n      <td>Asparrena</td>\n      <td>51725.353538</td>\n      <td>6.326080e+07</td>\n      <td>MULTIPOLYGON (((-2.25069 42.89550, -2.31610 42...</td>\n    </tr>\n    <tr>\n      <th>1</th>\n      <td>0101001002</td>\n      <td>01010</td>\n      <td>002</td>\n      <td>01</td>\n      <td>010</td>\n      <td>01</td>\n      <td>16</td>\n      <td>0101001</td>\n      <td>01010</td>\n      <td>Araba/Álava</td>\n      <td>...</td>\n      <td>ES</td>\n      <td>2</td>\n      <td>1</td>\n      <td>1</td>\n      <td>I</td>\n      <td></td>\n      <td>Ayala/Aiara</td>\n      <td>13350.774728</td>\n      <td>7.332951e+06</td>\n      <td>POLYGON ((-2.97499 43.09904, -3.01602 43.11833...</td>\n    </tr>\n    <tr>\n      <th>2</th>\n      <td>0103101001</td>\n      <td>01031</td>\n      <td>001</td>\n      <td>01</td>\n      <td>031</td>\n      <td>01</td>\n      <td>16</td>\n      <td>0103101</td>\n      <td>01031</td>\n      <td>Araba/Álava</td>\n      <td>...</td>\n      <td>ES</td>\n      <td>2</td>\n      <td>1</td>\n      <td>1</td>\n      <td>I</td>\n      <td></td>\n      <td>Laguardia</td>\n      <td>87711.717051</td>\n      <td>8.041601e+07</td>\n      <td>MULTIPOLYGON (((-2.52467 42.61471, -2.55285 42...</td>\n    </tr>\n    <tr>\n      <th>3</th>\n      <td>0103301001</td>\n      <td>01033</td>\n      <td>001</td>\n      <td>01</td>\n      <td>033</td>\n      <td>01</td>\n      <td>16</td>\n      <td>0103301</td>\n      <td>01033</td>\n      <td>Araba/Álava</td>\n      <td>...</td>\n      <td>ES</td>\n      <td>2</td>\n      <td>1</td>\n      <td>1</td>\n      <td>I</td>\n      <td></td>\n      <td>Lapuebla de Labarca</td>\n      <td>12331.494377</td>\n      <td>5.950453e+06</td>\n      <td>POLYGON ((-2.54903 42.48445, -2.57448 42.50752...</td>\n    </tr>\n    <tr>\n      <th>4</th>\n      <td>0103701001</td>\n      <td>01037</td>\n      <td>001</td>\n      <td>01</td>\n      <td>037</td>\n      <td>01</td>\n      <td>16</td>\n      <td>0103701</td>\n      <td>01037</td>\n      <td>Araba/Álava</td>\n      <td>...</td>\n      <td>ES</td>\n      <td>2</td>\n      <td>1</td>\n      <td>1</td>\n      <td>I</td>\n      <td></td>\n      <td>Arraia-Maeztu</td>\n      <td>60761.315212</td>\n      <td>1.227207e+08</td>\n      <td>POLYGON ((-2.36929 42.80425, -2.40900 42.80644...</td>\n    </tr>\n    <tr>\n      <th>...</th>\n      <td>...</td>\n      <td>...</td>\n      <td>...</td>\n      <td>...</td>\n      <td>...</td>\n      <td>...</td>\n      <td>...</td>\n      <td>...</td>\n      <td>...</td>\n      <td>...</td>\n      <td>...</td>\n      <td>...</td>\n      <td>...</td>\n      <td>...</td>\n      <td>...</td>\n      <td>...</td>\n      <td>...</td>\n      <td>...</td>\n      <td>...</td>\n      <td>...</td>\n      <td>...</td>\n    </tr>\n    <tr>\n      <th>36304</th>\n      <td>3501605017</td>\n      <td>35016</td>\n      <td>017</td>\n      <td>05</td>\n      <td>016</td>\n      <td>35</td>\n      <td>05</td>\n      <td>3501605</td>\n      <td>35016</td>\n      <td>Palmas, Las</td>\n      <td>...</td>\n      <td>ES</td>\n      <td>7</td>\n      <td>0</td>\n      <td>5</td>\n      <td>M</td>\n      <td></td>\n      <td>Palmas de Gran Canaria, Las</td>\n      <td>15642.540059</td>\n      <td>5.318911e+06</td>\n      <td>POLYGON ((-15.49347 28.08960, -15.49699 28.096...</td>\n    </tr>\n    <tr>\n      <th>36305</th>\n      <td>3501605009</td>\n      <td>35016</td>\n      <td>009</td>\n      <td>05</td>\n      <td>016</td>\n      <td>35</td>\n      <td>05</td>\n      <td>3501605</td>\n      <td>35016</td>\n      <td>Palmas, Las</td>\n      <td>...</td>\n      <td>ES</td>\n      <td>7</td>\n      <td>0</td>\n      <td>5</td>\n      <td>M</td>\n      <td></td>\n      <td>Palmas de Gran Canaria, Las</td>\n      <td>2929.633264</td>\n      <td>2.023513e+05</td>\n      <td>POLYGON ((-15.48841 28.09245, -15.48927 28.093...</td>\n    </tr>\n    <tr>\n      <th>36306</th>\n      <td>3501605033</td>\n      <td>35016</td>\n      <td>033</td>\n      <td>05</td>\n      <td>016</td>\n      <td>35</td>\n      <td>05</td>\n      <td>3501605</td>\n      <td>35016</td>\n      <td>Palmas, Las</td>\n      <td>...</td>\n      <td>ES</td>\n      <td>7</td>\n      <td>0</td>\n      <td>5</td>\n      <td>M</td>\n      <td></td>\n      <td>Palmas de Gran Canaria, Las</td>\n      <td>9796.053160</td>\n      <td>2.625522e+06</td>\n      <td>POLYGON ((-15.48999 28.08495, -15.49145 28.086...</td>\n    </tr>\n    <tr>\n      <th>36307</th>\n      <td>3501605034</td>\n      <td>35016</td>\n      <td>034</td>\n      <td>05</td>\n      <td>016</td>\n      <td>35</td>\n      <td>05</td>\n      <td>3501605</td>\n      <td>35016</td>\n      <td>Palmas, Las</td>\n      <td>...</td>\n      <td>ES</td>\n      <td>7</td>\n      <td>0</td>\n      <td>5</td>\n      <td>M</td>\n      <td></td>\n      <td>Palmas de Gran Canaria, Las</td>\n      <td>1994.804489</td>\n      <td>1.635899e+05</td>\n      <td>POLYGON ((-15.48999 28.08495, -15.48559 28.089...</td>\n    </tr>\n    <tr>\n      <th>36308</th>\n      <td>4103904004</td>\n      <td>41039</td>\n      <td>004</td>\n      <td>04</td>\n      <td>039</td>\n      <td>41</td>\n      <td>01</td>\n      <td>4103904</td>\n      <td>41039</td>\n      <td>Sevilla</td>\n      <td>...</td>\n      <td>ES</td>\n      <td>6</td>\n      <td>1</td>\n      <td>8</td>\n      <td>M</td>\n      <td></td>\n      <td>Écija</td>\n      <td>256664.300052</td>\n      <td>8.496741e+08</td>\n      <td>MULTIPOLYGON (((-5.24389 37.59755, -5.27452 37...</td>\n    </tr>\n  </tbody>\n</table>\n<p>36309 rows × 21 columns</p>\n</div>"
          },
          "metadata": {}
        }
      ],
      "execution_count": 95,
      "block_group": "fc3ead59a66f4cf980a1d9a8241cff7e"
    },
    {
      "cell_type": "code",
      "source": "\n\nfaltantes = []\nndf = []\nfor elemento in zonas_operador['Index']:\n    resultado = zonas_censales_ine[zonas_censales_ine['CUSEC'].str.contains(str(elemento))]\n    centroide_str = zonas_operador[zonas_operador['Index'] == elemento]['centroide']\n    print(elemento, '\\n \\n \\n \\n')\n    if resultado.shape[0] == 0:\n        faltantes.append(elemento)\n    else:\n        centroide = centroide_str.iloc[0]  # Obtiene el valor numérico del centroide\n        resultado['centroide'] = resultado.apply(calcular_centroide, axis=1)\n\n        # Calcula la distancia euclidiana entre el centroide y cada valor en la columna 'centroide'\n        resultado['distancia'] = resultado['centroide'].apply(lambda x: euclidean(centroide, x))\n        \n        # Encuentra el índice de la fila con la distancia mínima\n        indice_fila_mas_cercana = resultado['distancia'].idxmin()\n        \n        # Imprime los datos de la fila más cercana\n        ndf.append(resultado.loc[indice_fila_mas_cercana])\nndf\n\n",
      "metadata": {
        "source_hash": "d2e4770a",
        "execution_start": 1696370759566,
        "execution_millis": 2571,
        "deepnote_app_coordinates": {
          "h": 5,
          "w": 12,
          "x": 0,
          "y": 0
        },
        "deepnote_to_be_reexecuted": false,
        "cell_id": "68f0c4ea62b142f49209113d8a3328e4",
        "deepnote_cell_type": "code"
      },
      "outputs": [
        {
          "name": "stdout",
          "text": "10113 \n \n \n \n\n10115 \n \n \n \n\n10114 \n \n \n \n\n10125 \n \n \n \n\n10124 \n \n \n \n\n10127 \n \n \n \n\n10126 \n \n \n \n\n10121 \n \n \n \n\n10120 \n \n \n \n\n10123 \n \n \n \n\n10122 \n \n \n \n\n10133 \n \n \n \n\n10132 \n \n \n \n\n10134 \n \n \n \n\n10135 \n \n \n \n\n10129 \n \n \n \n\n10131 \n \n \n \n\n10130 \n \n \n \n\n10141 \n \n \n \n\n10140 \n \n \n \n\n10143 \n \n \n \n\n10142 \n \n \n \n\n10137 \n \n \n \n\n10136 \n \n \n \n\n10139 \n \n \n \n\n10138 \n \n \n \n\n10149 \n \n \n \n\n10151 \n \n \n \n\n10150 \n \n \n \n\n10145 \n \n \n \n\n10144 \n \n \n \n\n10147 \n \n \n \n\n10146 \n \n \n \n\n10157 \n \n \n \n\n10156 \n \n \n \n\n10159 \n \n \n \n\n10158 \n \n \n \n\n10153 \n \n \n \n\n10152 \n \n \n \n\n10155 \n \n \n \n\n10165 \n \n \n \n\n10154 \n \n \n \n\n10164 \n \n \n \n\n10166 \n \n \n \n\n10167 \n \n \n \n\n10161 \n \n \n \n\n10148 \n \n \n \n\n10160 \n \n \n \n\n10163 \n \n \n \n\n10162 \n \n \n \n\n10169 \n \n \n \n\n10168 \n \n \n \n\n10003 \n \n \n \n\n10171 \n \n \n \n\n10183 \n \n \n \n\n10184 \n \n \n \n\n10182 \n \n \n \n\n10181 \n \n \n \n\n10128 \n \n \n \n\n10190 \n \n \n \n\n10189 \n \n \n \n\n10192 \n \n \n \n\n10191 \n \n \n \n\n10186 \n \n \n \n\n10185 \n \n \n \n\n10188 \n \n \n \n\n10187 \n \n \n \n\n10198 \n \n \n \n\n10197 \n \n \n \n\n10200 \n \n \n \n\n10199 \n \n \n \n\n10194 \n \n \n \n\n10193 \n \n \n \n\n10196 \n \n \n \n\n10195 \n \n \n \n\n10205 \n \n \n \n\n10208 \n \n \n \n\n10207 \n \n \n \n\n10202 \n \n \n \n\n10206 \n \n \n \n\n10204 \n \n \n \n\n10203 \n \n \n \n\n10211 \n \n \n \n\n10210 \n \n \n \n\n10213 \n \n \n \n\n10209 \n \n \n \n\n10212 \n \n \n \n\n10215 \n \n \n \n\n10217 \n \n \n \n\n10214 \n \n \n \n\n10216 \n \n \n \n\n10221 \n \n \n \n\n10220 \n \n \n \n\n10201 \n \n \n \n\n986 \n \n \n \n\n1140 \n \n \n \n\n985 \n \n \n \n\n1039 \n \n \n \n\n1110 \n \n \n \n\n1018 \n \n \n \n\n1124 \n \n \n \n\n1069 \n \n \n \n\n1079 \n \n \n \n\n937 \n \n \n \n\n1075 \n \n \n \n\n1121 \n \n \n \n\n1171 \n \n \n \n\n1062 \n \n \n \n\n1102 \n \n \n \n\n1159 \n \n \n \n\n949 \n \n \n \n\n880 \n \n \n \n\n914 \n \n \n \n\n",
          "output_type": "stream"
        },
        {
          "output_type": "execute_result",
          "execution_count": 104,
          "data": {
            "text/plain": "[CUSEC                                                0801910113\n CUMUN                                                     08019\n CSEC                                                        113\n CDIS                                                         10\n CMUN                                                        019\n CPRO                                                         08\n CCA                                                          09\n CUDIS                                                   0801910\n CLAU2                                                     08019\n NPRO                                                  Barcelona\n NCA                                                    Cataluña\n CNUT0                                                        ES\n CNUT1                                                         5\n CNUT2                                                         1\n CNUT3                                                         1\n ESTADO                                                        I\n OBS                                                            \n NMUN                                                  Barcelona\n Shape_Leng                                          1270.638461\n Shape_Area                                         58296.352151\n geometry      POLYGON ((2.1958389598886647 41.41712367159346...\n centroide                (2.193932347773845, 41.41585650159721)\n distancia                                              0.063323\n Name: 4688, dtype: object,\n CUSEC                                                0801910115\n CUMUN                                                     08019\n CSEC                                                        115\n CDIS                                                         10\n CMUN                                                        019\n CPRO                                                         08\n CCA                                                          09\n CUDIS                                                   0801910\n CLAU2                                                     08019\n NPRO                                                  Barcelona\n NCA                                                    Cataluña\n CNUT0                                                        ES\n CNUT1                                                         5\n CNUT2                                                         1\n CNUT3                                                         1\n ESTADO                                                        I\n OBS                                                            \n NMUN                                                  Barcelona\n Shape_Leng                                          2263.615842\n Shape_Area                                        127111.006061\n geometry      POLYGON ((2.198110661936422 41.42054501432879,...\n centroide                (2.19693920305393, 41.419537679183044)\n distancia                                              0.055617\n Name: 4689, dtype: object,\n CUSEC                                                0801910114\n CUMUN                                                     08019\n CSEC                                                        114\n CDIS                                                         10\n CMUN                                                        019\n CPRO                                                         08\n CCA                                                          09\n CUDIS                                                   0801910\n CLAU2                                                     08019\n NPRO                                                  Barcelona\n NCA                                                    Cataluña\n CNUT0                                                        ES\n CNUT1                                                         5\n CNUT2                                                         1\n CNUT3                                                         1\n ESTADO                                                        I\n OBS                                                            \n NMUN                                                  Barcelona\n Shape_Leng                                            808.90456\n Shape_Area                                         27389.284777\n geometry      POLYGON ((2.1970002489802267 41.41798236547390...\n centroide                (2.196585214175203, 41.41743551285964)\n distancia                                              0.052369\n Name: 4667, dtype: object,\n CUSEC                                                0801910125\n CUMUN                                                     08019\n CSEC                                                        125\n CDIS                                                         10\n CMUN                                                        019\n CPRO                                                         08\n CCA                                                          09\n CUDIS                                                   0801910\n CLAU2                                                     08019\n NPRO                                                  Barcelona\n NCA                                                    Cataluña\n CNUT0                                                        ES\n CNUT1                                                         5\n CNUT2                                                         1\n CNUT3                                                         1\n ESTADO                                                        I\n OBS                                                            \n NMUN                                                  Barcelona\n Shape_Leng                                           700.537765\n Shape_Area                                         24686.132777\n geometry      POLYGON ((2.20841617701582 41.41953643449078, ...\n centroide              (2.2070315859062366, 41.419682192698666)\n distancia                                              0.055007\n Name: 4683, dtype: object,\n CUSEC                                                0801910124\n CUMUN                                                     08019\n CSEC                                                        124\n CDIS                                                         10\n CMUN                                                        019\n CPRO                                                         08\n CCA                                                          09\n CUDIS                                                   0801910\n CLAU2                                                     08019\n NPRO                                                  Barcelona\n NCA                                                    Cataluña\n CNUT0                                                        ES\n CNUT1                                                         5\n CNUT2                                                         1\n CNUT3                                                         1\n ESTADO                                                        I\n OBS                                                            \n NMUN                                                  Barcelona\n Shape_Leng                                           564.167406\n Shape_Area                                         19830.879675\n geometry      POLYGON ((2.20727958861403 41.41868900199766, ...\n centroide              (2.2060899217439265, 41.418741797879804)\n distancia                                              0.044339\n Name: 4740, dtype: object,\n CUSEC                                                0801910127\n CUMUN                                                     08019\n CSEC                                                        127\n CDIS                                                         10\n CMUN                                                        019\n CPRO                                                         08\n CCA                                                          09\n CUDIS                                                   0801910\n CLAU2                                                     08019\n NPRO                                                  Barcelona\n NCA                                                    Cataluña\n CNUT0                                                        ES\n CNUT1                                                         5\n CNUT2                                                         1\n CNUT3                                                         1\n ESTADO                                                        I\n OBS                                                            \n NMUN                                                  Barcelona\n Shape_Leng                                           799.713052\n Shape_Area                                         35542.766581\n geometry      POLYGON ((2.2054505176913812 41.42007663211394...\n centroide               (2.2043318359116424, 41.41921781022341)\n distancia                                              0.029424\n Name: 4684, dtype: object,\n CUSEC                                                0801910126\n CUMUN                                                     08019\n CSEC                                                        126\n CDIS                                                         10\n CMUN                                                        019\n CPRO                                                         08\n CCA                                                          09\n CUDIS                                                   0801910\n CLAU2                                                     08019\n NPRO                                                  Barcelona\n NCA                                                    Cataluña\n CNUT0                                                        ES\n CNUT1                                                         5\n CNUT2                                                         1\n CNUT3                                                         1\n ESTADO                                                        I\n OBS                                                            \n NMUN                                                  Barcelona\n Shape_Leng                                            523.70033\n Shape_Area                                         12884.953806\n geometry      POLYGON ((2.2071541362649207 41.42050143707389...\n centroide                 (2.205981743648943, 41.4206290662246)\n distancia                                              0.040656\n Name: 4728, dtype: object,\n CUSEC                                                0801910121\n CUMUN                                                     08019\n CSEC                                                        121\n CDIS                                                         10\n CMUN                                                        019\n CPRO                                                         08\n CCA                                                          09\n CUDIS                                                   0801910\n CLAU2                                                     08019\n NPRO                                                  Barcelona\n NCA                                                    Cataluña\n CNUT0                                                        ES\n CNUT1                                                         5\n CNUT2                                                         1\n CNUT3                                                         1\n ESTADO                                                        I\n OBS                                                            \n NMUN                                                  Barcelona\n Shape_Leng                                          1106.098319\n Shape_Area                                         53803.385233\n geometry      POLYGON ((2.2027660850542894 41.41531207528317...\n centroide               (2.2011890332606394, 41.41615407363122)\n distancia                                              0.042299\n Name: 4739, dtype: object,\n CUSEC                                                0801910120\n CUMUN                                                     08019\n CSEC                                                        120\n CDIS                                                         10\n CMUN                                                        019\n CPRO                                                         08\n CCA                                                          09\n CUDIS                                                   0801910\n CLAU2                                                     08019\n NPRO                                                  Barcelona\n NCA                                                    Cataluña\n CNUT0                                                        ES\n CNUT1                                                         5\n CNUT2                                                         1\n CNUT3                                                         1\n ESTADO                                                        I\n OBS                                                            \n NMUN                                                  Barcelona\n Shape_Leng                                          1033.563406\n Shape_Area                                         51968.752374\n geometry      POLYGON ((2.2026316682381295 41.41881647047805...\n centroide               (2.2004565782641237, 41.41806509679552)\n distancia                                              0.048854\n Name: 4682, dtype: object,\n CUSEC                                                0801910123\n CUMUN                                                     08019\n CSEC                                                        123\n CDIS                                                         10\n CMUN                                                        019\n CPRO                                                         08\n CCA                                                          09\n CUDIS                                                   0801910\n CLAU2                                                     08019\n NPRO                                                  Barcelona\n NCA                                                    Cataluña\n CNUT0                                                        ES\n CNUT1                                                         5\n CNUT2                                                         1\n CNUT3                                                         1\n ESTADO                                                        I\n OBS                                                            \n NMUN                                                  Barcelona\n Shape_Leng                                           564.350484\n Shape_Area                                         19853.677042\n geometry      POLYGON ((2.206143471262246 41.41784188571422,...\n centroide               (2.2049574685876125, 41.41790083865006)\n distancia                                              0.055615\n Name: 4712, dtype: object,\n CUSEC                                                0801910122\n CUMUN                                                     08019\n CSEC                                                        122\n CDIS                                                         10\n CMUN                                                        019\n CPRO                                                         08\n CCA                                                          09\n CUDIS                                                   0801910\n CLAU2                                                     08019\n NPRO                                                  Barcelona\n NCA                                                    Cataluña\n CNUT0                                                        ES\n CNUT1                                                         5\n CNUT2                                                         1\n CNUT3                                                         1\n ESTADO                                                        I\n OBS                                                            \n NMUN                                                  Barcelona\n Shape_Leng                                          1100.144542\n Shape_Area                                         58000.240455\n geometry      POLYGON ((2.2037672219652777 41.41795301124025...\n centroide               (2.203085549047357, 41.417150385353274)\n distancia                                              0.043462\n Name: 4638, dtype: object,\n CUSEC                                                0801910133\n CUMUN                                                     08019\n CSEC                                                        133\n CDIS                                                         10\n CMUN                                                        019\n CPRO                                                         08\n CCA                                                          09\n CUDIS                                                   0801910\n CLAU2                                                     08019\n NPRO                                                  Barcelona\n NCA                                                    Cataluña\n CNUT0                                                        ES\n CNUT1                                                         5\n CNUT2                                                         1\n CNUT3                                                         1\n ESTADO                                                        I\n OBS                                                            \n NMUN                                                  Barcelona\n Shape_Leng                                           942.351292\n Shape_Area                                         43916.204661\n geometry      POLYGON ((2.2010733955309294 41.42269898908989...\n centroide              (2.1995949372554615, 41.422522328193544)\n distancia                                              0.042018\n Name: 4729, dtype: object,\n CUSEC                                                0801910132\n CUMUN                                                     08019\n CSEC                                                        132\n CDIS                                                         10\n CMUN                                                        019\n CPRO                                                         08\n CCA                                                          09\n CUDIS                                                   0801910\n CLAU2                                                     08019\n NPRO                                                  Barcelona\n NCA                                                    Cataluña\n CNUT0                                                        ES\n CNUT1                                                         5\n CNUT2                                                         1\n CNUT3                                                         1\n ESTADO                                                        I\n OBS                                                            \n NMUN                                                  Barcelona\n Shape_Leng                                           827.812018\n Shape_Area                                         35497.356195\n geometry      POLYGON ((2.2022144219935265 41.42083485125803...\n centroide                (2.201298148433038, 41.42188922156662)\n distancia                                              0.032692\n Name: 4691, dtype: object,\n CUSEC                                                0801910134\n CUMUN                                                     08019\n CSEC                                                        134\n CDIS                                                         10\n CMUN                                                        019\n CPRO                                                         08\n CCA                                                          09\n CUDIS                                                   0801910\n CLAU2                                                     08019\n NPRO                                                  Barcelona\n NCA                                                    Cataluña\n CNUT0                                                        ES\n CNUT1                                                         5\n CNUT2                                                         1\n CNUT3                                                         1\n ESTADO                                                        I\n OBS                                                            \n NMUN                                                  Barcelona\n Shape_Leng                                           821.473282\n Shape_Area                                          29961.98802\n geometry      POLYGON ((2.1987727581486336 41.42364072567287...\n centroide               (2.1978377496824204, 41.42253302166503)\n distancia                                              0.047105\n Name: 4655, dtype: object,\n CUSEC                                                0801910135\n CUMUN                                                     08019\n CSEC                                                        135\n CDIS                                                         10\n CMUN                                                        019\n CPRO                                                         08\n CCA                                                          09\n CUDIS                                                   0801910\n CLAU2                                                     08019\n NPRO                                                  Barcelona\n NCA                                                    Cataluña\n CNUT0                                                        ES\n CNUT1                                                         5\n CNUT2                                                         1\n CNUT3                                                         1\n ESTADO                                                        I\n OBS                                                            \n NMUN                                                  Barcelona\n Shape_Leng                                           2576.95973\n Shape_Area                                        183365.037722\n geometry      POLYGON ((2.20023738627323 41.42572306571338, ...\n centroide                (2.198664674211739, 41.42480508716345)\n distancia                                              0.045525\n Name: 4801, dtype: object,\n CUSEC                                                0801910129\n CUMUN                                                     08019\n CSEC                                                        129\n CDIS                                                         10\n CMUN                                                        019\n CPRO                                                         08\n CCA                                                          09\n CUDIS                                                   0801910\n CLAU2                                                     08019\n NPRO                                                  Barcelona\n NCA                                                    Cataluña\n CNUT0                                                        ES\n CNUT1                                                         5\n CNUT2                                                         1\n CNUT3                                                         1\n ESTADO                                                        I\n OBS                                                            \n NMUN                                                  Barcelona\n Shape_Leng                                             545.2128\n Shape_Area                                         18573.620198\n geometry      POLYGON ((2.206076532579577 41.42131677900763,...\n centroide                (2.204918768735728, 41.42133931436945)\n distancia                                              0.042642\n Name: 4669, dtype: object,\n CUSEC                                                0801910131\n CUMUN                                                     08019\n CSEC                                                        131\n CDIS                                                         10\n CMUN                                                        019\n CPRO                                                         08\n CCA                                                          09\n CUDIS                                                   0801910\n CLAU2                                                     08019\n NPRO                                                  Barcelona\n NCA                                                    Cataluña\n CNUT0                                                        ES\n CNUT1                                                         5\n CNUT2                                                         1\n CNUT3                                                         1\n ESTADO                                                        I\n OBS                                                            \n NMUN                                                  Barcelona\n Shape_Leng                                           798.810363\n Shape_Area                                         24926.317949\n geometry      POLYGON ((2.2022144219935265 41.42083485125803...\n centroide               (2.2010205282202318, 41.42072482598218)\n distancia                                              0.036048\n Name: 4670, dtype: object,\n CUSEC                                                0801910130\n CUMUN                                                     08019\n CSEC                                                        130\n CDIS                                                         10\n CMUN                                                        019\n CPRO                                                         08\n CCA                                                          09\n CUDIS                                                   0801910\n CLAU2                                                     08019\n NPRO                                                  Barcelona\n NCA                                                    Cataluña\n CNUT0                                                        ES\n CNUT1                                                         5\n CNUT2                                                         1\n CNUT3                                                         1\n ESTADO                                                        I\n OBS                                                            \n NMUN                                                  Barcelona\n Shape_Leng                                           875.744889\n Shape_Area                                         34903.860708\n geometry      POLYGON ((2.2049025627668914 41.42220498063297...\n centroide                (2.203208809728568, 41.42199588785155)\n distancia                                              0.028888\n Name: 4690, dtype: object,\n CUSEC                                                0801910141\n CUMUN                                                     08019\n CSEC                                                        141\n CDIS                                                         10\n CMUN                                                        019\n CPRO                                                         08\n CCA                                                          09\n CUDIS                                                   0801910\n CLAU2                                                     08019\n NPRO                                                  Barcelona\n NCA                                                    Cataluña\n CNUT0                                                        ES\n CNUT1                                                         5\n CNUT2                                                         1\n CNUT3                                                         1\n ESTADO                                                        I\n OBS                                                            \n NMUN                                                  Barcelona\n Shape_Leng                                           838.124949\n Shape_Area                                          39315.30186\n geometry      POLYGON ((2.2096582686865154 41.4204625139598,...\n centroide                (2.207860567686212, 41.42084501232333)\n distancia                                              0.026908\n Name: 4715, dtype: object,\n CUSEC                                                0801910140\n CUMUN                                                     08019\n CSEC                                                        140\n CDIS                                                         10\n CMUN                                                        019\n CPRO                                                         08\n CCA                                                          09\n CUDIS                                                   0801910\n CLAU2                                                     08019\n NPRO                                                  Barcelona\n NCA                                                    Cataluña\n CNUT0                                                        ES\n CNUT1                                                         5\n CNUT2                                                         1\n CNUT3                                                         1\n ESTADO                                                        I\n OBS                                                            \n NMUN                                                  Barcelona\n Shape_Leng                                           810.612284\n Shape_Area                                          35294.79223\n geometry      POLYGON ((2.208162312732248 41.42311557143892,...\n centroide                (2.206570683356359, 41.42259204878385)\n distancia                                               0.02093\n Name: 4714, dtype: object,\n CUSEC                                                0801910143\n CUMUN                                                     08019\n CSEC                                                        143\n CDIS                                                         10\n CMUN                                                        019\n CPRO                                                         08\n CCA                                                          09\n CUDIS                                                   0801910\n CLAU2                                                     08019\n NPRO                                                  Barcelona\n NCA                                                    Cataluña\n CNUT0                                                        ES\n CNUT1                                                         5\n CNUT2                                                         1\n CNUT3                                                         1\n ESTADO                                                        I\n OBS                                                            \n NMUN                                                  Barcelona\n Shape_Leng                                          1165.243393\n Shape_Area                                         42742.301423\n geometry      POLYGON ((2.211349979502847 41.422173321797224...\n centroide              (2.2090504079257913, 41.423608682600424)\n distancia                                              0.038017\n Name: 4761, dtype: object,\n CUSEC                                                0801910142\n CUMUN                                                     08019\n CSEC                                                        142\n CDIS                                                         10\n CMUN                                                        019\n CPRO                                                         08\n CCA                                                          09\n CUDIS                                                   0801910\n CLAU2                                                     08019\n NPRO                                                  Barcelona\n NCA                                                    Cataluña\n CNUT0                                                        ES\n CNUT1                                                         5\n CNUT2                                                         1\n CNUT3                                                         1\n ESTADO                                                        I\n OBS                                                            \n NMUN                                                  Barcelona\n Shape_Leng                                          1126.173159\n Shape_Area                                         63042.394114\n geometry      POLYGON ((2.211349979502847 41.422173321797224...\n centroide              (2.2093307366860016, 41.421882607105225)\n distancia                                              0.030109\n Name: 4802, dtype: object,\n CUSEC                                                0801910137\n CUMUN                                                     08019\n CSEC                                                        137\n CDIS                                                         10\n CMUN                                                        019\n CPRO                                                         08\n CCA                                                          09\n CUDIS                                                   0801910\n CLAU2                                                     08019\n NPRO                                                  Barcelona\n NCA                                                    Cataluña\n CNUT0                                                        ES\n CNUT1                                                         5\n CNUT2                                                         1\n CNUT3                                                         1\n ESTADO                                                        I\n OBS                                                            \n NMUN                                                  Barcelona\n Shape_Leng                                          2181.462918\n Shape_Area                                        276526.154467\n geometry      POLYGON ((2.205204533311491 41.428481013957025...\n centroide                (2.201670848031751, 41.42700627844889)\n distancia                                              0.027054\n Name: 4713, dtype: object,\n CUSEC                                                0801910136\n CUMUN                                                     08019\n CSEC                                                        136\n CDIS                                                         10\n CMUN                                                        019\n CPRO                                                         08\n CCA                                                          09\n CUDIS                                                   0801910\n CLAU2                                                     08019\n NPRO                                                  Barcelona\n NCA                                                    Cataluña\n CNUT0                                                        ES\n CNUT1                                                         5\n CNUT2                                                         1\n CNUT3                                                         1\n ESTADO                                                        I\n OBS                                                            \n NMUN                                                  Barcelona\n Shape_Leng                                           700.675691\n Shape_Area                                         19028.257367\n geometry      POLYGON ((2.20319373859235 41.424346008073506,...\n centroide                (2.202018865035667, 41.42466371504041)\n distancia                                              0.015121\n Name: 4760, dtype: object,\n CUSEC                                                0801910139\n CUMUN                                                     08019\n CSEC                                                        139\n CDIS                                                         10\n CMUN                                                        019\n CPRO                                                         08\n CCA                                                          09\n CUDIS                                                   0801910\n CLAU2                                                     08019\n NPRO                                                  Barcelona\n NCA                                                    Cataluña\n CNUT0                                                        ES\n CNUT1                                                         5\n CNUT2                                                         1\n CNUT3                                                         1\n ESTADO                                                        I\n OBS                                                            \n NMUN                                                  Barcelona\n Shape_Leng                                           673.444817\n Shape_Area                                         18033.628098\n geometry      POLYGON ((2.2054664708481053 41.42262713852433...\n centroide               (2.2040459124820537, 41.42327588961846)\n distancia                                              0.020085\n Name: 4742, dtype: object,\n CUSEC                                                0801910138\n CUMUN                                                     08019\n CSEC                                                        138\n CDIS                                                         10\n CMUN                                                        019\n CPRO                                                         08\n CCA                                                          09\n CUDIS                                                   0801910\n CLAU2                                                     08019\n NPRO                                                  Barcelona\n NCA                                                    Cataluña\n CNUT0                                                        ES\n CNUT1                                                         5\n CNUT2                                                         1\n CNUT3                                                         1\n ESTADO                                                        I\n OBS                                                            \n NMUN                                                  Barcelona\n Shape_Leng                                          1966.178211\n Shape_Area                                        114076.191727\n geometry      POLYGON ((2.2071972779228495 41.42756225706719...\n centroide                (2.205872411023943, 41.42546970849904)\n distancia                                               0.03682\n Name: 4741, dtype: object,\n CUSEC                                                2807910149\n CUMUN                                                     28079\n CSEC                                                        149\n CDIS                                                         10\n CMUN                                                        079\n CPRO                                                         28\n CCA                                                          13\n CUDIS                                                   2807910\n CLAU2                                                     28079\n NPRO                                                     Madrid\n NCA                                         Comunidad de Madrid\n CNUT0                                                        ES\n CNUT1                                                         3\n CNUT2                                                         0\n CNUT3                                                         0\n ESTADO                                                        I\n OBS                                                            \n NMUN                                                     Madrid\n Shape_Leng                                           730.887296\n Shape_Area                                         29660.221534\n geometry      POLYGON ((-3.7707214755137426 40.3970865307491...\n centroide              (-3.772567665713537, 40.397167652704226)\n distancia                                              6.088804\n Name: 16859, dtype: object,\n CUSEC                                                2807910151\n CUMUN                                                     28079\n CSEC                                                        151\n CDIS                                                         10\n CMUN                                                        079\n CPRO                                                         28\n CCA                                                          13\n CUDIS                                                   2807910\n CLAU2                                                     28079\n NPRO                                                     Madrid\n NCA                                         Comunidad de Madrid\n CNUT0                                                        ES\n CNUT1                                                         3\n CNUT2                                                         0\n CNUT3                                                         0\n ESTADO                                                        I\n OBS                                                            \n NMUN                                                     Madrid\n Shape_Leng                                          1214.666437\n Shape_Area                                         77755.463556\n geometry      POLYGON ((-3.7729253843115154 40.4002159897421...\n centroide               (-3.7747178533406704, 40.3990346272338)\n distancia                                              6.083305\n Name: 16978, dtype: object,\n CUSEC                                                3101501001\n CUMUN                                                     31015\n CSEC                                                        001\n CDIS                                                         01\n CMUN                                                        015\n CPRO                                                         31\n CCA                                                          15\n CUDIS                                                   3101501\n CLAU2                                                     31015\n NPRO                                                    Navarra\n NCA                                  Comunidad Foral de Navarra\n CNUT0                                                        ES\n CNUT1                                                         2\n CNUT2                                                         2\n CNUT3                                                         0\n ESTADO                                                        I\n OBS                                                            \n NMUN                                                  Andosilla\n Shape_Leng                                         25086.044392\n Shape_Area                                        30377932.6114\n geometry      POLYGON ((-1.9087383681071177 42.4329243833402...\n centroide              (-1.9206603967873952, 42.39331469593281)\n distancia                                              4.232766\n Name: 20510, dtype: object,\n CUSEC                                                2807910145\n CUMUN                                                     28079\n CSEC                                                        145\n CDIS                                                         10\n CMUN                                                        079\n CPRO                                                         28\n CCA                                                          13\n CUDIS                                                   2807910\n CLAU2                                                     28079\n NPRO                                                     Madrid\n NCA                                         Comunidad de Madrid\n CNUT0                                                        ES\n CNUT1                                                         3\n CNUT2                                                         0\n CNUT3                                                         0\n ESTADO                                                        I\n OBS                                                            \n NMUN                                                     Madrid\n Shape_Leng                                           917.226796\n Shape_Area                                         47077.978066\n geometry      POLYGON ((-3.766049264084468 40.3989644129838,...\n centroide              (-3.7684195488032426, 40.39878352727913)\n distancia                                               6.05879\n Name: 16900, dtype: object,\n CUSEC                                                2807910144\n CUMUN                                                     28079\n CSEC                                                        144\n CDIS                                                         10\n CMUN                                                        079\n CPRO                                                         28\n CCA                                                          13\n CUDIS                                                   2807910\n CLAU2                                                     28079\n NPRO                                                     Madrid\n NCA                                         Comunidad de Madrid\n CNUT0                                                        ES\n CNUT1                                                         3\n CNUT2                                                         0\n CNUT3                                                         0\n ESTADO                                                        I\n OBS                                                            \n NMUN                                                     Madrid\n Shape_Leng                                           1057.35628\n Shape_Area                                         41925.157383\n geometry      POLYGON ((-3.764984073231726 40.39891287572226...\n centroide              (-3.767482469797844, 40.397717239010106)\n distancia                                              6.045321\n Name: 16977, dtype: object,\n CUSEC                                                2807910147\n CUMUN                                                     28079\n CSEC                                                        147\n CDIS                                                         10\n CMUN                                                        079\n CPRO                                                         28\n CCA                                                          13\n CUDIS                                                   2807910\n CLAU2                                                     28079\n NPRO                                                     Madrid\n NCA                                         Comunidad de Madrid\n CNUT0                                                        ES\n CNUT1                                                         3\n CNUT2                                                         0\n CNUT3                                                         0\n ESTADO                                                        I\n OBS                                                            \n NMUN                                                     Madrid\n Shape_Leng                                           950.860209\n Shape_Area                                         42931.338334\n geometry      POLYGON ((-3.7686760982510634 40.3960640871740...\n centroide              (-3.7697696622693626, 40.39635298328512)\n distancia                                              6.042724\n Name: 16858, dtype: object,\n CUSEC                                                2807910146\n CUMUN                                                     28079\n CSEC                                                        146\n CDIS                                                         10\n CMUN                                                        079\n CPRO                                                         28\n CCA                                                          13\n CUDIS                                                   2807910\n CLAU2                                                     28079\n NPRO                                                     Madrid\n NCA                                         Comunidad de Madrid\n CNUT0                                                        ES\n CNUT1                                                         3\n CNUT2                                                         0\n CNUT3                                                         0\n ESTADO                                                        I\n OBS                                                            \n NMUN                                                     Madrid\n Shape_Leng                                          1076.652473\n Shape_Area                                          58186.12571\n geometry      POLYGON ((-3.769984926093054 40.39969955760248...\n centroide               (-3.771071432459144, 40.39872548714107)\n distancia                                              6.031587\n Name: 16846, dtype: object,\n CUSEC                                                2807910157\n CUMUN                                                     28079\n CSEC                                                        157\n CDIS                                                         10\n CMUN                                                        079\n CPRO                                                         28\n CCA                                                          13\n CUDIS                                                   2807910\n CLAU2                                                     28079\n NPRO                                                     Madrid\n NCA                                         Comunidad de Madrid\n CNUT0                                                        ES\n CNUT1                                                         3\n CNUT2                                                         0\n CNUT3                                                         0\n ESTADO                                                        I\n OBS                                                            \n NMUN                                                     Madrid\n Shape_Leng                                          1304.020454\n Shape_Area                                         70388.116838\n geometry      POLYGON ((-3.789357823024077 40.38162744405794...\n centroide                (-3.79203291139997, 40.38100279313491)\n distancia                                              6.042342\n Name: 16892, dtype: object,\n CUSEC                                                2807910156\n CUMUN                                                     28079\n CSEC                                                        156\n CDIS                                                         10\n CMUN                                                        079\n CPRO                                                         28\n CCA                                                          13\n CUDIS                                                   2807910\n CLAU2                                                     28079\n NPRO                                                     Madrid\n NCA                                         Comunidad de Madrid\n CNUT0                                                        ES\n CNUT1                                                         3\n CNUT2                                                         0\n CNUT3                                                         0\n ESTADO                                                        I\n OBS                                                            \n NMUN                                                     Madrid\n Shape_Leng                                          1170.335701\n Shape_Area                                         62238.143558\n geometry      POLYGON ((-3.7885257334843523 40.3809889852255...\n centroide              (-3.7909254772756933, 40.37990850632289)\n distancia                                              6.056528\n Name: 16979, dtype: object,\n CUSEC                                                2807910159\n CUMUN                                                     28079\n CSEC                                                        159\n CDIS                                                         10\n CMUN                                                        079\n CPRO                                                         28\n CCA                                                          13\n CUDIS                                                   2807910\n CLAU2                                                     28079\n NPRO                                                     Madrid\n NCA                                         Comunidad de Madrid\n CNUT0                                                        ES\n CNUT1                                                         3\n CNUT2                                                         0\n CNUT3                                                         0\n ESTADO                                                        I\n OBS                                                            \n NMUN                                                     Madrid\n Shape_Leng                                          1655.069292\n Shape_Area                                        106014.185308\n geometry      POLYGON ((-3.7921561998482782 40.3782028932225...\n centroide              (-3.7938976198149033, 40.37739515445117)\n distancia                                              6.065838\n Name: 16870, dtype: object,\n CUSEC                                                2807910158\n CUMUN                                                     28079\n CSEC                                                        158\n CDIS                                                         10\n CMUN                                                        079\n CPRO                                                         28\n CCA                                                          13\n CUDIS                                                   2807910\n CLAU2                                                     28079\n NPRO                                                     Madrid\n NCA                                         Comunidad de Madrid\n CNUT0                                                        ES\n CNUT1                                                         3\n CNUT2                                                         0\n CNUT3                                                         0\n ESTADO                                                        I\n OBS                                                            \n NMUN                                                     Madrid\n Shape_Leng                                         15619.753865\n Shape_Area                                        8270498.82234\n geometry      POLYGON ((-3.7817941511177655 40.3940528134289...\n centroide              (-3.805278079662426, 40.385568828324345)\n distancia                                              6.075403\n Name: 16893, dtype: object,\n CUSEC                                                2807910153\n CUMUN                                                     28079\n CSEC                                                        153\n CDIS                                                         10\n CMUN                                                        079\n CPRO                                                         28\n CCA                                                          13\n CUDIS                                                   2807910\n CLAU2                                                     28079\n NPRO                                                     Madrid\n NCA                                         Comunidad de Madrid\n CNUT0                                                        ES\n CNUT1                                                         3\n CNUT2                                                         0\n CNUT3                                                         0\n ESTADO                                                        I\n OBS                                                            \n NMUN                                                     Madrid\n Shape_Leng                                          1393.348267\n Shape_Area                                         111373.14706\n geometry      POLYGON ((-3.7738534212528743 40.3964530355376...\n centroide              (-3.7739536742811124, 40.39460027035949)\n distancia                                              6.031709\n Name: 16847, dtype: object,\n CUSEC                                                2807910152\n CUMUN                                                     28079\n CSEC                                                        152\n CDIS                                                         10\n CMUN                                                        079\n CPRO                                                         28\n CCA                                                          13\n CUDIS                                                   2807910\n CLAU2                                                     28079\n NPRO                                                     Madrid\n NCA                                         Comunidad de Madrid\n CNUT0                                                        ES\n CNUT1                                                         3\n CNUT2                                                         0\n CNUT3                                                         0\n ESTADO                                                        I\n OBS                                                            \n NMUN                                                     Madrid\n Shape_Leng                                          1807.595963\n Shape_Area                                        159078.822743\n geometry      POLYGON ((-3.7745591307088193 40.3974348075962...\n centroide              (-3.7774407472943197, 40.39629601667533)\n distancia                                              6.044712\n Name: 16934, dtype: object,\n CUSEC                                                1015501001\n CUMUN                                                     10155\n CSEC                                                        001\n CDIS                                                         01\n CMUN                                                        155\n CPRO                                                         10\n CCA                                                          11\n CUDIS                                                   1015501\n CLAU2                                                     10155\n NPRO                                                    Cáceres\n NCA                                                 Extremadura\n CNUT0                                                        ES\n CNUT1                                                         4\n CNUT2                                                         3\n CNUT3                                                         2\n ESTADO                                                        I\n OBS                                                            \n NMUN                                                   Riolobos\n Shape_Leng                                          40119.96604\n Shape_Area                                        49584031.4764\n geometry      POLYGON ((-6.392495483619424 39.95680152340991...\n centroide               (-6.335770187241682, 39.92003512667552)\n distancia                                              8.652744\n Name: 7643, dtype: object,\n CUSEC                                                2807910165\n CUMUN                                                     28079\n CSEC                                                        165\n CDIS                                                         10\n CMUN                                                        079\n CPRO                                                         28\n CCA                                                          13\n CUDIS                                                   2807910\n CLAU2                                                     28079\n NPRO                                                     Madrid\n NCA                                         Comunidad de Madrid\n CNUT0                                                        ES\n CNUT1                                                         3\n CNUT2                                                         0\n CNUT3                                                         0\n ESTADO                                                        I\n OBS                                                            \n NMUN                                                     Madrid\n Shape_Leng                                          3828.680085\n Shape_Area                                        603940.324065\n geometry      POLYGON ((-3.7702042932863273 40.3927971328033...\n centroide               (-3.774734706916394, 40.38845648179407)\n distancia                                              6.061085\n Name: 16937, dtype: object,\n CUSEC                                                2807910154\n CUMUN                                                     28079\n CSEC                                                        154\n CDIS                                                         10\n CMUN                                                        079\n CPRO                                                         28\n CCA                                                          13\n CUDIS                                                   2807910\n CLAU2                                                     28079\n NPRO                                                     Madrid\n NCA                                         Comunidad de Madrid\n CNUT0                                                        ES\n CNUT1                                                         3\n CNUT2                                                         0\n CNUT3                                                         0\n ESTADO                                                        I\n OBS                                                            \n NMUN                                                     Madrid\n Shape_Leng                                           891.063762\n Shape_Area                                         36811.331808\n geometry      POLYGON ((-3.7792077088360747 40.3933405323510...\n centroide              (-3.7803652833460575, 40.39437755167895)\n distancia                                              6.058853\n Name: 16935, dtype: object,\n CUSEC                                                2807910164\n CUMUN                                                     28079\n CSEC                                                        164\n CDIS                                                         10\n CMUN                                                        079\n CPRO                                                         28\n CCA                                                          13\n CUDIS                                                   2807910\n CLAU2                                                     28079\n NPRO                                                     Madrid\n NCA                                         Comunidad de Madrid\n CNUT0                                                        ES\n CNUT1                                                         3\n CNUT2                                                         0\n CNUT3                                                         0\n ESTADO                                                        I\n OBS                                                            \n NMUN                                                     Madrid\n Shape_Leng                                           633.699425\n Shape_Area                                         21924.909194\n geometry      POLYGON ((-3.7792679772246176 40.3851102454616...\n centroide              (-3.7805533963687314, 40.38429011166739)\n distancia                                              6.074246\n Name: 16980, dtype: object,\n CUSEC                                                1016601001\n CUMUN                                                     10166\n CSEC                                                        001\n CDIS                                                         01\n CMUN                                                        166\n CPRO                                                         10\n CCA                                                          11\n CUDIS                                                   1016601\n CLAU2                                                     10166\n NPRO                                                    Cáceres\n NCA                                                 Extremadura\n CNUT0                                                        ES\n CNUT1                                                         4\n CNUT2                                                         3\n CNUT3                                                         2\n ESTADO                                                        I\n OBS                                                            \n NMUN                                    Santa Cruz de la Sierra\n Shape_Leng                                         44181.280208\n Shape_Area                                        44624310.6828\n geometry      POLYGON ((-5.7959496521551 39.37946463557102, ...\n centroide               (-5.834489617840436, 39.34242642995057)\n distancia                                               8.31315\n Name: 7560, dtype: object,\n CUSEC                                                2807910167\n CUMUN                                                     28079\n CSEC                                                        167\n CDIS                                                         10\n CMUN                                                        079\n CPRO                                                         28\n CCA                                                          13\n CUDIS                                                   2807910\n CLAU2                                                     28079\n NPRO                                                     Madrid\n NCA                                         Comunidad de Madrid\n CNUT0                                                        ES\n CNUT1                                                         3\n CNUT2                                                         0\n CNUT3                                                         0\n ESTADO                                                        I\n OBS                                                            \n NMUN                                                     Madrid\n Shape_Leng                                          3371.616082\n Shape_Area                                        439016.818647\n geometry      POLYGON ((-3.7645488668649323 40.3842129209900...\n centroide               (-3.7716523795897485, 40.3847646078351)\n distancia                                              6.045239\n Name: 16860, dtype: object,\n CUSEC                                                2807910161\n CUMUN                                                     28079\n CSEC                                                        161\n CDIS                                                         10\n CMUN                                                        079\n CPRO                                                         28\n CCA                                                          13\n CUDIS                                                   2807910\n CLAU2                                                     28079\n NPRO                                                     Madrid\n NCA                                         Comunidad de Madrid\n CNUT0                                                        ES\n CNUT1                                                         3\n CNUT2                                                         0\n CNUT3                                                         0\n ESTADO                                                        I\n OBS                                                            \n NMUN                                                     Madrid\n Shape_Leng                                          1693.202935\n Shape_Area                                        149431.086557\n geometry      POLYGON ((-3.781682478681365 40.38409399659437...\n centroide               (-3.783818955441463, 40.38253218805542)\n distancia                                              6.115908\n Name: 16871, dtype: object,\n CUSEC                                                2807910148\n CUMUN                                                     28079\n CSEC                                                        148\n CDIS                                                         10\n CMUN                                                        079\n CPRO                                                         28\n CCA                                                          13\n CUDIS                                                   2807910\n CLAU2                                                     28079\n NPRO                                                     Madrid\n NCA                                         Comunidad de Madrid\n CNUT0                                                        ES\n CNUT1                                                         3\n CNUT2                                                         0\n CNUT3                                                         0\n ESTADO                                                        I\n OBS                                                            \n NMUN                                                     Madrid\n Shape_Leng                                          1168.073066\n Shape_Area                                         49074.101697\n geometry      POLYGON ((-3.770348001959799 40.39477816329764...\n centroide              (-3.7717527663278467, 40.39566393461679)\n distancia                                              6.074421\n Name: 16881, dtype: object,\n CUSEC                                                3101601001\n CUMUN                                                     31016\n CSEC                                                        001\n CDIS                                                         01\n CMUN                                                        016\n CPRO                                                         31\n CCA                                                          15\n CUDIS                                                   3101601\n CLAU2                                                     31016\n NPRO                                                    Navarra\n NCA                                  Comunidad Foral de Navarra\n CNUT0                                                        ES\n CNUT1                                                         2\n CNUT2                                                         2\n CNUT3                                                         0\n ESTADO                                                        I\n OBS                                                            \n NMUN                                           Ansoáin/Antsoain\n Shape_Leng                                          2239.288614\n Shape_Area                                        126140.332862\n geometry      POLYGON ((-1.6372235593201012 42.8314463218232...\n centroide              (-1.6363619771598465, 42.83462592292843)\n distancia                                              4.108259\n Name: 20660, dtype: object,\n CUSEC                                                2807910163\n CUMUN                                                     28079\n CSEC                                                        163\n CDIS                                                         10\n CMUN                                                        079\n CPRO                                                         28\n CCA                                                          13\n CUDIS                                                   2807910\n CLAU2                                                     28079\n NPRO                                                     Madrid\n NCA                                         Comunidad de Madrid\n CNUT0                                                        ES\n CNUT1                                                         3\n CNUT2                                                         0\n CNUT3                                                         0\n ESTADO                                                        I\n OBS                                                            \n NMUN                                                     Madrid\n Shape_Leng                                           881.124096\n Shape_Area                                          41453.72142\n geometry      POLYGON ((-3.7767071316696184 40.3838707250058...\n centroide              (-3.7788944076738864, 40.38390406384815)\n distancia                                              6.115218\n Name: 16936, dtype: object,\n CUSEC                                                2807910162\n CUMUN                                                     28079\n CSEC                                                        162\n CDIS                                                         10\n CMUN                                                        079\n CPRO                                                         28\n CCA                                                          13\n CUDIS                                                   2807910\n CLAU2                                                     28079\n NPRO                                                     Madrid\n NCA                                         Comunidad de Madrid\n CNUT0                                                        ES\n CNUT1                                                         3\n CNUT2                                                         0\n CNUT3                                                         0\n ESTADO                                                        I\n OBS                                                            \n NMUN                                                     Madrid\n Shape_Leng                                           552.991375\n Shape_Area                                          18346.15884\n geometry      POLYGON ((-3.7807187910832036 40.3836590311284...\n centroide             (-3.7802600393000954, 40.382959499489424)\n distancia                                              6.115974\n Name: 16848, dtype: object,\n CUSEC                                                2807910169\n CUMUN                                                     28079\n CSEC                                                        169\n CDIS                                                         10\n CMUN                                                        079\n CPRO                                                         28\n CCA                                                          13\n CUDIS                                                   2807910\n CLAU2                                                     28079\n NPRO                                                     Madrid\n NCA                                         Comunidad de Madrid\n CNUT0                                                        ES\n CNUT1                                                         3\n CNUT2                                                         0\n CNUT3                                                         0\n ESTADO                                                        I\n OBS                                                            \n NMUN                                                     Madrid\n Shape_Leng                                          1050.813051\n Shape_Area                                          32180.70414\n geometry      POLYGON ((-3.7801913436054693 40.3814688951067...\n centroide              (-3.782709761887377, 40.380897081945335)\n distancia                                              6.125363\n Name: 16922, dtype: object,\n CUSEC                                                2807910168\n CUMUN                                                     28079\n CSEC                                                        168\n CDIS                                                         10\n CMUN                                                        079\n CPRO                                                         28\n CCA                                                          13\n CUDIS                                                   2807910\n CLAU2                                                     28079\n NPRO                                                     Madrid\n NCA                                         Comunidad de Madrid\n CNUT0                                                        ES\n CNUT1                                                         3\n CNUT2                                                         0\n CNUT3                                                         0\n ESTADO                                                        I\n OBS                                                            \n NMUN                                                     Madrid\n Shape_Leng                                           678.479954\n Shape_Area                                         18486.007124\n geometry      POLYGON ((-3.7786950322201123 40.3817717063005...\n centroide               (-3.779931392445456, 40.38202729010733)\n distancia                                              6.133807\n Name: 16883, dtype: object,\n CUSEC                                                0801910003\n CUMUN                                                     08019\n CSEC                                                        003\n CDIS                                                         10\n CMUN                                                        019\n CPRO                                                         08\n CCA                                                          09\n CUDIS                                                   0801910\n CLAU2                                                     08019\n NPRO                                                  Barcelona\n NCA                                                    Cataluña\n CNUT0                                                        ES\n CNUT1                                                         5\n CNUT2                                                         1\n CNUT3                                                         1\n ESTADO                                                        I\n OBS                                                            \n NMUN                                                  Barcelona\n Shape_Leng                                           700.066918\n Shape_Area                                         30642.156977\n geometry      POLYGON ((2.184397050580659 41.41544950065661,...\n centroide                (2.1832342137579617, 41.4150607932431)\n distancia                                              0.101291\n Name: 4699, dtype: object,\n CUSEC                                                2807910171\n CUMUN                                                     28079\n CSEC                                                        171\n CDIS                                                         10\n CMUN                                                        079\n CPRO                                                         28\n CCA                                                          13\n CUDIS                                                   2807910\n CLAU2                                                     28079\n NPRO                                                     Madrid\n NCA                                         Comunidad de Madrid\n CNUT0                                                        ES\n CNUT1                                                         3\n CNUT2                                                         0\n CNUT3                                                         0\n ESTADO                                                        I\n OBS                                                            \n NMUN                                                     Madrid\n Shape_Leng                                           986.607747\n Shape_Area                                         33550.756516\n geometry      POLYGON ((-3.780976418121757 40.3770446103156,...\n centroide              (-3.782054761300008, 40.377283501170744)\n distancia                                              6.003042\n Name: 16901, dtype: object,\n CUSEC                                                2807910183\n CUMUN                                                     28079\n CSEC                                                        183\n CDIS                                                         10\n CMUN                                                        079\n CPRO                                                         28\n CCA                                                          13\n CUDIS                                                   2807910\n CLAU2                                                     28079\n NPRO                                                     Madrid\n NCA                                         Comunidad de Madrid\n CNUT0                                                        ES\n CNUT1                                                         3\n CNUT2                                                         0\n CNUT3                                                         0\n ESTADO                                                        I\n OBS                                                            \n NMUN                                                     Madrid\n Shape_Leng                                            748.00753\n Shape_Area                                         32181.647687\n geometry      POLYGON ((-3.7747279241496225 40.3767262332662...\n centroide               (-3.775803354326398, 40.37581882537771)\n distancia                                              5.931104\n Name: 16904, dtype: object,\n CUSEC                                                2807910184\n CUMUN                                                     28079\n CSEC                                                        184\n CDIS                                                         10\n CMUN                                                        079\n CPRO                                                         28\n CCA                                                          13\n CUDIS                                                   2807910\n CLAU2                                                     28079\n NPRO                                                     Madrid\n NCA                                         Comunidad de Madrid\n CNUT0                                                        ES\n CNUT1                                                         3\n CNUT2                                                         0\n CNUT3                                                         0\n ESTADO                                                        I\n OBS                                                            \n NMUN                                                     Madrid\n Shape_Leng                                           826.320953\n Shape_Area                                         42514.829833\n geometry      POLYGON ((-3.7726250691963674 40.3763889118702...\n centroide              (-3.7739417069577623, 40.37553573406213)\n distancia                                              5.949416\n Name: 16982, dtype: object,\n CUSEC                                                2807910182\n CUMUN                                                     28079\n CSEC                                                        182\n CDIS                                                         10\n CMUN                                                        079\n CPRO                                                         28\n CCA                                                          13\n CUDIS                                                   2807910\n CLAU2                                                     28079\n NPRO                                                     Madrid\n NCA                                         Comunidad de Madrid\n CNUT0                                                        ES\n CNUT1                                                         3\n CNUT2                                                         0\n CNUT3                                                         0\n ESTADO                                                        I\n OBS                                                            \n NMUN                                                     Madrid\n Shape_Leng                                           979.510357\n Shape_Area                                         39293.425227\n geometry      POLYGON ((-3.7763599351608375 40.3769630559091...\n centroide               (-3.777320312014543, 40.37643346315932)\n distancia                                              6.024007\n Name: 16945, dtype: object,\n CUSEC                                                2807910181\n CUMUN                                                     28079\n CSEC                                                        181\n CDIS                                                         10\n CMUN                                                        079\n CPRO                                                         28\n CCA                                                          13\n CUDIS                                                   2807910\n CLAU2                                                     28079\n NPRO                                                     Madrid\n NCA                                         Comunidad de Madrid\n CNUT0                                                        ES\n CNUT1                                                         3\n CNUT2                                                         0\n CNUT3                                                         0\n ESTADO                                                        I\n OBS                                                            \n NMUN                                                     Madrid\n Shape_Leng                                           785.610624\n Shape_Area                                         37005.219521\n geometry      POLYGON ((-3.778015126038817 40.37703301715316...\n centroide              (-3.7789328546663805, 40.37614595326353)\n distancia                                              6.009949\n Name: 16903, dtype: object,\n CUSEC                                                0801910128\n CUMUN                                                     08019\n CSEC                                                        128\n CDIS                                                         10\n CMUN                                                        019\n CPRO                                                         08\n CCA                                                          09\n CUDIS                                                   0801910\n CLAU2                                                     08019\n NPRO                                                  Barcelona\n NCA                                                    Cataluña\n CNUT0                                                        ES\n CNUT1                                                         5\n CNUT2                                                         1\n CNUT3                                                         1\n ESTADO                                                        I\n OBS                                                            \n NMUN                                                  Barcelona\n Shape_Leng                                           802.348322\n Shape_Area                                         35913.955285\n geometry      POLYGON ((2.204921145147333 41.42047822736646,...\n centroide               (2.2032160831524483, 41.42008240609528)\n distancia                                              0.057361\n Name: 4800, dtype: object,\n CUSEC                                                3101902001\n CUMUN                                                     31019\n CSEC                                                        001\n CDIS                                                         02\n CMUN                                                        019\n CPRO                                                         31\n CCA                                                          15\n CUDIS                                                   3101902\n CLAU2                                                     31019\n NPRO                                                    Navarra\n NCA                                  Comunidad Foral de Navarra\n CNUT0                                                        ES\n CNUT1                                                         2\n CNUT2                                                         2\n CNUT3                                                         0\n ESTADO                                                        I\n OBS                                                            \n NMUN                                                Aoiz/Agoitz\n Shape_Leng                                         23920.065442\n Shape_Area                                        11106969.8854\n geometry      POLYGON ((-1.3838559454118973 42.7995739751069...\n centroide             (-1.3561398938192981, 42.790297305040035)\n distancia                                              3.714869\n Name: 20536, dtype: object,\n CUSEC                                                2807910189\n CUMUN                                                     28079\n CSEC                                                        189\n CDIS                                                         10\n CMUN                                                        079\n CPRO                                                         28\n CCA                                                          13\n CUDIS                                                   2807910\n CLAU2                                                     28079\n NPRO                                                     Madrid\n NCA                                         Comunidad de Madrid\n CNUT0                                                        ES\n CNUT1                                                         3\n CNUT2                                                         0\n CNUT3                                                         0\n ESTADO                                                        I\n OBS                                                            \n NMUN                                                     Madrid\n Shape_Leng                                           962.925573\n Shape_Area                                         46146.859126\n geometry      POLYGON ((-3.7712471359539603 40.3802314849698...\n centroide              (-3.772927105794774, 40.379912123923006)\n distancia                                              5.992309\n Name: 16886, dtype: object,\n CUSEC                                                2807910192\n CUMUN                                                     28079\n CSEC                                                        192\n CDIS                                                         10\n CMUN                                                        079\n CPRO                                                         28\n CCA                                                          13\n CUDIS                                                   2807910\n CLAU2                                                     28079\n NPRO                                                     Madrid\n NCA                                         Comunidad de Madrid\n CNUT0                                                        ES\n CNUT1                                                         3\n CNUT2                                                         0\n CNUT3                                                         0\n ESTADO                                                        I\n OBS                                                            \n NMUN                                                     Madrid\n Shape_Leng                                          1242.036099\n Shape_Area                                         75412.777858\n geometry      POLYGON ((-3.768072649560014 40.37568497698973...\n centroide              (-3.7692903370919617, 40.37533194913987)\n distancia                                              6.002529\n Name: 16983, dtype: object,\n CUSEC                                                2807910191\n CUMUN                                                     28079\n CSEC                                                        191\n CDIS                                                         10\n CMUN                                                        079\n CPRO                                                         28\n CCA                                                          13\n CUDIS                                                   2807910\n CLAU2                                                     28079\n NPRO                                                     Madrid\n NCA                                         Comunidad de Madrid\n CNUT0                                                        ES\n CNUT1                                                         3\n CNUT2                                                         0\n CNUT3                                                         0\n ESTADO                                                        I\n OBS                                                            \n NMUN                                                     Madrid\n Shape_Leng                                           838.358698\n Shape_Area                                         45710.619577\n geometry      POLYGON ((-3.7684850457974934 40.3774164928861...\n centroide              (-3.7701000763209156, 40.37806057549788)\n distancia                                              6.004757\n Name: 16938, dtype: object,\n CUSEC                                                1018601001\n CUMUN                                                     10186\n CSEC                                                        001\n CDIS                                                         01\n CMUN                                                        186\n CPRO                                                         10\n CCA                                                          11\n CUDIS                                                   1018601\n CLAU2                                                     10186\n NPRO                                                    Cáceres\n NCA                                                 Extremadura\n CNUT0                                                        ES\n CNUT1                                                         4\n CNUT2                                                         3\n CNUT3                                                         2\n ESTADO                                                        I\n OBS                                                            \n NMUN                                    Torrecillas de la Tiesa\n Shape_Leng                                         55953.573292\n Shape_Area                                        139624667.458\n geometry      POLYGON ((-5.7519707173002805 39.6338126618258...\n centroide                 (-5.7416339253356, 39.58666604568678)\n distancia                                              8.077228\n Name: 7574, dtype: object,\n CUSEC                                                2807910185\n CUMUN                                                     28079\n CSEC                                                        185\n CDIS                                                         10\n CMUN                                                        079\n CPRO                                                         28\n CCA                                                          13\n CUDIS                                                   2807910\n CLAU2                                                     28079\n NPRO                                                     Madrid\n NCA                                         Comunidad de Madrid\n CNUT0                                                        ES\n CNUT1                                                         3\n CNUT2                                                         0\n CNUT3                                                         0\n ESTADO                                                        I\n OBS                                                            \n NMUN                                                     Madrid\n Shape_Leng                                           697.414298\n Shape_Area                                          30468.99446\n geometry      POLYGON ((-3.7719313429892534 40.3775376845464...\n centroide              (-3.773238722934144, 40.377260491314104)\n distancia                                              6.000322\n Name: 16923, dtype: object,\n CUSEC                                                2807910188\n CUMUN                                                     28079\n CSEC                                                        188\n CDIS                                                         10\n CMUN                                                        079\n CPRO                                                         28\n CCA                                                          13\n CUDIS                                                   2807910\n CLAU2                                                     28079\n NPRO                                                     Madrid\n NCA                                         Comunidad de Madrid\n CNUT0                                                        ES\n CNUT1                                                         3\n CNUT2                                                         0\n CNUT3                                                         0\n ESTADO                                                        I\n OBS                                                            \n NMUN                                                     Madrid\n Shape_Leng                                            767.45705\n Shape_Area                                         32901.763499\n geometry      POLYGON ((-3.7717603048934496 40.3811334778738...\n centroide              (-3.7729137795272747, 40.38181325314381)\n distancia                                              6.009689\n Name: 16924, dtype: object,\n CUSEC                                                2807910187\n CUMUN                                                     28079\n CSEC                                                        187\n CDIS                                                         10\n CMUN                                                        079\n CPRO                                                         28\n CCA                                                          13\n CUDIS                                                   2807910\n CLAU2                                                     28079\n NPRO                                                     Madrid\n NCA                                         Comunidad de Madrid\n CNUT0                                                        ES\n CNUT1                                                         3\n CNUT2                                                         0\n CNUT3                                                         0\n ESTADO                                                        I\n OBS                                                            \n NMUN                                                     Madrid\n Shape_Leng                                          1211.803396\n Shape_Area                                          67158.20171\n geometry      POLYGON ((-3.773715449372741 40.38087269031479...\n centroide             (-3.7752909012634346, 40.380676558903204)\n distancia                                              6.006912\n Name: 16885, dtype: object,\n CUSEC                                                2807910198\n CUMUN                                                     28079\n CSEC                                                        198\n CDIS                                                         10\n CMUN                                                        079\n CPRO                                                         28\n CCA                                                          13\n CUDIS                                                   2807910\n CLAU2                                                     28079\n NPRO                                                     Madrid\n NCA                                         Comunidad de Madrid\n CNUT0                                                        ES\n CNUT1                                                         3\n CNUT2                                                         0\n CNUT3                                                         0\n ESTADO                                                        I\n OBS                                                            \n NMUN                                                     Madrid\n Shape_Leng                                          2022.604526\n Shape_Area                                        154650.986903\n geometry      POLYGON ((-3.762485930545756 40.37576696022534...\n centroide               (-3.765302567283228, 40.37593479924201)\n distancia                                              5.989674\n Name: 34187, dtype: object,\n CUSEC                                                2807910197\n CUMUN                                                     28079\n CSEC                                                        197\n CDIS                                                         10\n CMUN                                                        079\n CPRO                                                         28\n CCA                                                          13\n CUDIS                                                   2807910\n CLAU2                                                     28079\n NPRO                                                     Madrid\n NCA                                         Comunidad de Madrid\n CNUT0                                                        ES\n CNUT1                                                         3\n CNUT2                                                         0\n CNUT3                                                         0\n ESTADO                                                        I\n OBS                                                            \n NMUN                                                     Madrid\n Shape_Leng                                          1121.627245\n Shape_Area                                         79157.587506\n geometry      POLYGON ((-3.7619136334599443 40.3744643641221...\n centroide               (-3.763288608803526, 40.37390132769603)\n distancia                                              5.981399\n Name: 16912, dtype: object,\n CUSEC                                                0810102001\n CUMUN                                                     08101\n CSEC                                                        001\n CDIS                                                         02\n CMUN                                                        101\n CPRO                                                         08\n CCA                                                          09\n CUDIS                                                   0810102\n CLAU2                                                     08101\n NPRO                                                  Barcelona\n NCA                                                    Cataluña\n CNUT0                                                        ES\n CNUT1                                                         5\n CNUT2                                                         1\n CNUT3                                                         1\n ESTADO                                                        I\n OBS                                                            \n NMUN                                Hospitalet de Llobregat, L'\n Shape_Leng                                          1430.733837\n Shape_Area                                         86566.099202\n geometry      POLYGON ((2.115675464761839 41.37473551561284,...\n centroide               (2.1123749423103915, 41.37503769834432)\n distancia                                              0.016123\n Name: 5069, dtype: object,\n CUSEC                                                2807910199\n CUMUN                                                     28079\n CSEC                                                        199\n CDIS                                                         10\n CMUN                                                        079\n CPRO                                                         28\n CCA                                                          13\n CUDIS                                                   2807910\n CLAU2                                                     28079\n NPRO                                                     Madrid\n NCA                                         Comunidad de Madrid\n CNUT0                                                        ES\n CNUT1                                                         3\n CNUT2                                                         0\n CNUT3                                                         0\n ESTADO                                                        I\n OBS                                                            \n NMUN                                                     Madrid\n Shape_Leng                                          1381.498742\n Shape_Area                                         88030.872122\n geometry      POLYGON ((-3.7667842975268266 40.3785178553862...\n centroide               (-3.768130455696424, 40.37842165749274)\n distancia                                              5.955946\n Name: 16940, dtype: object,\n CUSEC                                                2807910194\n CUMUN                                                     28079\n CSEC                                                        194\n CDIS                                                         10\n CMUN                                                        079\n CPRO                                                         28\n CCA                                                          13\n CUDIS                                                   2807910\n CLAU2                                                     28079\n NPRO                                                     Madrid\n NCA                                         Comunidad de Madrid\n CNUT0                                                        ES\n CNUT1                                                         3\n CNUT2                                                         0\n CNUT3                                                         0\n ESTADO                                                        I\n OBS                                                            \n NMUN                                                     Madrid\n Shape_Leng                                           930.174161\n Shape_Area                                         44263.977477\n geometry      POLYGON ((-3.771009201020454 40.37576001835806...\n centroide               (-3.771799235656676, 40.37500735526778)\n distancia                                              5.964674\n Name: 16896, dtype: object,\n CUSEC                                                2807910193\n CUMUN                                                     28079\n CSEC                                                        193\n CDIS                                                         10\n CMUN                                                        079\n CPRO                                                         28\n CCA                                                          13\n CUDIS                                                   2807910\n CLAU2                                                     28079\n NPRO                                                     Madrid\n NCA                                         Comunidad de Madrid\n CNUT0                                                        ES\n CNUT1                                                         3\n CNUT2                                                         0\n CNUT3                                                         0\n ESTADO                                                        I\n OBS                                                            \n NMUN                                                     Madrid\n Shape_Leng                                           872.408705\n Shape_Area                                          24859.96522\n geometry      POLYGON ((-3.7689461205094785 40.3773007900623...\n centroide             (-3.7710097921678654, 40.376771752011656)\n distancia                                              5.972025\n Name: 16939, dtype: object,\n CUSEC                                                1019601001\n CUMUN                                                     10196\n CSEC                                                        001\n CDIS                                                         01\n CMUN                                                        196\n CPRO                                                         10\n CCA                                                          11\n CUDIS                                                   1019601\n CLAU2                                                     10196\n NPRO                                                    Cáceres\n NCA                                                 Extremadura\n CNUT0                                                        ES\n CNUT1                                                         4\n CNUT2                                                         3\n CNUT3                                                         2\n ESTADO                                                        I\n OBS                                                            \n NMUN                                               Valdastillas\n Shape_Leng                                         21791.736365\n Shape_Area                                        8107213.85369\n geometry      POLYGON ((-5.877942928753396 40.1476043109374,...\n centroide              (-5.906259939684421, 40.145370481487625)\n distancia                                              8.122611\n Name: 7600, dtype: object,\n CUSEC                                                1019503001\n CUMUN                                                     10195\n CSEC                                                        001\n CDIS                                                         03\n CMUN                                                        195\n CPRO                                                         10\n CCA                                                          11\n CUDIS                                                   1019503\n CLAU2                                                     10195\n NPRO                                                    Cáceres\n NCA                                                 Extremadura\n CNUT0                                                        ES\n CNUT1                                                         4\n CNUT2                                                         3\n CNUT3                                                         2\n ESTADO                                                        I\n OBS                                                            \n NMUN                                                   Trujillo\n Shape_Leng                                        101629.384195\n Shape_Area                                        174048646.141\n geometry      POLYGON ((-5.833585286037697 39.64757814407080...\n centroide               (-5.836355113612254, 39.54849494581806)\n distancia                                               8.16227\n Name: 7649, dtype: object,\n CUSEC                                                0810205006\n CUMUN                                                     08102\n CSEC                                                        006\n CDIS                                                         05\n CMUN                                                        102\n CPRO                                                         08\n CCA                                                          09\n CUDIS                                                   0810205\n CLAU2                                                     08102\n NPRO                                                  Barcelona\n NCA                                                    Cataluña\n CNUT0                                                        ES\n CNUT1                                                         5\n CNUT2                                                         1\n CNUT3                                                         1\n ESTADO                                                        I\n OBS                                                            \n NMUN                                                   Igualada\n Shape_Leng                                          1070.724915\n Shape_Area                                         62836.740251\n geometry      POLYGON ((1.6359828685724884 41.57736329882974...\n centroide              (1.6347250111905052, 41.578969608246304)\n distancia                                              0.539354\n Name: 5244, dtype: object,\n CUSEC                                                1020801001\n CUMUN                                                     10208\n CSEC                                                        001\n CDIS                                                         01\n CMUN                                                        208\n CPRO                                                         10\n CCA                                                          11\n CUDIS                                                   1020801\n CLAU2                                                     10208\n NPRO                                                    Cáceres\n NCA                                                 Extremadura\n CNUT0                                                        ES\n CNUT1                                                         4\n CNUT2                                                         3\n CNUT3                                                         2\n ESTADO                                                        I\n OBS                                                            \n NMUN                                              Villa del Rey\n Shape_Leng                                         39228.025711\n Shape_Area                                        57058765.7367\n geometry      POLYGON ((-6.856780030247351 39.59923321930049...\n centroide               (-6.810753663353542, 39.66439919428004)\n distancia                                              9.112386\n Name: 7601, dtype: object,\n CUSEC                                                2807910207\n CUMUN                                                     28079\n CSEC                                                        207\n CDIS                                                         10\n CMUN                                                        079\n CPRO                                                         28\n CCA                                                          13\n CUDIS                                                   2807910\n CLAU2                                                     28079\n NPRO                                                     Madrid\n NCA                                         Comunidad de Madrid\n CNUT0                                                        ES\n CNUT1                                                         3\n CNUT2                                                         0\n CNUT3                                                         0\n ESTADO                                                        I\n OBS                                                            \n NMUN                                                     Madrid\n Shape_Leng                                          2198.535539\n Shape_Area                                        170427.684082\n geometry      POLYGON ((-3.760172212062195 40.40195361790864...\n centroide              (-3.760783931855823, 40.399773430179586)\n distancia                                              5.992518\n Name: 16926, dtype: object,\n CUSEC                                                0810102026\n CUMUN                                                     08101\n CSEC                                                        026\n CDIS                                                         02\n CMUN                                                        101\n CPRO                                                         08\n CCA                                                          09\n CUDIS                                                   0810102\n CLAU2                                                     08101\n NPRO                                                  Barcelona\n NCA                                                    Cataluña\n CNUT0                                                        ES\n CNUT1                                                         5\n CNUT2                                                         1\n CNUT3                                                         1\n ESTADO                                                        I\n OBS                                                            \n NMUN                                Hospitalet de Llobregat, L'\n Shape_Leng                                           856.784051\n Shape_Area                                         30694.838787\n geometry      POLYGON ((2.122661440739777 41.37338636551395,...\n centroide                (2.121161248714569, 41.37324535595649)\n distancia                                              0.023176\n Name: 5097, dtype: object,\n CUSEC                                                2807910206\n CUMUN                                                     28079\n CSEC                                                        206\n CDIS                                                         10\n CMUN                                                        079\n CPRO                                                         28\n CCA                                                          13\n CUDIS                                                   2807910\n CLAU2                                                     28079\n NPRO                                                     Madrid\n NCA                                         Comunidad de Madrid\n CNUT0                                                        ES\n CNUT1                                                         3\n CNUT2                                                         0\n CNUT3                                                         0\n ESTADO                                                        I\n OBS                                                            \n NMUN                                                     Madrid\n Shape_Leng                                          1142.846824\n Shape_Area                                         62057.440617\n geometry      POLYGON ((-3.7258054959985123 40.4139625891173...\n centroide             (-3.7271101806292473, 40.414723750679165)\n distancia                                               5.93748\n Name: 16958, dtype: object,\n CUSEC                                                0810102040\n CUMUN                                                     08101\n CSEC                                                        040\n CDIS                                                         02\n CMUN                                                        101\n CPRO                                                         08\n CCA                                                          09\n CUDIS                                                   0810102\n CLAU2                                                     08101\n NPRO                                                  Barcelona\n NCA                                                    Cataluña\n CNUT0                                                        ES\n CNUT1                                                         5\n CNUT2                                                         1\n CNUT3                                                         1\n ESTADO                                                        I\n OBS                                                            \n NMUN                                Hospitalet de Llobregat, L'\n Shape_Leng                                          1238.049627\n Shape_Area                                         49449.063477\n geometry      POLYGON ((2.1231572027895633 41.36982139077329...\n centroide                (2.123545036704618, 41.36900497889723)\n distancia                                              0.016998\n Name: 5122, dtype: object,\n CUSEC                                                0810102036\n CUMUN                                                     08101\n CSEC                                                        036\n CDIS                                                         02\n CMUN                                                        101\n CPRO                                                         08\n CCA                                                          09\n CUDIS                                                   0810102\n CLAU2                                                     08101\n NPRO                                                  Barcelona\n NCA                                                    Cataluña\n CNUT0                                                        ES\n CNUT1                                                         5\n CNUT2                                                         1\n CNUT3                                                         1\n ESTADO                                                        I\n OBS                                                            \n NMUN                                Hospitalet de Llobregat, L'\n Shape_Leng                                           746.978414\n Shape_Area                                         30344.848819\n geometry      POLYGON ((2.1224051044487737 41.36807270207617...\n centroide                 (2.12122815557394, 41.36885594888322)\n distancia                                              0.007351\n Name: 5071, dtype: object,\n CUSEC                                                2807910211\n CUMUN                                                     28079\n CSEC                                                        211\n CDIS                                                         10\n CMUN                                                        079\n CPRO                                                         28\n CCA                                                          13\n CUDIS                                                   2807910\n CLAU2                                                     28079\n NPRO                                                     Madrid\n NCA                                         Comunidad de Madrid\n CNUT0                                                        ES\n CNUT1                                                         3\n CNUT2                                                         0\n CNUT3                                                         0\n ESTADO                                                        I\n OBS                                                            \n NMUN                                                     Madrid\n Shape_Leng                                          1094.446649\n Shape_Area                                         43409.153666\n geometry      POLYGON ((-3.7237553262148597 40.4087591692734...\n centroide              (-3.724396112662925, 40.410268385864676)\n distancia                                              5.913034\n Name: 16948, dtype: object,\n CUSEC                                                3102101001\n CUMUN                                                     31021\n CSEC                                                        001\n CDIS                                                         01\n CMUN                                                        021\n CPRO                                                         31\n CCA                                                          15\n CUDIS                                                   3102101\n CLAU2                                                     31021\n NPRO                                                    Navarra\n NCA                                  Comunidad Foral de Navarra\n CNUT0                                                        ES\n CNUT1                                                         2\n CNUT2                                                         2\n CNUT3                                                         0\n ESTADO                                                        I\n OBS                                                            \n NMUN                                      Aranarache/Aranaratxe\n Shape_Leng                                         10171.132537\n Shape_Area                                        5072886.25923\n geometry      POLYGON ((-2.2220225332117067 42.7820883569386...\n centroide              (-2.232369391411602, 42.766952221869175)\n distancia                                              4.559983\n Name: 20661, dtype: object,\n CUSEC                                                2807910213\n CUMUN                                                     28079\n CSEC                                                        213\n CDIS                                                         10\n CMUN                                                        079\n CPRO                                                         28\n CCA                                                          13\n CUDIS                                                   2807910\n CLAU2                                                     28079\n NPRO                                                     Madrid\n NCA                                         Comunidad de Madrid\n CNUT0                                                        ES\n CNUT1                                                         3\n CNUT2                                                         0\n CNUT3                                                         0\n ESTADO                                                        I\n OBS                                                            \n NMUN                                                     Madrid\n Shape_Leng                                          1537.645856\n Shape_Area                                        128467.460887\n geometry      POLYGON ((-3.7487250675647403 40.4014381470371...\n centroide             (-3.7514268486281086, 40.401789414434035)\n distancia                                              5.915722\n Name: 16985, dtype: object,\n CUSEC                                                2807910209\n CUMUN                                                     28079\n CSEC                                                        209\n CDIS                                                         10\n CMUN                                                        079\n CPRO                                                         28\n CCA                                                          13\n CUDIS                                                   2807910\n CLAU2                                                     28079\n NPRO                                                     Madrid\n NCA                                         Comunidad de Madrid\n CNUT0                                                        ES\n CNUT1                                                         3\n CNUT2                                                         0\n CNUT3                                                         0\n ESTADO                                                        I\n OBS                                                            \n NMUN                                                     Madrid\n Shape_Leng                                          1162.208604\n Shape_Area                                         67295.516978\n geometry      POLYGON ((-3.7656205986707185 40.3792958556804...\n centroide             (-3.7668537705792136, 40.380445311366415)\n distancia                                              5.932488\n Name: 16959, dtype: object,\n CUSEC                                                2807910212\n CUMUN                                                     28079\n CSEC                                                        212\n CDIS                                                         10\n CMUN                                                        079\n CPRO                                                         28\n CCA                                                          13\n CUDIS                                                   2807910\n CLAU2                                                     28079\n NPRO                                                     Madrid\n NCA                                         Comunidad de Madrid\n CNUT0                                                        ES\n CNUT1                                                         3\n CNUT2                                                         0\n CNUT3                                                         0\n ESTADO                                                        I\n OBS                                                            \n NMUN                                                     Madrid\n Shape_Leng                                          1050.595948\n Shape_Area                                         52037.485198\n geometry      POLYGON ((-3.7519832199309984 40.4026467663476...\n centroide               (-3.753740157932731, 40.40285770070622)\n distancia                                              5.901015\n Name: 16906, dtype: object,\n CUSEC                                                2807910215\n CUMUN                                                     28079\n CSEC                                                        215\n CDIS                                                         10\n CMUN                                                        079\n CPRO                                                         28\n CCA                                                          13\n CUDIS                                                   2807910\n CLAU2                                                     28079\n NPRO                                                     Madrid\n NCA                                         Comunidad de Madrid\n CNUT0                                                        ES\n CNUT1                                                         3\n CNUT2                                                         0\n CNUT3                                                         0\n ESTADO                                                        I\n OBS                                                            \n NMUN                                                     Madrid\n Shape_Leng                                          1679.935074\n Shape_Area                                        131437.136711\n geometry      POLYGON ((-3.7389289074177956 40.4014607176207...\n centroide             (-3.7368985425259416, 40.403402127064815)\n distancia                                              5.758438\n Name: 16997, dtype: object,\n CUSEC                                                2807910217\n CUMUN                                                     28079\n CSEC                                                        217\n CDIS                                                         10\n CMUN                                                        079\n CPRO                                                         28\n CCA                                                          13\n CUDIS                                                   2807910\n CLAU2                                                     28079\n NPRO                                                     Madrid\n NCA                                         Comunidad de Madrid\n CNUT0                                                        ES\n CNUT1                                                         3\n CNUT2                                                         0\n CNUT3                                                         0\n ESTADO                                                        I\n OBS                                                            \n NMUN                                                     Madrid\n Shape_Leng                                           858.880197\n Shape_Area                                         44996.057071\n geometry      POLYGON ((-3.7226210286481916 40.4058337648121...\n centroide              (-3.7236632032975376, 40.40477042151175)\n distancia                                              5.770161\n Name: 16913, dtype: object,\n CUSEC                                                2807910214\n CUMUN                                                     28079\n CSEC                                                        214\n CDIS                                                         10\n CMUN                                                        079\n CPRO                                                         28\n CCA                                                          13\n CUDIS                                                   2807910\n CLAU2                                                     28079\n NPRO                                                     Madrid\n NCA                                         Comunidad de Madrid\n CNUT0                                                        ES\n CNUT1                                                         3\n CNUT2                                                         0\n CNUT3                                                         0\n ESTADO                                                        I\n OBS                                                            \n NMUN                                                     Madrid\n Shape_Leng                                          2116.883499\n Shape_Area                                         154339.57759\n geometry      POLYGON ((-3.761793669985535 40.38566351923888...\n centroide              (-3.7658703322602283, 40.38728830166687)\n distancia                                              5.949527\n Name: 16996, dtype: object,\n CUSEC                                                2807910216\n CUMUN                                                     28079\n CSEC                                                        216\n CDIS                                                         10\n CMUN                                                        079\n CPRO                                                         28\n CCA                                                          13\n CUDIS                                                   2807910\n CLAU2                                                     28079\n NPRO                                                     Madrid\n NCA                                         Comunidad de Madrid\n CNUT0                                                        ES\n CNUT1                                                         3\n CNUT2                                                         0\n CNUT3                                                         0\n ESTADO                                                        I\n OBS                                                            \n NMUN                                                     Madrid\n Shape_Leng                                          1160.175785\n Shape_Area                                         79879.382538\n geometry      POLYGON ((-3.7661792903877047 40.3699560936307...\n centroide              (-3.7666297942164175, 40.37221399720734)\n distancia                                              5.920301\n Name: 34146, dtype: object,\n CUSEC                                                2807910221\n CUMUN                                                     28079\n CSEC                                                        221\n CDIS                                                         10\n CMUN                                                        079\n CPRO                                                         28\n CCA                                                          13\n CUDIS                                                   2807910\n CLAU2                                                     28079\n NPRO                                                     Madrid\n NCA                                         Comunidad de Madrid\n CNUT0                                                        ES\n CNUT1                                                         3\n CNUT2                                                         0\n CNUT3                                                         0\n ESTADO                                                        I\n OBS                                                            \n NMUN                                                     Madrid\n Shape_Leng                                          9819.111839\n Shape_Area                                        5138505.51872\n geometry      POLYGON ((-3.768116698055946 40.37354311472089...\n centroide             (-3.7845677029500107, 40.368654220386446)\n distancia                                              5.941508\n Name: 34281, dtype: object,\n CUSEC                                                3102201001\n CUMUN                                                     31022\n CSEC                                                        001\n CDIS                                                         01\n CMUN                                                        022\n CPRO                                                         31\n CCA                                                          15\n CUDIS                                                   3102201\n CLAU2                                                     31022\n NPRO                                                    Navarra\n NCA                                  Comunidad Foral de Navarra\n CNUT0                                                        ES\n CNUT1                                                         2\n CNUT2                                                         2\n CNUT3                                                         0\n ESTADO                                                        I\n OBS                                                            \n NMUN                                                    Arantza\n Shape_Leng                                          23125.43033\n Shape_Area                                         30237816.143\n geometry      POLYGON ((-1.73075103626359 43.22318253403667,...\n centroide               (-1.736617367883013, 43.18952504411814)\n distancia                                              4.224912\n Name: 20511, dtype: object,\n CUSEC                                                0810102017\n CUMUN                                                     08101\n CSEC                                                        017\n CDIS                                                         02\n CMUN                                                        101\n CPRO                                                         08\n CCA                                                          09\n CUDIS                                                   0810102\n CLAU2                                                     08101\n NPRO                                                  Barcelona\n NCA                                                    Cataluña\n CNUT0                                                        ES\n CNUT1                                                         5\n CNUT2                                                         1\n CNUT3                                                         1\n ESTADO                                                        I\n OBS                                                            \n NMUN                                Hospitalet de Llobregat, L'\n Shape_Leng                                           678.021474\n Shape_Area                                         25040.198501\n geometry      POLYGON ((2.128160234268059 41.36984577406319,...\n centroide                (2.126630128779185, 41.36960753626327)\n distancia                                              0.032294\n Name: 5082, dtype: object,\n CUSEC                                                0811401003\n CUMUN                                                     08114\n CSEC                                                        003\n CDIS                                                         01\n CMUN                                                        114\n CPRO                                                         08\n CCA                                                          09\n CUDIS                                                   0811401\n CLAU2                                                     08114\n NPRO                                                  Barcelona\n NCA                                                    Cataluña\n CNUT0                                                        ES\n CNUT1                                                         5\n CNUT2                                                         1\n CNUT3                                                         1\n ESTADO                                                        I\n OBS                                                            \n NMUN                                                  Martorell\n Shape_Leng                                          6690.726738\n Shape_Area                                        660332.032544\n geometry      POLYGON ((1.9511137153761509 41.47199740448686...\n centroide               (1.9422414094830909, 41.47182827181956)\n distancia                                               0.32664\n Name: 5334, dtype: object,\n CUSEC                                                0826601039\n CUMUN                                                     08266\n CSEC                                                        039\n CDIS                                                         01\n CMUN                                                        266\n CPRO                                                         08\n CCA                                                          09\n CUDIS                                                   0826601\n CLAU2                                                     08266\n NPRO                                                  Barcelona\n NCA                                                    Cataluña\n CNUT0                                                        ES\n CNUT1                                                         5\n CNUT2                                                         1\n CNUT3                                                         1\n ESTADO                                                        M\n OBS                          Segregación de sección 018 con 039\n NMUN                                      Cerdanyola del Vallès\n Shape_Leng                                          2265.383866\n Shape_Area                                        185930.583238\n geometry      POLYGON ((2.1416678974929004 41.49237668283941...\n centroide               (2.1368343434941144, 41.49654618567157)\n distancia                                               0.01746\n Name: 35479, dtype: object,\n CUSEC                                                0811101001\n CUMUN                                                     08111\n CSEC                                                        001\n CDIS                                                         01\n CMUN                                                        111\n CPRO                                                         08\n CCA                                                          09\n CUDIS                                                   0811101\n CLAU2                                                     08111\n NPRO                                                  Barcelona\n NCA                                                    Cataluña\n CNUT0                                                        ES\n CNUT1                                                         5\n CNUT2                                                         1\n CNUT3                                                         1\n ESTADO                                                        I\n OBS                                                            \n NMUN                                                      Malla\n Shape_Leng                                         22053.574019\n Shape_Area                                        11041178.5084\n geometry      (POLYGON ((2.261135013993374 41.90290387928598...\n centroide               (2.2372732906582455, 41.88763364650596)\n distancia                                              0.383189\n Name: 5248, dtype: object,\n CUSEC                                                0820501018\n CUMUN                                                     08205\n CSEC                                                        018\n CDIS                                                         01\n CMUN                                                        205\n CPRO                                                         08\n CCA                                                          09\n CUDIS                                                   0820501\n CLAU2                                                     08205\n NPRO                                                  Barcelona\n NCA                                                    Cataluña\n CNUT0                                                        ES\n CNUT1                                                         5\n CNUT2                                                         1\n CNUT3                                                         1\n ESTADO                                                        I\n OBS                                                            \n NMUN                                      Sant Cugat del Vallès\n Shape_Leng                                         16708.171126\n Shape_Area                                        7450167.99671\n geometry      POLYGON ((2.0648911491259505 41.51753629741728...\n centroide                (2.0623780887305863, 41.4957754725219)\n distancia                                              0.083149\n Name: 5933, dtype: object,\n CUSEC                                                3112401001\n CUMUN                                                     31124\n CSEC                                                        001\n CDIS                                                         01\n CMUN                                                        124\n CPRO                                                         31\n CCA                                                          15\n CUDIS                                                   3112401\n CLAU2                                                     31124\n NPRO                                                    Navarra\n NCA                                  Comunidad Foral de Navarra\n CNUT0                                                        ES\n CNUT1                                                         2\n CNUT2                                                         2\n CNUT3                                                         0\n ESTADO                                                        I\n OBS                                                            \n NMUN                                                  Ibargoiti\n Shape_Leng                                         39954.486272\n Shape_Area                                        54052052.7063\n geometry      POLYGON ((-1.439414742479201 42.70310091225764...\n centroide              (-1.4544368180525353, 42.67403769444071)\n distancia                                              3.771243\n Name: 20726, dtype: object,\n CUSEC                                                3106901001\n CUMUN                                                     31069\n CSEC                                                        001\n CDIS                                                         01\n CMUN                                                        069\n CPRO                                                         31\n CCA                                                          15\n CUDIS                                                   3106901\n CLAU2                                                     31069\n NPRO                                                    Navarra\n NCA                                  Comunidad Foral de Navarra\n CNUT0                                                        ES\n CNUT1                                                         2\n CNUT2                                                         2\n CNUT3                                                         0\n ESTADO                                                        I\n OBS                                                            \n NMUN                                                     Cáseda\n Shape_Leng                                         51725.817666\n Shape_Area                                        85220942.2343\n geometry      POLYGON ((-1.332851855283442 42.53785636543473...\n centroide               (-1.364491625437671, 42.47123577645513)\n distancia                                              3.579786\n Name: 20605, dtype: object,\n CUSEC                                                3107901001\n CUMUN                                                     31079\n CSEC                                                        001\n CDIS                                                         01\n CMUN                                                        079\n CPRO                                                         31\n CCA                                                          15\n CUDIS                                                   3107901\n CLAU2                                                     31079\n NPRO                                                    Navarra\n NCA                                  Comunidad Foral de Navarra\n CNUT0                                                        ES\n CNUT1                                                         2\n CNUT2                                                         2\n CNUT3                                                         0\n ESTADO                                                        I\n OBS                                                            \n NMUN                                                     Desojo\n Shape_Leng                                         19004.598423\n Shape_Area                                        14119824.9607\n geometry      POLYGON ((-2.2726567707979584 42.6099623335369...\n centroide               (-2.267863122610642, 42.58695916719978)\n distancia                                              4.508277\n Name: 20644, dtype: object,\n CUSEC                                                0937801001\n CUMUN                                                     09378\n CSEC                                                        001\n CDIS                                                         01\n CMUN                                                        378\n CPRO                                                         09\n CCA                                                          07\n CUDIS                                                   0937801\n CLAU2                                                     09378\n NPRO                                                     Burgos\n NCA                                             Castilla y León\n CNUT0                                                        ES\n CNUT1                                                         4\n CNUT2                                                         1\n CNUT3                                                         2\n ESTADO                                                        I\n OBS                                                            \n NMUN                                                     Tejada\n Shape_Leng                                         25256.961652\n Shape_Area                                        22728175.0405\n geometry      POLYGON ((-3.5016076531441263 41.9618053612520...\n centroide             (-3.5478363923608027, 41.953424337754655)\n distancia                                              5.667802\n Name: 7127, dtype: object,\n CUSEC                                                3107501001\n CUMUN                                                     31075\n CSEC                                                        001\n CDIS                                                         01\n CMUN                                                        075\n CPRO                                                         31\n CCA                                                          15\n CUDIS                                                   3107501\n CLAU2                                                     31075\n NPRO                                                    Navarra\n NCA                                  Comunidad Foral de Navarra\n CNUT0                                                        ES\n CNUT1                                                         2\n CNUT2                                                         2\n CNUT3                                                         0\n ESTADO                                                        I\n OBS                                                            \n NMUN                                             Ciriza/Ziritza\n Shape_Leng                                         10324.056243\n Shape_Area                                         3688291.7509\n geometry      POLYGON ((-1.8068490068201761 42.7957009002580...\n centroide              (-1.8191899567833318, 42.78942575833128)\n distancia                                              4.127631\n Name: 20632, dtype: object,\n CUSEC                                                3112101001\n CUMUN                                                     31121\n CSEC                                                        001\n CDIS                                                         01\n CMUN                                                        121\n CPRO                                                         31\n CCA                                                          15\n CUDIS                                                   3112101\n CLAU2                                                     31121\n NPRO                                                    Navarra\n NCA                                  Comunidad Foral de Navarra\n CNUT0                                                        ES\n CNUT1                                                         2\n CNUT2                                                         2\n CNUT3                                                         0\n ESTADO                                                        I\n OBS                                                            \n NMUN                                               Guirguillano\n Shape_Leng                                          23631.90111\n Shape_Area                                        24597741.4051\n geometry      POLYGON ((-1.8539507054379658 42.7548234477701...\n centroide             (-1.8624167160999663, 42.719715700763516)\n distancia                                               4.08754\n Name: 20697, dtype: object,\n CUSEC                                                3117101001\n CUMUN                                                     31171\n CSEC                                                        001\n CDIS                                                         01\n CMUN                                                        171\n CPRO                                                         31\n CCA                                                          15\n CUDIS                                                   3117101\n CLAU2                                                     31171\n NPRO                                                    Navarra\n NCA                                  Comunidad Foral de Navarra\n CNUT0                                                        ES\n CNUT1                                                         2\n CNUT2                                                         2\n CNUT3                                                         0\n ESTADO                                                        I\n OBS                                                            \n NMUN                                            Miranda de Arga\n Shape_Leng                                         33400.500817\n Shape_Area                                         60116082.391\n geometry      POLYGON ((-1.7941080973689714 42.5136199899486...\n centroide              (-1.8285664092544167, 42.48215398741659)\n distancia                                              3.928015\n Name: 20787, dtype: object,\n CUSEC                                                3106201001\n CUMUN                                                     31062\n CSEC                                                        001\n CDIS                                                         01\n CMUN                                                        062\n CPRO                                                         31\n CCA                                                          15\n CUDIS                                                   3106201\n CLAU2                                                     31062\n NPRO                                                    Navarra\n NCA                                  Comunidad Foral de Navarra\n CNUT0                                                        ES\n CNUT1                                                         2\n CNUT2                                                         2\n CNUT3                                                         0\n ESTADO                                                        I\n OBS                                                            \n NMUN                                                 Cabanillas\n Shape_Leng                                         36205.990979\n Shape_Area                                        35741397.8783\n geometry      (POLYGON ((-1.480433030758186 42.0663513567932...\n centroide              (-1.5207405006671564, 42.04681615177227)\n distancia                                              3.568353\n Name: 20638, dtype: object,\n CUSEC                                                0821102007\n CUMUN                                                     08211\n CSEC                                                        007\n CDIS                                                         02\n CMUN                                                        211\n CPRO                                                         08\n CCA                                                          09\n CUDIS                                                   0821102\n CLAU2                                                     08211\n NPRO                                                  Barcelona\n NCA                                                    Cataluña\n CNUT0                                                        ES\n CNUT1                                                         5\n CNUT2                                                         1\n CNUT3                                                         1\n ESTADO                                                        I\n OBS                                                            \n NMUN                                    Sant Feliu de Llobregat\n Shape_Leng                                           719.697902\n Shape_Area                                         28214.387672\n geometry      POLYGON ((2.0408710887537644 41.37928083143161...\n centroide              (2.0400076603474684, 41.379672720378615)\n distancia                                              0.036796\n Name: 6009, dtype: object,\n CUSEC                                                3115901001\n CUMUN                                                     31159\n CSEC                                                        001\n CDIS                                                         01\n CMUN                                                        159\n CPRO                                                         31\n CCA                                                          15\n CUDIS                                                   3115901\n CLAU2                                                     31159\n NPRO                                                    Navarra\n NCA                                  Comunidad Foral de Navarra\n CNUT0                                                        ES\n CNUT1                                                         2\n CNUT2                                                         2\n CNUT3                                                         0\n ESTADO                                                        I\n OBS                                                            \n NMUN                                                    Lumbier\n Shape_Leng                                         56911.938841\n Shape_Area                                        56892998.5517\n geometry      (POLYGON ((-1.281098412219161 42.680017008042,...\n centroide              (-1.2775669591211078, 42.64823007613204)\n distancia                                              3.572716\n Name: 20783, dtype: object,\n CUSEC                                                0828801001\n CUMUN                                                     08288\n CSEC                                                        001\n CDIS                                                         01\n CMUN                                                        288\n CPRO                                                         08\n CCA                                                          09\n CUDIS                                                   0828801\n CLAU2                                                     08288\n NPRO                                                  Barcelona\n NCA                                                    Cataluña\n CNUT0                                                        ES\n CNUT1                                                         5\n CNUT2                                                         1\n CNUT3                                                         1\n ESTADO                                                        I\n OBS                                                            \n NMUN                                          Torrelles de Foix\n Shape_Leng                                         33895.099696\n Shape_Area                                        37266982.1034\n geometry      POLYGON ((1.572467692047349 41.44330313832714,...\n centroide               (1.5754394746518572, 41.40920276555991)\n distancia                                              0.338449\n Name: 33327, dtype: object,\n CUSEC                                                1914801001\n CUMUN                                                     19148\n CSEC                                                        001\n CDIS                                                         01\n CMUN                                                        148\n CPRO                                                         19\n CCA                                                          08\n CUDIS                                                   1914801\n CLAU2                                                     19148\n NPRO                                                Guadalajara\n NCA                                          Castilla-La Mancha\n CNUT0                                                        ES\n CNUT1                                                         4\n CNUT2                                                         2\n CNUT3                                                         4\n ESTADO                                                        I\n OBS                                                            \n NMUN                                             Huertahernando\n Shape_Leng                                         35613.850408\n Shape_Area                                        51277713.7689\n geometry      POLYGON ((-2.2391732400226925 40.8518837884939...\n centroide                (-2.287136194631586, 40.8237002801712)\n distancia                                              4.260123\n Name: 11663, dtype: object]"
          },
          "metadata": {}
        }
      ],
      "execution_count": 104,
      "block_group": "ecb1894b11b546d396098e984522e6cd"
    },
    {
      "cell_type": "code",
      "source": "columnas = ['Index', 'Population', 'CUSEC', 'NPRO', 'NCA']\n\n\nfaltantes= []\n\n\nfor elemento in zonas_operador['Index']:\n    resultado = zonas_censales_ine[zonas_censales_ine['CUSEC'].str.contains(str(elemento))]\n    centroide_str = zonas_operador[zonas_operador['Index'] == elemento]['centroide']\n    population = zonas_operador[zonas_operador['Index'] == elemento]['Population']\n\n    if resultado.shape[0] == 0:\n        faltantes.append(elemento)\n    else:\n        centroide = centroide_str.iloc[0]  # Obtiene el valor numérico del centroide\n        resultado['centroide'] = resultado.apply(calcular_centroide, axis=1)\n\n        # Calcula la distancia euclidiana entre el centroide y cada valor en la columna 'centroide'\n        resultado['distancia'] = resultado['centroide'].apply(lambda x: euclidean(centroide, x))\n        \n        # Encuentra el índice de la fila con la distancia mínima\n        indice_fila_mas_cercana = resultado['distancia'].idxmin()\n        \n        # Obtiene los datos de la fila más cercana\n        fila_mas_cercana = resultado.loc[indice_fila_mas_cercana]\n        ndf.append([str(elemento),population,fila_mas_cercana['CUSEC'],fila_mas_cercana['NPRO'],fila_mas_cercana['NCA'] ])\n\n",
      "metadata": {
        "source_hash": "ba76c496",
        "execution_start": 1696371634094,
        "execution_millis": 2305,
        "deepnote_app_coordinates": {
          "h": 5,
          "w": 12,
          "x": 0,
          "y": 0
        },
        "deepnote_to_be_reexecuted": false,
        "cell_id": "7ab19f6218b74def9161d443db7c7532",
        "deepnote_cell_type": "code"
      },
      "outputs": [],
      "execution_count": 111,
      "block_group": "1ab4b67fefa2464d80b8f7fde934c96f"
    },
    {
      "cell_type": "markdown",
      "source": "<a style='text-decoration:none;line-height:16px;display:flex;color:#5B5B62;padding:10px;justify-content:end;' href='https://deepnote.com?utm_source=created-in-deepnote-cell&projectId=d79b2b15-9a76-4b8a-9139-6103e6385a17' target=\"_blank\">\n<img alt='Created in deepnote.com' style='display:inline;max-height:16px;margin:0px;margin-right:7.5px;' src='data:image/svg+xml;base64,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' > </img>\nCreated in <span style='font-weight:600;margin-left:4px;'>Deepnote</span></a>",
      "metadata": {
        "created_in_deepnote_cell": true,
        "deepnote_cell_type": "markdown"
      }
    }
  ],
  "nbformat": 4,
  "nbformat_minor": 0,
  "metadata": {
    "deepnote": {},
    "orig_nbformat": 2,
    "deepnote_app_layout": "powerful-article",
    "deepnote_notebook_id": "78dc1c59f5ca4fdba3e8366267f3474d",
    "deepnote_execution_queue": []
  }
}