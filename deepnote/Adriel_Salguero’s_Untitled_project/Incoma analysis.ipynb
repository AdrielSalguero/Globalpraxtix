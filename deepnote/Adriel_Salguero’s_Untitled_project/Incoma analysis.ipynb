{
  "cells": [
    {
      "cell_type": "code",
      "source": "!pip install openpyxl \n!pip install geopandas\n!pip install shapely\n\n",
      "metadata": {
        "source_hash": "acdca07e",
        "execution_start": 1696373405121,
        "execution_millis": 5433,
        "deepnote_app_coordinates": {
          "h": 5,
          "w": 12,
          "x": 0,
          "y": 0
        },
        "deepnote_to_be_reexecuted": false,
        "cell_id": "36bc386c53ec4602a50d6bbee35cf564",
        "deepnote_cell_type": "code"
      },
      "outputs": [
        {
          "name": "stdout",
          "text": "Requirement already satisfied: openpyxl in /root/venv/lib/python3.9/site-packages (3.1.2)\nRequirement already satisfied: et-xmlfile in /root/venv/lib/python3.9/site-packages (from openpyxl) (1.1.0)\n\n\u001b[1m[\u001b[0m\u001b[34;49mnotice\u001b[0m\u001b[1;39;49m]\u001b[0m\u001b[39;49m A new release of pip is available: \u001b[0m\u001b[31;49m23.0.1\u001b[0m\u001b[39;49m -> \u001b[0m\u001b[32;49m23.2.1\u001b[0m\n\u001b[1m[\u001b[0m\u001b[34;49mnotice\u001b[0m\u001b[1;39;49m]\u001b[0m\u001b[39;49m To update, run: \u001b[0m\u001b[32;49mpip install --upgrade pip\u001b[0m\nRequirement already satisfied: geopandas in /shared-libs/python3.9/py/lib/python3.9/site-packages (0.11.1)\nRequirement already satisfied: packaging in /shared-libs/python3.9/py-core/lib/python3.9/site-packages (from geopandas) (21.3)\nRequirement already satisfied: pandas>=1.0.0 in /shared-libs/python3.9/py/lib/python3.9/site-packages (from geopandas) (1.2.5)\nRequirement already satisfied: fiona>=1.8 in /shared-libs/python3.9/py/lib/python3.9/site-packages (from geopandas) (1.8.22)\nRequirement already satisfied: shapely<2,>=1.7 in /shared-libs/python3.9/py/lib/python3.9/site-packages (from geopandas) (1.8.5.post1)\nRequirement already satisfied: pyproj>=2.6.1.post1 in /shared-libs/python3.9/py/lib/python3.9/site-packages (from geopandas) (3.4.0)\nRequirement already satisfied: six>=1.7 in /shared-libs/python3.9/py-core/lib/python3.9/site-packages (from fiona>=1.8->geopandas) (1.16.0)\nRequirement already satisfied: cligj>=0.5 in /shared-libs/python3.9/py/lib/python3.9/site-packages (from fiona>=1.8->geopandas) (0.7.2)\nRequirement already satisfied: munch in /shared-libs/python3.9/py/lib/python3.9/site-packages (from fiona>=1.8->geopandas) (2.5.0)\nRequirement already satisfied: click-plugins>=1.0 in /shared-libs/python3.9/py/lib/python3.9/site-packages (from fiona>=1.8->geopandas) (1.1.1)\nRequirement already satisfied: click>=4.0 in /shared-libs/python3.9/py/lib/python3.9/site-packages (from fiona>=1.8->geopandas) (8.1.3)\nRequirement already satisfied: setuptools in /root/venv/lib/python3.9/site-packages (from fiona>=1.8->geopandas) (58.1.0)\nRequirement already satisfied: attrs>=17 in /shared-libs/python3.9/py-core/lib/python3.9/site-packages (from fiona>=1.8->geopandas) (22.1.0)\nRequirement already satisfied: certifi in /shared-libs/python3.9/py/lib/python3.9/site-packages (from fiona>=1.8->geopandas) (2022.9.24)\nRequirement already satisfied: numpy>=1.16.5 in /shared-libs/python3.9/py/lib/python3.9/site-packages (from pandas>=1.0.0->geopandas) (1.23.4)\nRequirement already satisfied: python-dateutil>=2.7.3 in /shared-libs/python3.9/py-core/lib/python3.9/site-packages (from pandas>=1.0.0->geopandas) (2.8.2)\nRequirement already satisfied: pytz>=2017.3 in /shared-libs/python3.9/py/lib/python3.9/site-packages (from pandas>=1.0.0->geopandas) (2022.5)\nRequirement already satisfied: pyparsing!=3.0.5,>=2.0.2 in /shared-libs/python3.9/py-core/lib/python3.9/site-packages (from packaging->geopandas) (3.0.9)\n\n\u001b[1m[\u001b[0m\u001b[34;49mnotice\u001b[0m\u001b[1;39;49m]\u001b[0m\u001b[39;49m A new release of pip is available: \u001b[0m\u001b[31;49m23.0.1\u001b[0m\u001b[39;49m -> \u001b[0m\u001b[32;49m23.2.1\u001b[0m\n\u001b[1m[\u001b[0m\u001b[34;49mnotice\u001b[0m\u001b[1;39;49m]\u001b[0m\u001b[39;49m To update, run: \u001b[0m\u001b[32;49mpip install --upgrade pip\u001b[0m\nRequirement already satisfied: shapely in /shared-libs/python3.9/py/lib/python3.9/site-packages (1.8.5.post1)\n^C\n\u001b[31mERROR: Operation cancelled by user\u001b[0m\u001b[31m\n\u001b[0m\n\u001b[1m[\u001b[0m\u001b[34;49mnotice\u001b[0m\u001b[1;39;49m]\u001b[0m\u001b[39;49m A new release of pip is available: \u001b[0m\u001b[31;49m23.0.1\u001b[0m\u001b[39;49m -> \u001b[0m\u001b[32;49m23.2.1\u001b[0m\n\u001b[1m[\u001b[0m\u001b[34;49mnotice\u001b[0m\u001b[1;39;49m]\u001b[0m\u001b[39;49m To update, run: \u001b[0m\u001b[32;49mpip install --upgrade pip\u001b[0m\n",
          "output_type": "stream"
        }
      ],
      "execution_count": 1,
      "block_group": "167ca7d254b34639853cb3b7af57fd43"
    },
    {
      "cell_type": "code",
      "source": "import warnings\n# Ignorar todas las advertencias (NO RECOMENDADO en producción) por practicidad\nwarnings.filterwarnings(\"ignore\")",
      "metadata": {
        "source_hash": "94da19bd",
        "execution_start": 1696373410350,
        "execution_millis": 47,
        "deepnote_app_coordinates": {
          "h": 5,
          "w": 12,
          "x": 0,
          "y": 0
        },
        "deepnote_to_be_reexecuted": false,
        "cell_id": "9581707742644e6789e8779fd7c9d219",
        "deepnote_cell_type": "code"
      },
      "outputs": [],
      "execution_count": 2,
      "block_group": "152db902de4744fc94ab8627d1832cfe"
    },
    {
      "cell_type": "markdown",
      "source": "Start on library importation",
      "metadata": {
        "formattedRanges": [],
        "deepnote_app_coordinates": {
          "h": 2,
          "w": 8,
          "x": 0,
          "y": 0
        },
        "cell_id": "8188c7e6a72c46c0b0c69f7be9190504",
        "deepnote_cell_type": "text-cell-p"
      },
      "block_group": "b17a40f894254269a8875dcb4a61d673"
    },
    {
      "cell_type": "code",
      "source": "#To work with dataframes and geopands to handle geojsons\nimport pandas as pd\nimport geopandas as gpd\n\nimport json \n\n#Shapely and scipy to work with vectors and geostadistics\nfrom shapely.geometry import shape, Polygon, Point\nfrom scipy.spatial.distance import euclidean\n",
      "metadata": {
        "source_hash": "1ef5fd39",
        "execution_start": 1696373410391,
        "execution_millis": 1060,
        "deepnote_app_coordinates": {
          "h": 5,
          "w": 12,
          "x": 0,
          "y": 0
        },
        "deepnote_to_be_reexecuted": false,
        "cell_id": "3e10f462e88749b5994f269d55b77b13",
        "deepnote_cell_type": "code"
      },
      "outputs": [],
      "execution_count": 3,
      "block_group": "3e10f462e88749b5994f269d55b77b13"
    },
    {
      "cell_type": "code",
      "source": "\n#We are going to use this module later, for good practices must be at the begging\n# Calculate the center of the polygon, later determine which is closest finding the CUSEC and towns respectivelly\n\ndef calcular_centroide(row):\n    geometry_data = row['geometry']\n    #Convertion of the data on a recognizable shape for Shapely.\n    multipolygon = shape(geometry_data)\n    #Take the centroid and the coordinate on X and Y\n    centroid = multipolygon.centroid\n    centroid_coords = (centroid.x, centroid.y)  # Convert our centroide on a tuple to use later for calculations\n    return centroid_coords\n",
      "metadata": {
        "source_hash": "f97831be",
        "execution_start": 1696374897439,
        "execution_millis": 10,
        "deepnote_app_coordinates": {
          "h": 5,
          "w": 12,
          "x": 0,
          "y": 0
        },
        "deepnote_to_be_reexecuted": false,
        "cell_id": "170c2b0f98634b71bd92822c6e89a2d2",
        "deepnote_cell_type": "code"
      },
      "outputs": [],
      "execution_count": 42,
      "block_group": "56a6d1c7f45e4d929eda456636c67f0d"
    },
    {
      "cell_type": "code",
      "source": "poblacion_sec_censal = pd.read_csv('/work/GPX programing test/poblacion_sec_censal.csv', sep= ';')\n#population of all census sections of the province of Barcelona identified by their unique census section identifier.\nprint(poblacion_sec_censal.info(), '\\n \\n')\nprint(poblacion_sec_censal.head(10))\n\n\n# Here we must change the name Secci�n  which has troubles with the encoding route and drop columns without value\npoblacion_sec_censal.rename(columns={'Secci�n': 'Seccion', }, inplace=True)\npoblacion_sec_censal = poblacion_sec_censal.drop(columns=['Sexo','Edad (grupos quinquenales)'])\n\nprint('\\n DF modified \\n',poblacion_sec_censal.head(10))\n",
      "metadata": {
        "source_hash": "e717140",
        "execution_start": 1696374065646,
        "execution_millis": 275,
        "deepnote_table_state": {
          "sortBy": [],
          "filters": [],
          "pageSize": 100,
          "pageIndex": 0
        },
        "deepnote_table_loading": false,
        "deepnote_app_coordinates": {
          "h": 5,
          "w": 12,
          "x": 0,
          "y": 0
        },
        "deepnote_to_be_reexecuted": false,
        "cell_id": "febe76c4f7f247c49f827878572e37c0",
        "deepnote_cell_type": "code"
      },
      "outputs": [
        {
          "name": "stdout",
          "text": "<class 'pandas.core.frame.DataFrame'>\nRangeIndex: 3613 entries, 0 to 3612\nData columns (total 4 columns):\n #   Column                      Non-Null Count  Dtype  \n---  ------                      --------------  -----  \n 0   Sexo                        3613 non-null   object \n 1   Secci�n                     3613 non-null   int64  \n 2   Edad (grupos quinquenales)  3613 non-null   object \n 3   Total                       3613 non-null   float64\ndtypes: float64(1), int64(1), object(2)\nmemory usage: 113.0+ KB\nNone \n \n\n          Sexo    Secci�n Edad (grupos quinquenales)    Total\n0  Ambos Sexos  800101001                      Total    1.497\n1  Ambos Sexos  800101002                      Total    1.868\n2  Ambos Sexos  800101003                      Total  835.000\n3  Ambos Sexos  800101004                      Total    1.922\n4  Ambos Sexos  800101005                      Total    1.844\n5  Ambos Sexos  800101007                      Total    2.627\n6  Ambos Sexos  800101008                      Total    1.945\n7  Ambos Sexos  800201001                      Total  282.000\n8  Ambos Sexos  800301001                      Total    2.752\n9  Ambos Sexos  800301002                      Total    2.519\n\n DF modified \n      Seccion    Total\n0  800101001    1.497\n1  800101002    1.868\n2  800101003  835.000\n3  800101004    1.922\n4  800101005    1.844\n5  800101007    2.627\n6  800101008    1.945\n7  800201001  282.000\n8  800301001    2.752\n9  800301002    2.519\n",
          "output_type": "stream"
        }
      ],
      "execution_count": 29,
      "block_group": "20b08cdbaa46456793ff4ba2cdf40e81"
    },
    {
      "cell_type": "code",
      "source": "#Here we have to face the design of the sheet and only extract the headers that start at row 7 \natlas_socioeconimo = pd.read_excel('/work/GPX programing test/atlas_socioeconomico.xlsx', header=7)\n\n\nprint(atlas_socioeconimo.info(), '\\n \\n')\nprint(atlas_socioeconimo.head(10))",
      "metadata": {
        "source_hash": "4ed207da",
        "execution_start": 1696374178738,
        "execution_millis": 18318,
        "deepnote_app_coordinates": {
          "h": 5,
          "w": 12,
          "x": 0,
          "y": 0
        },
        "deepnote_to_be_reexecuted": false,
        "cell_id": "848e310465db4f2bacfa98f8dd146aaf",
        "deepnote_cell_type": "code"
      },
      "outputs": [
        {
          "name": "stdout",
          "text": "<class 'pandas.core.frame.DataFrame'>\nRangeIndex: 55095 entries, 0 to 55094\nData columns (total 16 columns):\n #   Column  Non-Null Count  Dtype \n---  ------  --------------  ----- \n 0           55092 non-null  object\n 1   2017    55087 non-null  object\n 2   2016    55087 non-null  object\n 3   2015    55087 non-null  object\n 4   2017.1  55087 non-null  object\n 5   2016.1  55087 non-null  object\n 6   2015.1  55087 non-null  object\n 7   2017.2  55087 non-null  object\n 8   2016.2  55087 non-null  object\n 9   2015.2  55087 non-null  object\n 10  2017.3  55087 non-null  object\n 11  2016.3  55087 non-null  object\n 12  2015.3  55087 non-null  object\n 13  2017.4  55087 non-null  object\n 14  2016.4  55087 non-null  object\n 15  2015.4  55087 non-null  object\ndtypes: object(16)\nmemory usage: 6.7+ MB\nNone \n \n\n                                               2017   2016   2015 2017.1  \\\n0                     01001 Alegría-Dulantzi  13281  13086  12936  34618   \n1       0100101 Alegría-Dulantzi distrito 01                               \n2  0100101001 Alegría-Dulantzi sección 01001                               \n3  0100101002 Alegría-Dulantzi sección 01002                               \n4                              01002 Amurrio  13862  13691  13800  34411   \n5                0100201 Amurrio distrito 01                               \n6           0100201001 Amurrio sección 01001                               \n7           0100201002 Amurrio sección 01002                               \n8           0100201003 Amurrio sección 01003                               \n9           0100201004 Amurrio sección 01004                               \n\n  2016.1 2015.1 2017.2 2016.2 2015.2 2017.3 2016.3 2015.3 2017.4 2016.4 2015.4  \n0  34373  33702                                                                 \n1                                                                               \n2                                                                               \n3                                                                               \n4  33936  34421                                                                 \n5                                                                               \n6                                                                               \n7                                                                               \n8                                                                               \n9                                                                               \n",
          "output_type": "stream"
        }
      ],
      "execution_count": 31,
      "block_group": "9968d2624f274779b4b6a33c4737d114"
    },
    {
      "cell_type": "code",
      "source": "#Extract only the columns that we are interested, on this case only Renta neta media por persona 2017,2016, 2015\natlas_socioeconimo = atlas_socioeconimo.iloc[:, [0, 1, 2, 3]]\n\n#Change columnas name to get clear infomation\n\natlas_socioeconimo.columns = ['Index', '2017 Income', '2016 Income', '2015 Income']\n\n#Change datatypes to filter with dropna ah use only the rows that contain information\natlas_socioeconimo['2017 Income'] = pd.to_numeric(atlas_socioeconimo['2017 Income'], errors='coerce').astype('Int64')\natlas_socioeconimo['2016 Income'] = pd.to_numeric(atlas_socioeconimo['2016 Income'], errors='coerce').astype('Int64')\natlas_socioeconimo['2015 Income'] = pd.to_numeric(atlas_socioeconimo['2015 Income'], errors='coerce').astype('Int64')\n\n#Reduction of the df removing null values\natlas_socioeconimo = atlas_socioeconimo.dropna()\n\n\n#Create the global variable taking in consideration all income in this period\natlas_socioeconimo['Global'] =atlas_socioeconimo['2017 Income']+atlas_socioeconimo['2016 Income']+atlas_socioeconimo['2015 Income']\n\n# Take codes appart from location name because we need to do Joins in the future\n#atlas_socioeconimo['NPRO'] = atlas_socioeconimo['Index'].str.split().str[-1]\natlas_socioeconimo['Index'] = atlas_socioeconimo['Index'].str.extract('(\\d+)')\n\n\n#Obtain incomes and codes\natlas_socioeconimo",
      "metadata": {
        "source_hash": "1c942244",
        "execution_start": 1696374260546,
        "execution_millis": 753,
        "deepnote_table_state": {
          "sortBy": [],
          "filters": [
            {
              "id": "Index",
              "type": "contains",
              "value": "1079"
            }
          ],
          "pageSize": 10,
          "pageIndex": 0
        },
        "deepnote_table_loading": false,
        "deepnote_app_coordinates": {
          "h": 5,
          "w": 12,
          "x": 0,
          "y": 0
        },
        "deepnote_to_be_reexecuted": false,
        "cell_id": "73123b119ba5458e8d46a465618d0be6",
        "deepnote_cell_type": "code"
      },
      "outputs": [
        {
          "output_type": "execute_result",
          "execution_count": 32,
          "data": {
            "application/vnd.deepnote.dataframe.v3+json": {
              "column_count": 5,
              "row_count": 14,
              "columns": [
                {
                  "name": "Index",
                  "dtype": "object",
                  "stats": {
                    "unique_count": 14,
                    "nan_count": 0,
                    "categories": [
                      {
                        "name": "21079",
                        "count": 1
                      },
                      {
                        "name": "2107901",
                        "count": 1
                      },
                      {
                        "name": "12 others",
                        "count": 12
                      }
                    ]
                  }
                },
                {
                  "name": "2017 Income",
                  "dtype": "Int64",
                  "stats": {
                    "unique_count": 11,
                    "nan_count": 0,
                    "categories": [
                      {
                        "name": "7842",
                        "count": 3
                      },
                      {
                        "name": "7694",
                        "count": 2
                      },
                      {
                        "name": "9 others",
                        "count": 9
                      }
                    ]
                  }
                },
                {
                  "name": "2016 Income",
                  "dtype": "Int64",
                  "stats": {
                    "unique_count": 11,
                    "nan_count": 0,
                    "categories": [
                      {
                        "name": "7644",
                        "count": 3
                      },
                      {
                        "name": "7534",
                        "count": 2
                      },
                      {
                        "name": "9 others",
                        "count": 9
                      }
                    ]
                  }
                },
                {
                  "name": "2015 Income",
                  "dtype": "Int64",
                  "stats": {
                    "unique_count": 11,
                    "nan_count": 0,
                    "categories": [
                      {
                        "name": "7530",
                        "count": 3
                      },
                      {
                        "name": "7215",
                        "count": 2
                      },
                      {
                        "name": "9 others",
                        "count": 9
                      }
                    ]
                  }
                },
                {
                  "name": "Global",
                  "dtype": "Int64",
                  "stats": {
                    "unique_count": 11,
                    "nan_count": 0,
                    "categories": [
                      {
                        "name": "23016",
                        "count": 3
                      },
                      {
                        "name": "22443",
                        "count": 2
                      },
                      {
                        "name": "9 others",
                        "count": 9
                      }
                    ]
                  }
                },
                {
                  "name": "_deepnote_index_column",
                  "dtype": "int64"
                }
              ],
              "rows": [
                {
                  "Index": "21079",
                  "2017 Income": "7842",
                  "2016 Income": "7644",
                  "2015 Income": "7530",
                  "Global": "23016",
                  "_deepnote_index_column": 22281
                },
                {
                  "Index": "2107901",
                  "2017 Income": "7842",
                  "2016 Income": "7644",
                  "2015 Income": "7530",
                  "Global": "23016",
                  "_deepnote_index_column": 22282
                },
                {
                  "Index": "2107901001",
                  "2017 Income": "7842",
                  "2016 Income": "7644",
                  "2015 Income": "7530",
                  "Global": "23016",
                  "_deepnote_index_column": 22283
                },
                {
                  "Index": "2807901079",
                  "2017 Income": "21778",
                  "2016 Income": "19120",
                  "2015 Income": "18971",
                  "Global": "59869",
                  "_deepnote_index_column": 28064
                },
                {
                  "Index": "2807911079",
                  "2017 Income": "8881",
                  "2016 Income": "8946",
                  "2015 Income": "8634",
                  "Global": "26461",
                  "_deepnote_index_column": 29327
                },
                {
                  "Index": "41079",
                  "2017 Income": "7694",
                  "2016 Income": "7534",
                  "2015 Income": "7215",
                  "Global": "22443",
                  "_deepnote_index_column": 43831
                },
                {
                  "Index": "4107901",
                  "2017 Income": "7694",
                  "2016 Income": "7534",
                  "2015 Income": "7215",
                  "Global": "22443",
                  "_deepnote_index_column": 43832
                },
                {
                  "Index": "4107901001",
                  "2017 Income": "9457",
                  "2016 Income": "9418",
                  "2015 Income": "8900",
                  "Global": "27775",
                  "_deepnote_index_column": 43833
                },
                {
                  "Index": "4107901002",
                  "2017 Income": "8517",
                  "2016 Income": "8466",
                  "2015 Income": "8168",
                  "Global": "25151",
                  "_deepnote_index_column": 43834
                },
                {
                  "Index": "4107901003",
                  "2017 Income": "8223",
                  "2016 Income": "8255",
                  "2015 Income": "8173",
                  "Global": "24651",
                  "_deepnote_index_column": 43835
                }
              ]
            },
            "text/plain": "            Index  2017 Income  2016 Income  2015 Income  Global\n0           01001        13281        13086        12936   39303\n4           01002        13862        13691        13800   41353\n13          01003        16177        17194        15786   49157\n16          01004        12530        13185        12722   38437\n19          01006        13115        11330        13040   37485\n...           ...          ...          ...          ...     ...\n55082  5200108011        16433        16373        15847   48653\n55083  5200108012        17350        17185        16792   51327\n55084  5200108013        12553        12705        11823   37081\n55085  5200108014         8906         8872         8937   26715\n55086  5200108015        12314        12296        11813   36423\n\n[49134 rows x 5 columns]",
            "text/html": "<div>\n<style scoped>\n    .dataframe tbody tr th:only-of-type {\n        vertical-align: middle;\n    }\n\n    .dataframe tbody tr th {\n        vertical-align: top;\n    }\n\n    .dataframe thead th {\n        text-align: right;\n    }\n</style>\n<table border=\"1\" class=\"dataframe\">\n  <thead>\n    <tr style=\"text-align: right;\">\n      <th></th>\n      <th>Index</th>\n      <th>2017 Income</th>\n      <th>2016 Income</th>\n      <th>2015 Income</th>\n      <th>Global</th>\n    </tr>\n  </thead>\n  <tbody>\n    <tr>\n      <th>0</th>\n      <td>01001</td>\n      <td>13281</td>\n      <td>13086</td>\n      <td>12936</td>\n      <td>39303</td>\n    </tr>\n    <tr>\n      <th>4</th>\n      <td>01002</td>\n      <td>13862</td>\n      <td>13691</td>\n      <td>13800</td>\n      <td>41353</td>\n    </tr>\n    <tr>\n      <th>13</th>\n      <td>01003</td>\n      <td>16177</td>\n      <td>17194</td>\n      <td>15786</td>\n      <td>49157</td>\n    </tr>\n    <tr>\n      <th>16</th>\n      <td>01004</td>\n      <td>12530</td>\n      <td>13185</td>\n      <td>12722</td>\n      <td>38437</td>\n    </tr>\n    <tr>\n      <th>19</th>\n      <td>01006</td>\n      <td>13115</td>\n      <td>11330</td>\n      <td>13040</td>\n      <td>37485</td>\n    </tr>\n    <tr>\n      <th>...</th>\n      <td>...</td>\n      <td>...</td>\n      <td>...</td>\n      <td>...</td>\n      <td>...</td>\n    </tr>\n    <tr>\n      <th>55082</th>\n      <td>5200108011</td>\n      <td>16433</td>\n      <td>16373</td>\n      <td>15847</td>\n      <td>48653</td>\n    </tr>\n    <tr>\n      <th>55083</th>\n      <td>5200108012</td>\n      <td>17350</td>\n      <td>17185</td>\n      <td>16792</td>\n      <td>51327</td>\n    </tr>\n    <tr>\n      <th>55084</th>\n      <td>5200108013</td>\n      <td>12553</td>\n      <td>12705</td>\n      <td>11823</td>\n      <td>37081</td>\n    </tr>\n    <tr>\n      <th>55085</th>\n      <td>5200108014</td>\n      <td>8906</td>\n      <td>8872</td>\n      <td>8937</td>\n      <td>26715</td>\n    </tr>\n    <tr>\n      <th>55086</th>\n      <td>5200108015</td>\n      <td>12314</td>\n      <td>12296</td>\n      <td>11813</td>\n      <td>36423</td>\n    </tr>\n  </tbody>\n</table>\n<p>49134 rows × 5 columns</p>\n</div>"
          },
          "metadata": {}
        }
      ],
      "execution_count": 32,
      "block_group": "85f70d03b9ca48148ed426195b3f49c1"
    },
    {
      "cell_type": "code",
      "source": "#Create our df using geopandas\nzonas_operador = gpd.read_file('/work/GPX programing test/zonas_operador.geojson')\nprint(zonas_operador.info(), '\\n \\n')\nprint(zonas_operador.head(10))",
      "metadata": {
        "source_hash": "3f6f9f23",
        "execution_start": 1696374933578,
        "execution_millis": 317,
        "deepnote_table_state": {
          "sortBy": [
            {
              "id": "Index",
              "type": "asc"
            }
          ],
          "filters": [],
          "pageSize": 10,
          "pageIndex": 0
        },
        "deepnote_table_loading": false,
        "deepnote_app_coordinates": {
          "h": 5,
          "w": 12,
          "x": 0,
          "y": 0
        },
        "deepnote_to_be_reexecuted": false,
        "cell_id": "99f0b20cac9549e5bdb38a2523eff586",
        "deepnote_cell_type": "code"
      },
      "outputs": [
        {
          "name": "stdout",
          "text": "<class 'geopandas.geodataframe.GeoDataFrame'>\nRangeIndex: 113 entries, 0 to 112\nData columns (total 10 columns):\n #   Column      Non-Null Count  Dtype   \n---  ------      --------------  -----   \n 0   Index       113 non-null    int64   \n 1   Coloration  113 non-null    int64   \n 2   C0          113 non-null    float64 \n 3   C1          113 non-null    float64 \n 4   ZE          113 non-null    object  \n 5   Surface     113 non-null    float64 \n 6   TauxConcav  113 non-null    float64 \n 7   Lac-CellId  113 non-null    object  \n 8   Population  113 non-null    object  \n 9   geometry    113 non-null    geometry\ndtypes: float64(4), geometry(1), int64(2), object(3)\nmemory usage: 9.0+ KB\nNone \n \n\n   Index  Coloration        C0        C1      ZE  Surface  TauxConcav  \\\n0  10113         246  0.614314  0.154390  10113;     4.10    0.147437   \n1  10115         248  0.721709  0.260285  10115;     0.80    0.122245   \n2  10114         247  0.572262  0.343758  10114;     0.51    0.122252   \n3  10125           5  0.714224  0.389354  10125;     0.63    0.156815   \n4  10124           4  0.609474  0.241052  10124;     1.31    0.354716   \n5  10127           7  0.651184  0.425884  10127;     0.93    0.239966   \n6  10126           6  0.827674  0.392603  10126;     1.11    0.073698   \n7  10121           1  0.793586  0.364918  10121;     0.83    0.163104   \n8  10120         253  0.638487  0.323312  10120;     0.46    0.042987   \n9  10123           3  0.736716  0.395433  10123;     0.66    0.000112   \n\n                                          Lac-CellId Population  \\\n0  13957-33620;797-36019;58001-36012;31327-33638;...      17520   \n1  59836-36012;37429-36012;59405-36012;37365-3601...      38090   \n2  60258-36012;58096-36012;54862-36012;54888-3353...      22000   \n3  37440-36012;58432-36012;43282-33625;1829-36013...      22923   \n4  37588-36012;55043-36012;39647-36012;4115-36013...      14739   \n5  60430-36012;59368-36012;37661-36012;2121-36013...       9265   \n6  58149-36012;1699-36013;59643-36012;39123-36012...      22296   \n7  37571-36012;48273-36012;59998-33536;61897-3353...      16731   \n8  54482-36012;55013-36012;55715-36012;37443-3601...      24025   \n9  1693-36013;62304-36012;31899-33536;1694-36013;...      22775   \n\n                                            geometry  \n0  MULTIPOLYGON (((2.15650 41.35266, 2.15465 41.3...  \n1  MULTIPOLYGON (((2.16467 41.37754, 2.16785 41.3...  \n2  MULTIPOLYGON (((2.17640 41.37302, 2.17385 41.3...  \n3  MULTIPOLYGON (((2.18313 41.37160, 2.18208 41.3...  \n4  MULTIPOLYGON (((2.18690 41.36149, 2.18541 41.3...  \n5  MULTIPOLYGON (((2.20007 41.38518, 2.19973 41.3...  \n6  MULTIPOLYGON (((2.18360 41.38127, 2.18247 41.3...  \n7  MULTIPOLYGON (((2.18503 41.37673, 2.18286 41.3...  \n8  MULTIPOLYGON (((2.16575 41.37864, 2.16467 41.3...  \n9  MULTIPOLYGON (((2.16413 41.38631, 2.15858 41.3...  \n",
          "output_type": "stream"
        }
      ],
      "execution_count": 44,
      "block_group": "765c77b01e8b4213a778ffc0dd622c70"
    },
    {
      "cell_type": "code",
      "source": "# Apply our function to get the centroides and create a new column with them\nzonas_operador['centroide'] = zonas_operador.apply(calcular_centroide, axis=1)\n\n#Taking only in consideration usefull columns\nzonas_operador = zonas_operador[['Index', 'Population','centroide']]\nzonas_operador.Index = zonas_operador.Index.astype('object')\n\n\n#Check if is alredy done\nzonas_operador",
      "metadata": {
        "source_hash": "55991f45",
        "execution_start": 1696374936931,
        "execution_millis": 182,
        "deepnote_table_state": {
          "sortBy": [],
          "filters": [],
          "pageSize": 10,
          "pageIndex": 0
        },
        "deepnote_table_loading": false,
        "deepnote_app_coordinates": {
          "h": 5,
          "w": 12,
          "x": 0,
          "y": 0
        },
        "deepnote_to_be_reexecuted": false,
        "cell_id": "a84f7a07636749ddb12b59cfe9d9ab3e",
        "deepnote_cell_type": "code"
      },
      "outputs": [
        {
          "output_type": "execute_result",
          "execution_count": 45,
          "data": {
            "application/vnd.deepnote.dataframe.v3+json": {
              "column_count": 3,
              "row_count": 113,
              "columns": [
                {
                  "name": "Index",
                  "dtype": "object",
                  "stats": {
                    "unique_count": 113,
                    "nan_count": 0,
                    "categories": [
                      {
                        "name": "10113",
                        "count": 1
                      },
                      {
                        "name": "10115",
                        "count": 1
                      },
                      {
                        "name": "111 others",
                        "count": 111
                      }
                    ]
                  }
                },
                {
                  "name": "Population",
                  "dtype": "object",
                  "stats": {
                    "unique_count": 113,
                    "nan_count": 0,
                    "categories": [
                      {
                        "name": "17520",
                        "count": 1
                      },
                      {
                        "name": "38090",
                        "count": 1
                      },
                      {
                        "name": "111 others",
                        "count": 111
                      }
                    ]
                  }
                },
                {
                  "name": "centroide",
                  "dtype": "object",
                  "stats": {
                    "unique_count": 113,
                    "nan_count": 0,
                    "categories": [
                      {
                        "name": "(2.1569322495068772, 41.36446822555657)",
                        "count": 1
                      },
                      {
                        "name": "(2.159359923207574, 41.37853652453478)",
                        "count": 1
                      },
                      {
                        "name": "111 others",
                        "count": 111
                      }
                    ]
                  }
                },
                {
                  "name": "_deepnote_index_column",
                  "dtype": "int64"
                }
              ],
              "rows": [
                {
                  "Index": "10113",
                  "Population": "17520",
                  "centroide": "(2.1569322495068772, 41.36446822555657)",
                  "_deepnote_index_column": 0
                },
                {
                  "Index": "10115",
                  "Population": "38090",
                  "centroide": "(2.159359923207574, 41.37853652453478)",
                  "_deepnote_index_column": 1
                },
                {
                  "Index": "10114",
                  "Population": "22000",
                  "centroide": "(2.1688545577838925, 41.373011178875345)",
                  "_deepnote_index_column": 2
                },
                {
                  "Index": "10125",
                  "Population": "22923",
                  "centroide": "(2.172905132941295, 41.376540848891736)",
                  "_deepnote_index_column": 3
                },
                {
                  "Index": "10124",
                  "Population": "14739",
                  "centroide": "(2.190197608860213, 41.377349237279056)",
                  "_deepnote_index_column": 4
                },
                {
                  "Index": "10127",
                  "Population": "9265",
                  "centroide": "(2.196746635304167, 41.39078824818179)",
                  "_deepnote_index_column": 5
                },
                {
                  "Index": "10126",
                  "Population": "22296",
                  "centroide": "(2.1834249774295413, 41.38680404482177)",
                  "_deepnote_index_column": 6
                },
                {
                  "Index": "10121",
                  "Population": "16731",
                  "centroide": "(2.177436648214058, 41.38115370505237)",
                  "_deepnote_index_column": 7
                },
                {
                  "Index": "10120",
                  "Population": "24025",
                  "centroide": "(2.1672311768886736, 41.38224945333623)",
                  "_deepnote_index_column": 8
                },
                {
                  "Index": "10123",
                  "Population": "22775",
                  "centroide": "(2.158521773893073, 41.387293757064114)",
                  "_deepnote_index_column": 9
                }
              ]
            },
            "text/plain": "     Index Population                                 centroide\n0    10113      17520   (2.1569322495068772, 41.36446822555657)\n1    10115      38090    (2.159359923207574, 41.37853652453478)\n2    10114      22000  (2.1688545577838925, 41.373011178875345)\n3    10125      22923   (2.172905132941295, 41.376540848891736)\n4    10124      14739   (2.190197608860213, 41.377349237279056)\n..     ...        ...                                       ...\n108   1102      91083      (2.03636781029606, 41.3430572426467)\n109   1159      66168   (2.032205213860239, 41.302976277777645)\n110    949      46705  (1.9837474451185597, 41.294668219954396)\n111    880       6961   (1.9015356228294058, 41.31860011293308)\n112    914      65612   (1.9257313463188863, 41.45646969240692)\n\n[113 rows x 3 columns]",
            "text/html": "<div>\n<style scoped>\n    .dataframe tbody tr th:only-of-type {\n        vertical-align: middle;\n    }\n\n    .dataframe tbody tr th {\n        vertical-align: top;\n    }\n\n    .dataframe thead th {\n        text-align: right;\n    }\n</style>\n<table border=\"1\" class=\"dataframe\">\n  <thead>\n    <tr style=\"text-align: right;\">\n      <th></th>\n      <th>Index</th>\n      <th>Population</th>\n      <th>centroide</th>\n    </tr>\n  </thead>\n  <tbody>\n    <tr>\n      <th>0</th>\n      <td>10113</td>\n      <td>17520</td>\n      <td>(2.1569322495068772, 41.36446822555657)</td>\n    </tr>\n    <tr>\n      <th>1</th>\n      <td>10115</td>\n      <td>38090</td>\n      <td>(2.159359923207574, 41.37853652453478)</td>\n    </tr>\n    <tr>\n      <th>2</th>\n      <td>10114</td>\n      <td>22000</td>\n      <td>(2.1688545577838925, 41.373011178875345)</td>\n    </tr>\n    <tr>\n      <th>3</th>\n      <td>10125</td>\n      <td>22923</td>\n      <td>(2.172905132941295, 41.376540848891736)</td>\n    </tr>\n    <tr>\n      <th>4</th>\n      <td>10124</td>\n      <td>14739</td>\n      <td>(2.190197608860213, 41.377349237279056)</td>\n    </tr>\n    <tr>\n      <th>...</th>\n      <td>...</td>\n      <td>...</td>\n      <td>...</td>\n    </tr>\n    <tr>\n      <th>108</th>\n      <td>1102</td>\n      <td>91083</td>\n      <td>(2.03636781029606, 41.3430572426467)</td>\n    </tr>\n    <tr>\n      <th>109</th>\n      <td>1159</td>\n      <td>66168</td>\n      <td>(2.032205213860239, 41.302976277777645)</td>\n    </tr>\n    <tr>\n      <th>110</th>\n      <td>949</td>\n      <td>46705</td>\n      <td>(1.9837474451185597, 41.294668219954396)</td>\n    </tr>\n    <tr>\n      <th>111</th>\n      <td>880</td>\n      <td>6961</td>\n      <td>(1.9015356228294058, 41.31860011293308)</td>\n    </tr>\n    <tr>\n      <th>112</th>\n      <td>914</td>\n      <td>65612</td>\n      <td>(1.9257313463188863, 41.45646969240692)</td>\n    </tr>\n  </tbody>\n</table>\n<p>113 rows × 3 columns</p>\n</div>"
          },
          "metadata": {}
        }
      ],
      "execution_count": 45,
      "block_group": "ea9f9b2997b94859b41cc25db7223e2b"
    },
    {
      "cell_type": "code",
      "source": "#As always, create our df\nzonas_censales_ine = gpd.read_file('/work/GPX programing test/zonas_censales_ine.json')\n\nprint(zonas_censales_ine.info(), '\\n \\n')\nprint(zonas_censales_ine.head(10))",
      "metadata": {
        "source_hash": "fdf60916",
        "execution_start": 1696374979795,
        "execution_millis": 2960,
        "deepnote_table_state": {
          "sortBy": [],
          "filters": [],
          "pageSize": 10,
          "pageIndex": 0
        },
        "deepnote_table_loading": false,
        "deepnote_app_coordinates": {
          "h": 5,
          "w": 12,
          "x": 0,
          "y": 0
        },
        "deepnote_to_be_reexecuted": false,
        "cell_id": "b110bd78af444325ba7f91aa4f43c09e",
        "deepnote_cell_type": "code"
      },
      "outputs": [
        {
          "name": "stdout",
          "text": "<class 'geopandas.geodataframe.GeoDataFrame'>\nRangeIndex: 36309 entries, 0 to 36308\nData columns (total 21 columns):\n #   Column      Non-Null Count  Dtype   \n---  ------      --------------  -----   \n 0   CUSEC       36309 non-null  object  \n 1   CUMUN       36309 non-null  object  \n 2   CSEC        36309 non-null  object  \n 3   CDIS        36309 non-null  object  \n 4   CMUN        36309 non-null  object  \n 5   CPRO        36309 non-null  object  \n 6   CCA         36309 non-null  object  \n 7   CUDIS       36309 non-null  object  \n 8   CLAU2       36309 non-null  object  \n 9   NPRO        36309 non-null  object  \n 10  NCA         36309 non-null  object  \n 11  CNUT0       36309 non-null  object  \n 12  CNUT1       36309 non-null  object  \n 13  CNUT2       36309 non-null  object  \n 14  CNUT3       36309 non-null  object  \n 15  ESTADO      36309 non-null  object  \n 16  OBS         36309 non-null  object  \n 17  NMUN        36309 non-null  object  \n 18  Shape_Leng  36309 non-null  float64 \n 19  Shape_Area  36309 non-null  float64 \n 20  geometry    36309 non-null  geometry\ndtypes: float64(2), geometry(1), object(18)\nmemory usage: 5.8+ MB\nNone \n \n\n        CUSEC  CUMUN CSEC CDIS CMUN CPRO CCA    CUDIS  CLAU2         NPRO  \\\n0  0100901001  01009  001   01  009   01  16  0100901  01009  Araba/Álava   \n1  0101001002  01010  002   01  010   01  16  0101001  01010  Araba/Álava   \n2  0103101001  01031  001   01  031   01  16  0103101  01031  Araba/Álava   \n3  0103301001  01033  001   01  033   01  16  0103301  01033  Araba/Álava   \n4  0103701001  01037  001   01  037   01  16  0103701  01037  Araba/Álava   \n5  0104101001  01041  001   01  041   01  16  0104101  01041  Araba/Álava   \n6  0100801001  01008  001   01  008   01  16  0100801  01008  Araba/Álava   \n7  0101001001  01010  001   01  010   01  16  0101001  01010  Araba/Álava   \n8  0103001001  01030  001   01  030   01  16  0103001  01030  Araba/Álava   \n9  0103201001  01032  001   01  032   01  16  0103201  01032  Araba/Álava   \n\n   ... CNUT0 CNUT1 CNUT2 CNUT3 ESTADO OBS                 NMUN    Shape_Leng  \\\n0  ...    ES     2     1     1      I                Asparrena  51725.353538   \n1  ...    ES     2     1     1      I              Ayala/Aiara  13350.774728   \n2  ...    ES     2     1     1      I                Laguardia  87711.717051   \n3  ...    ES     2     1     1      I      Lapuebla de Labarca  12331.494377   \n4  ...    ES     2     1     1      I            Arraia-Maeztu  60761.315212   \n5  ...    ES     2     1     1      I                Navaridas  12067.798424   \n6  ...    ES     2     1     1      I      Arratzua-Ubarrundia  65823.133803   \n7  ...    ES     2     1     1      I              Ayala/Aiara  61692.582650   \n8  ...    ES     2     1     1      I                   Lagrán  43244.851350   \n9  ...    ES     2     1     1      I       Lanciego/Lantziego  27057.481289   \n\n     Shape_Area                                           geometry  \n0  6.326080e+07  MULTIPOLYGON (((-2.25069 42.89550, -2.31610 42...  \n1  7.332951e+06  POLYGON ((-2.97499 43.09904, -3.01602 43.11833...  \n2  8.041601e+07  MULTIPOLYGON (((-2.52467 42.61471, -2.55285 42...  \n3  5.950453e+06  POLYGON ((-2.54903 42.48445, -2.57448 42.50752...  \n4  1.227207e+08  POLYGON ((-2.36929 42.80425, -2.40900 42.80644...  \n5  8.983918e+06  POLYGON ((-2.61692 42.55443, -2.64668 42.55097...  \n6  5.752654e+07  POLYGON ((-2.55108 42.95891, -2.59649 42.97628...  \n7  1.335313e+08  POLYGON ((-3.07469 43.14643, -3.10886 43.14338...  \n8  4.841174e+07  POLYGON ((-2.66793 42.59240, -2.55285 42.60823...  \n9  2.416839e+07  POLYGON ((-2.49064 42.58533, -2.52230 42.56995...  \n\n[10 rows x 21 columns]\n",
          "output_type": "stream"
        }
      ],
      "execution_count": 46,
      "block_group": "fc3ead59a66f4cf980a1d9a8241cff7e"
    },
    {
      "cell_type": "code",
      "source": "#Create an interactive df, take in consideration here I am using deepnote which allows me this feature\n\nzonas_censales_ine",
      "metadata": {
        "source_hash": "6985f3d8",
        "execution_start": 1696375029886,
        "execution_millis": 219,
        "deepnote_app_coordinates": {
          "h": 5,
          "w": 12,
          "x": 0,
          "y": 0
        },
        "deepnote_to_be_reexecuted": false,
        "cell_id": "dd07ecf4da4c48339593e30772917868",
        "deepnote_cell_type": "code"
      },
      "outputs": [
        {
          "output_type": "execute_result",
          "execution_count": 47,
          "data": {
            "application/vnd.deepnote.dataframe.v3+json": {
              "column_count": 21,
              "row_count": 36309,
              "columns": [
                {
                  "name": "CUSEC",
                  "dtype": "object",
                  "stats": {
                    "unique_count": 36309,
                    "nan_count": 0,
                    "categories": [
                      {
                        "name": "0100901001",
                        "count": 1
                      },
                      {
                        "name": "0101001002",
                        "count": 1
                      },
                      {
                        "name": "36307 others",
                        "count": 36307
                      }
                    ]
                  }
                },
                {
                  "name": "CUMUN",
                  "dtype": "object",
                  "stats": {
                    "unique_count": 8131,
                    "nan_count": 0,
                    "categories": [
                      {
                        "name": "28079",
                        "count": 2443
                      },
                      {
                        "name": "08019",
                        "count": 1068
                      },
                      {
                        "name": "8129 others",
                        "count": 32798
                      }
                    ]
                  }
                },
                {
                  "name": "CSEC",
                  "dtype": "object"
                },
                {
                  "name": "CDIS",
                  "dtype": "object"
                },
                {
                  "name": "CMUN",
                  "dtype": "object"
                },
                {
                  "name": "CPRO",
                  "dtype": "object"
                },
                {
                  "name": "CCA",
                  "dtype": "object"
                },
                {
                  "name": "CUDIS",
                  "dtype": "object"
                },
                {
                  "name": "CLAU2",
                  "dtype": "object"
                },
                {
                  "name": "NPRO",
                  "dtype": "object"
                },
                {
                  "name": "NCA",
                  "dtype": "object"
                },
                {
                  "name": "CNUT0",
                  "dtype": "object"
                },
                {
                  "name": "CNUT1",
                  "dtype": "object"
                },
                {
                  "name": "CNUT2",
                  "dtype": "object"
                },
                {
                  "name": "CNUT3",
                  "dtype": "object"
                },
                {
                  "name": "ESTADO",
                  "dtype": "object"
                },
                {
                  "name": "OBS",
                  "dtype": "object"
                },
                {
                  "name": "NMUN",
                  "dtype": "object"
                },
                {
                  "name": "Shape_Leng",
                  "dtype": "float64"
                },
                {
                  "name": "Shape_Area",
                  "dtype": "float64"
                },
                {
                  "name": "geometry",
                  "dtype": "geometry"
                },
                {
                  "name": "_deepnote_index_column",
                  "dtype": "int64"
                }
              ],
              "rows": [
                {
                  "CUSEC": "0100901001",
                  "CUMUN": "01009",
                  "CSEC": "001",
                  "CDIS": "01",
                  "CMUN": "009",
                  "CPRO": "01",
                  "CCA": "16",
                  "CUDIS": "0100901",
                  "CLAU2": "01009",
                  "NPRO": "Araba/Álava",
                  "NCA": "País Vasco",
                  "CNUT0": "ES",
                  "CNUT1": "2",
                  "CNUT2": "1",
                  "CNUT3": "1",
                  "ESTADO": "I",
                  "OBS": "",
                  "NMUN": "Asparrena",
                  "Shape_Leng": 51725.3535379,
                  "Shape_Area": 63260804.4929,
                  "geometry": "MULTIPOLYGON (((-2.2506897690201075 42.89549801786226, -2.316102389435056 42.92908167601734, -2.337468389202634 42.87133130212004, -2.2976103751981447 42.849431112460074, -2.23494216925327 42.850681673676334, -2.2506897690201075 42.89549801786226)), ((-2.354381879853505 42.94975959649108, -2.384832153869809 42.95100824566288, -2.406414036509047 42.89488525412457, -2.405577526405495 42.894232535251945, -2.3511972480822125 42.942528463212106, -2.354381879853505 42.94975959649108)))",
                  "_deepnote_index_column": 0
                },
                {
                  "CUSEC": "0101001002",
                  "CUMUN": "01010",
                  "CSEC": "002",
                  "CDIS": "01",
                  "CMUN": "010",
                  "CPRO": "01",
                  "CCA": "16",
                  "CUDIS": "0101001",
                  "CLAU2": "01010",
                  "NPRO": "Araba/Álava",
                  "NCA": "País Vasco",
                  "CNUT0": "ES",
                  "CNUT1": "2",
                  "CNUT2": "1",
                  "CNUT3": "1",
                  "ESTADO": "I",
                  "OBS": "",
                  "NMUN": "Ayala/Aiara",
                  "Shape_Leng": 13350.7747279,
                  "Shape_Area": 7332951.23071,
                  "geometry": "POLYGON ((-2.9749902007828237 43.09903800597374, -3.0160245564500823 43.11833288006328, -3.0024839354187782 43.084840332691, -2.9729505343319262 43.095246491394725, -2.9749902007828237 43.09903800597374))",
                  "_deepnote_index_column": 1
                },
                {
                  "CUSEC": "0103101001",
                  "CUMUN": "01031",
                  "CSEC": "001",
                  "CDIS": "01",
                  "CMUN": "031",
                  "CPRO": "01",
                  "CCA": "16",
                  "CUDIS": "0103101",
                  "CLAU2": "01031",
                  "NPRO": "Araba/Álava",
                  "NCA": "País Vasco",
                  "CNUT0": "ES",
                  "CNUT1": "2",
                  "CNUT2": "1",
                  "CNUT3": "1",
                  "ESTADO": "I",
                  "OBS": "",
                  "NMUN": "Laguardia",
                  "Shape_Leng": 87711.7170506,
                  "Shape_Area": 80416014.598,
                  "geometry": "MULTIPOLYGON (((-2.5246695632915417 42.61470709022148, -2.5528470651185 42.60822862344177, -2.6679348013756594 42.59239714953861, -2.6551985494716956 42.56123435374545, -2.6551893932187665 42.56115846879931, -2.616920374166768 42.55442638903213, -2.6160082306030925 42.53044981937655, -2.60090906681547 42.48455835054158, -2.5912417973598805 42.4827411036652, -2.574484073376645 42.50751817131602, -2.5490317748111964 42.48444677925078, -2.537245941182016 42.48335861242521, -2.5139190901135486 42.51803890723045, -2.5198199436796838 42.520607901405704, -2.5322818617088845 42.58777527070389, -2.5246695632915417 42.61470709022148)), ((-2.4825656605737945 42.499912251414365, -2.5053986923571583 42.51289604159015, -2.4773686903587366 42.48659158058082, -2.476954967410146 42.48693189907122, -2.4825656605737945 42.499912251414365)), ((-2.4982898734865646 42.615920405046204, -2.5039075686467407 42.61671717507847, -2.498731721373175 42.61272120882382, -2.4982898734865646 42.615920405046204)))",
                  "_deepnote_index_column": 2
                },
                {
                  "CUSEC": "0103301001",
                  "CUMUN": "01033",
                  "CSEC": "001",
                  "CDIS": "01",
                  "CMUN": "033",
                  "CPRO": "01",
                  "CCA": "16",
                  "CUDIS": "0103301",
                  "CLAU2": "01033",
                  "NPRO": "Araba/Álava",
                  "NCA": "País Vasco",
                  "CNUT0": "ES",
                  "CNUT1": "2",
                  "CNUT2": "1",
                  "CNUT3": "1",
                  "ESTADO": "I",
                  "OBS": "",
                  "NMUN": "Lapuebla de Labarca",
                  "Shape_Leng": 12331.4943773,
                  "Shape_Area": 5950453.12142,
                  "geometry": "POLYGON ((-2.5490317748111964 42.48444677925078, -2.574484073376645 42.50751817131602, -2.5912417973598805 42.4827411036652, -2.5490317748111964 42.48444677925078))",
                  "_deepnote_index_column": 3
                },
                {
                  "CUSEC": "0103701001",
                  "CUMUN": "01037",
                  "CSEC": "001",
                  "CDIS": "01",
                  "CMUN": "037",
                  "CPRO": "01",
                  "CCA": "16",
                  "CUDIS": "0103701",
                  "CLAU2": "01037",
                  "NPRO": "Araba/Álava",
                  "NCA": "País Vasco",
                  "CNUT0": "ES",
                  "CNUT1": "2",
                  "CNUT2": "1",
                  "CNUT3": "1",
                  "ESTADO": "I",
                  "OBS": "",
                  "NMUN": "Arraia-Maeztu",
                  "Shape_Leng": 60761.3152118,
                  "Shape_Area": 122720687.489,
                  "geometry": "POLYGON ((-2.3692919346320083 42.80424660003015, -2.408996089321657 42.80643563825446, -2.4455942961266817 42.79305259298165, -2.4664441049899515 42.78841959383204, -2.476906706857464 42.78530715045956, -2.4918746338917406 42.79274563207051, -2.4973287153172965 42.79313893593757, -2.508560273301725 42.79038726843911, -2.527237202296312 42.78829140859343, -2.426990299053683 42.67830736785405, -2.378043449131422 42.73161640962847, -2.3571915733508004 42.76575322908487, -2.3692919346320083 42.80424660003015))",
                  "_deepnote_index_column": 4
                },
                {
                  "CUSEC": "0104101001",
                  "CUMUN": "01041",
                  "CSEC": "001",
                  "CDIS": "01",
                  "CMUN": "041",
                  "CPRO": "01",
                  "CCA": "16",
                  "CUDIS": "0104101",
                  "CLAU2": "01041",
                  "NPRO": "Araba/Álava",
                  "NCA": "País Vasco",
                  "CNUT0": "ES",
                  "CNUT1": "2",
                  "CNUT2": "1",
                  "CNUT3": "1",
                  "ESTADO": "I",
                  "OBS": "",
                  "NMUN": "Navaridas",
                  "Shape_Leng": 12067.7984238,
                  "Shape_Area": 8983918.26168,
                  "geometry": "POLYGON ((-2.616920374166768 42.55442638903213, -2.6466769228797244 42.55096936285662, -2.640458025425126 42.52033015578849, -2.6160082306030925 42.53044981937655, -2.616920374166768 42.55442638903213))",
                  "_deepnote_index_column": 5
                },
                {
                  "CUSEC": "0100801001",
                  "CUMUN": "01008",
                  "CSEC": "001",
                  "CDIS": "01",
                  "CMUN": "008",
                  "CPRO": "01",
                  "CCA": "16",
                  "CUDIS": "0100801",
                  "CLAU2": "01008",
                  "NPRO": "Araba/Álava",
                  "NCA": "País Vasco",
                  "CNUT0": "ES",
                  "CNUT1": "2",
                  "CNUT2": "1",
                  "CNUT3": "1",
                  "ESTADO": "I",
                  "OBS": "",
                  "NMUN": "Arratzua-Ubarrundia",
                  "Shape_Leng": 65823.1338032,
                  "Shape_Area": 57526541.4452,
                  "geometry": "POLYGON ((-2.551080083147599 42.95891086014067, -2.5964945322165063 42.97628052180871, -2.6813297203251243 42.96122744923833, -2.6797538116627813 42.92058727375512, -2.643662808039352 42.8774846772457, -2.5798973565386984 42.90801102266723, -2.551080083147599 42.95891086014067))",
                  "_deepnote_index_column": 6
                },
                {
                  "CUSEC": "0101001001",
                  "CUMUN": "01010",
                  "CSEC": "001",
                  "CDIS": "01",
                  "CMUN": "010",
                  "CPRO": "01",
                  "CCA": "16",
                  "CUDIS": "0101001",
                  "CLAU2": "01010",
                  "NPRO": "Araba/Álava",
                  "NCA": "País Vasco",
                  "CNUT0": "ES",
                  "CNUT1": "2",
                  "CNUT2": "1",
                  "CNUT3": "1",
                  "ESTADO": "I",
                  "OBS": "",
                  "NMUN": "Ayala/Aiara",
                  "Shape_Leng": 61692.5826502,
                  "Shape_Area": 133531254.991,
                  "geometry": "POLYGON ((-3.074691865501491 43.14643227097736, -3.1088601760493817 43.14337959464969, -3.1340779924898157 43.09709085786957, -3.1778009240816374 43.02198471904254, -3.089417124963765 43.00175008523637, -3.018387807410033 43.03716262906677, -3.016303445586782 43.05475404779594, -3.0085333984833076 43.063620118827934, -3.0007561458990124 43.06799670583464, -3.0024839354187782 43.084840332691, -3.0160245564500823 43.11833288006328, -3.0239574528785673 43.13314902321456, -3.074691865501491 43.14643227097736))",
                  "_deepnote_index_column": 7
                },
                {
                  "CUSEC": "0103001001",
                  "CUMUN": "01030",
                  "CSEC": "001",
                  "CDIS": "01",
                  "CMUN": "030",
                  "CPRO": "01",
                  "CCA": "16",
                  "CUDIS": "0103001",
                  "CLAU2": "01030",
                  "NPRO": "Araba/Álava",
                  "NCA": "País Vasco",
                  "CNUT0": "ES",
                  "CNUT1": "2",
                  "CNUT2": "1",
                  "CNUT3": "1",
                  "ESTADO": "I",
                  "OBS": "",
                  "NMUN": "Lagrán",
                  "Shape_Leng": 43244.8513501,
                  "Shape_Area": 48411739.4671,
                  "geometry": "POLYGON ((-2.6679348013756594 42.59239714953861, -2.5528470651185 42.60822862344177, -2.538047363866885 42.63845157513254, -2.6182220190117214 42.64837059696944, -2.6477373171736494 42.63236310499568, -2.6815792476472535 42.59562408402134, -2.6679348013756594 42.59239714953861))",
                  "_deepnote_index_column": 8
                },
                {
                  "CUSEC": "0103201001",
                  "CUMUN": "01032",
                  "CSEC": "001",
                  "CDIS": "01",
                  "CMUN": "032",
                  "CPRO": "01",
                  "CCA": "16",
                  "CUDIS": "0103201",
                  "CLAU2": "01032",
                  "NPRO": "Araba/Álava",
                  "NCA": "País Vasco",
                  "CNUT0": "ES",
                  "CNUT1": "2",
                  "CNUT2": "1",
                  "CNUT3": "1",
                  "ESTADO": "I",
                  "OBS": "",
                  "NMUN": "Lanciego/Lantziego",
                  "Shape_Leng": 27057.4812891,
                  "Shape_Area": 24168385.8926,
                  "geometry": "POLYGON ((-2.4906431818248826 42.5853307375579, -2.5222966091232095 42.56995205787171, -2.5198199436796838 42.520607901405704, -2.5139190901135486 42.51803890723045, -2.5053986923571583 42.51289604159015, -2.4825656605737945 42.499912251414365, -2.4840889517214073 42.51883586739815, -2.4906431818248826 42.5853307375579))",
                  "_deepnote_index_column": 9
                }
              ]
            },
            "text/plain": "            CUSEC  CUMUN CSEC CDIS CMUN CPRO CCA    CUDIS  CLAU2         NPRO  \\\n0      0100901001  01009  001   01  009   01  16  0100901  01009  Araba/Álava   \n1      0101001002  01010  002   01  010   01  16  0101001  01010  Araba/Álava   \n2      0103101001  01031  001   01  031   01  16  0103101  01031  Araba/Álava   \n3      0103301001  01033  001   01  033   01  16  0103301  01033  Araba/Álava   \n4      0103701001  01037  001   01  037   01  16  0103701  01037  Araba/Álava   \n...           ...    ...  ...  ...  ...  ...  ..      ...    ...          ...   \n36304  3501605017  35016  017   05  016   35  05  3501605  35016  Palmas, Las   \n36305  3501605009  35016  009   05  016   35  05  3501605  35016  Palmas, Las   \n36306  3501605033  35016  033   05  016   35  05  3501605  35016  Palmas, Las   \n36307  3501605034  35016  034   05  016   35  05  3501605  35016  Palmas, Las   \n36308  4103904004  41039  004   04  039   41  01  4103904  41039      Sevilla   \n\n       ... CNUT0 CNUT1 CNUT2 CNUT3 ESTADO OBS                         NMUN  \\\n0      ...    ES     2     1     1      I                        Asparrena   \n1      ...    ES     2     1     1      I                      Ayala/Aiara   \n2      ...    ES     2     1     1      I                        Laguardia   \n3      ...    ES     2     1     1      I              Lapuebla de Labarca   \n4      ...    ES     2     1     1      I                    Arraia-Maeztu   \n...    ...   ...   ...   ...   ...    ...  ..                          ...   \n36304  ...    ES     7     0     5      M      Palmas de Gran Canaria, Las   \n36305  ...    ES     7     0     5      M      Palmas de Gran Canaria, Las   \n36306  ...    ES     7     0     5      M      Palmas de Gran Canaria, Las   \n36307  ...    ES     7     0     5      M      Palmas de Gran Canaria, Las   \n36308  ...    ES     6     1     8      M                            Écija   \n\n          Shape_Leng    Shape_Area  \\\n0       51725.353538  6.326080e+07   \n1       13350.774728  7.332951e+06   \n2       87711.717051  8.041601e+07   \n3       12331.494377  5.950453e+06   \n4       60761.315212  1.227207e+08   \n...              ...           ...   \n36304   15642.540059  5.318911e+06   \n36305    2929.633264  2.023513e+05   \n36306    9796.053160  2.625522e+06   \n36307    1994.804489  1.635899e+05   \n36308  256664.300052  8.496741e+08   \n\n                                                geometry  \n0      MULTIPOLYGON (((-2.25069 42.89550, -2.31610 42...  \n1      POLYGON ((-2.97499 43.09904, -3.01602 43.11833...  \n2      MULTIPOLYGON (((-2.52467 42.61471, -2.55285 42...  \n3      POLYGON ((-2.54903 42.48445, -2.57448 42.50752...  \n4      POLYGON ((-2.36929 42.80425, -2.40900 42.80644...  \n...                                                  ...  \n36304  POLYGON ((-15.49347 28.08960, -15.49699 28.096...  \n36305  POLYGON ((-15.48841 28.09245, -15.48927 28.093...  \n36306  POLYGON ((-15.48999 28.08495, -15.49145 28.086...  \n36307  POLYGON ((-15.48999 28.08495, -15.48559 28.089...  \n36308  MULTIPOLYGON (((-5.24389 37.59755, -5.27452 37...  \n\n[36309 rows x 21 columns]",
            "text/html": "<div>\n<style scoped>\n    .dataframe tbody tr th:only-of-type {\n        vertical-align: middle;\n    }\n\n    .dataframe tbody tr th {\n        vertical-align: top;\n    }\n\n    .dataframe thead th {\n        text-align: right;\n    }\n</style>\n<table border=\"1\" class=\"dataframe\">\n  <thead>\n    <tr style=\"text-align: right;\">\n      <th></th>\n      <th>CUSEC</th>\n      <th>CUMUN</th>\n      <th>CSEC</th>\n      <th>CDIS</th>\n      <th>CMUN</th>\n      <th>CPRO</th>\n      <th>CCA</th>\n      <th>CUDIS</th>\n      <th>CLAU2</th>\n      <th>NPRO</th>\n      <th>...</th>\n      <th>CNUT0</th>\n      <th>CNUT1</th>\n      <th>CNUT2</th>\n      <th>CNUT3</th>\n      <th>ESTADO</th>\n      <th>OBS</th>\n      <th>NMUN</th>\n      <th>Shape_Leng</th>\n      <th>Shape_Area</th>\n      <th>geometry</th>\n    </tr>\n  </thead>\n  <tbody>\n    <tr>\n      <th>0</th>\n      <td>0100901001</td>\n      <td>01009</td>\n      <td>001</td>\n      <td>01</td>\n      <td>009</td>\n      <td>01</td>\n      <td>16</td>\n      <td>0100901</td>\n      <td>01009</td>\n      <td>Araba/Álava</td>\n      <td>...</td>\n      <td>ES</td>\n      <td>2</td>\n      <td>1</td>\n      <td>1</td>\n      <td>I</td>\n      <td></td>\n      <td>Asparrena</td>\n      <td>51725.353538</td>\n      <td>6.326080e+07</td>\n      <td>MULTIPOLYGON (((-2.25069 42.89550, -2.31610 42...</td>\n    </tr>\n    <tr>\n      <th>1</th>\n      <td>0101001002</td>\n      <td>01010</td>\n      <td>002</td>\n      <td>01</td>\n      <td>010</td>\n      <td>01</td>\n      <td>16</td>\n      <td>0101001</td>\n      <td>01010</td>\n      <td>Araba/Álava</td>\n      <td>...</td>\n      <td>ES</td>\n      <td>2</td>\n      <td>1</td>\n      <td>1</td>\n      <td>I</td>\n      <td></td>\n      <td>Ayala/Aiara</td>\n      <td>13350.774728</td>\n      <td>7.332951e+06</td>\n      <td>POLYGON ((-2.97499 43.09904, -3.01602 43.11833...</td>\n    </tr>\n    <tr>\n      <th>2</th>\n      <td>0103101001</td>\n      <td>01031</td>\n      <td>001</td>\n      <td>01</td>\n      <td>031</td>\n      <td>01</td>\n      <td>16</td>\n      <td>0103101</td>\n      <td>01031</td>\n      <td>Araba/Álava</td>\n      <td>...</td>\n      <td>ES</td>\n      <td>2</td>\n      <td>1</td>\n      <td>1</td>\n      <td>I</td>\n      <td></td>\n      <td>Laguardia</td>\n      <td>87711.717051</td>\n      <td>8.041601e+07</td>\n      <td>MULTIPOLYGON (((-2.52467 42.61471, -2.55285 42...</td>\n    </tr>\n    <tr>\n      <th>3</th>\n      <td>0103301001</td>\n      <td>01033</td>\n      <td>001</td>\n      <td>01</td>\n      <td>033</td>\n      <td>01</td>\n      <td>16</td>\n      <td>0103301</td>\n      <td>01033</td>\n      <td>Araba/Álava</td>\n      <td>...</td>\n      <td>ES</td>\n      <td>2</td>\n      <td>1</td>\n      <td>1</td>\n      <td>I</td>\n      <td></td>\n      <td>Lapuebla de Labarca</td>\n      <td>12331.494377</td>\n      <td>5.950453e+06</td>\n      <td>POLYGON ((-2.54903 42.48445, -2.57448 42.50752...</td>\n    </tr>\n    <tr>\n      <th>4</th>\n      <td>0103701001</td>\n      <td>01037</td>\n      <td>001</td>\n      <td>01</td>\n      <td>037</td>\n      <td>01</td>\n      <td>16</td>\n      <td>0103701</td>\n      <td>01037</td>\n      <td>Araba/Álava</td>\n      <td>...</td>\n      <td>ES</td>\n      <td>2</td>\n      <td>1</td>\n      <td>1</td>\n      <td>I</td>\n      <td></td>\n      <td>Arraia-Maeztu</td>\n      <td>60761.315212</td>\n      <td>1.227207e+08</td>\n      <td>POLYGON ((-2.36929 42.80425, -2.40900 42.80644...</td>\n    </tr>\n    <tr>\n      <th>...</th>\n      <td>...</td>\n      <td>...</td>\n      <td>...</td>\n      <td>...</td>\n      <td>...</td>\n      <td>...</td>\n      <td>...</td>\n      <td>...</td>\n      <td>...</td>\n      <td>...</td>\n      <td>...</td>\n      <td>...</td>\n      <td>...</td>\n      <td>...</td>\n      <td>...</td>\n      <td>...</td>\n      <td>...</td>\n      <td>...</td>\n      <td>...</td>\n      <td>...</td>\n      <td>...</td>\n    </tr>\n    <tr>\n      <th>36304</th>\n      <td>3501605017</td>\n      <td>35016</td>\n      <td>017</td>\n      <td>05</td>\n      <td>016</td>\n      <td>35</td>\n      <td>05</td>\n      <td>3501605</td>\n      <td>35016</td>\n      <td>Palmas, Las</td>\n      <td>...</td>\n      <td>ES</td>\n      <td>7</td>\n      <td>0</td>\n      <td>5</td>\n      <td>M</td>\n      <td></td>\n      <td>Palmas de Gran Canaria, Las</td>\n      <td>15642.540059</td>\n      <td>5.318911e+06</td>\n      <td>POLYGON ((-15.49347 28.08960, -15.49699 28.096...</td>\n    </tr>\n    <tr>\n      <th>36305</th>\n      <td>3501605009</td>\n      <td>35016</td>\n      <td>009</td>\n      <td>05</td>\n      <td>016</td>\n      <td>35</td>\n      <td>05</td>\n      <td>3501605</td>\n      <td>35016</td>\n      <td>Palmas, Las</td>\n      <td>...</td>\n      <td>ES</td>\n      <td>7</td>\n      <td>0</td>\n      <td>5</td>\n      <td>M</td>\n      <td></td>\n      <td>Palmas de Gran Canaria, Las</td>\n      <td>2929.633264</td>\n      <td>2.023513e+05</td>\n      <td>POLYGON ((-15.48841 28.09245, -15.48927 28.093...</td>\n    </tr>\n    <tr>\n      <th>36306</th>\n      <td>3501605033</td>\n      <td>35016</td>\n      <td>033</td>\n      <td>05</td>\n      <td>016</td>\n      <td>35</td>\n      <td>05</td>\n      <td>3501605</td>\n      <td>35016</td>\n      <td>Palmas, Las</td>\n      <td>...</td>\n      <td>ES</td>\n      <td>7</td>\n      <td>0</td>\n      <td>5</td>\n      <td>M</td>\n      <td></td>\n      <td>Palmas de Gran Canaria, Las</td>\n      <td>9796.053160</td>\n      <td>2.625522e+06</td>\n      <td>POLYGON ((-15.48999 28.08495, -15.49145 28.086...</td>\n    </tr>\n    <tr>\n      <th>36307</th>\n      <td>3501605034</td>\n      <td>35016</td>\n      <td>034</td>\n      <td>05</td>\n      <td>016</td>\n      <td>35</td>\n      <td>05</td>\n      <td>3501605</td>\n      <td>35016</td>\n      <td>Palmas, Las</td>\n      <td>...</td>\n      <td>ES</td>\n      <td>7</td>\n      <td>0</td>\n      <td>5</td>\n      <td>M</td>\n      <td></td>\n      <td>Palmas de Gran Canaria, Las</td>\n      <td>1994.804489</td>\n      <td>1.635899e+05</td>\n      <td>POLYGON ((-15.48999 28.08495, -15.48559 28.089...</td>\n    </tr>\n    <tr>\n      <th>36308</th>\n      <td>4103904004</td>\n      <td>41039</td>\n      <td>004</td>\n      <td>04</td>\n      <td>039</td>\n      <td>41</td>\n      <td>01</td>\n      <td>4103904</td>\n      <td>41039</td>\n      <td>Sevilla</td>\n      <td>...</td>\n      <td>ES</td>\n      <td>6</td>\n      <td>1</td>\n      <td>8</td>\n      <td>M</td>\n      <td></td>\n      <td>Écija</td>\n      <td>256664.300052</td>\n      <td>8.496741e+08</td>\n      <td>MULTIPOLYGON (((-5.24389 37.59755, -5.27452 37...</td>\n    </tr>\n  </tbody>\n</table>\n<p>36309 rows × 21 columns</p>\n</div>"
          },
          "metadata": {}
        }
      ],
      "execution_count": 47,
      "block_group": "cbebcb0eb92749f6a6ec39b1ce4de693"
    },
    {
      "cell_type": "code",
      "source": "#Start our variable with columns for my new df, a empty list to add more list and create a df, and an empty list to add errors\ncolumnas = ['Index', 'Population', 'CUSEC', 'NPRO', 'NCA', 'NMUN']\nndf = []\nfaltantes= []\n\n#Start to run our indexes looking for closest point\nfor elemento in zonas_operador['Index']:\n\n    #To avoid use to much compute power fisrt we filter zonas_censales_ine reducing the number of operations\n    resultado = zonas_censales_ine[zonas_censales_ine['CUSEC'].str.contains(str(elemento))]\n    #create a variable for our centroid\n    centroide_str = zonas_operador[zonas_operador['Index'] == elemento]['centroide']\n    #Same for population because we will need in the future to complement our df\n    population = zonas_operador[zonas_operador['Index'] == elemento]['Population']\n    # Obtain the numeric value\n    population = population.iloc[0]\n\n\n\n    if resultado.shape[0] == 0:\n        faltantes.append(elemento)\n\n\n    else:\n        centroide = centroide_str.iloc[0]  # Obtain the numeric value\n        #Apply the function to our df results\n        resultado['centroide'] = resultado.apply(calcular_centroide, axis=1)\n\n        #Calculation of euclidean distance btw our centroid and each column\n        resultado['distancia'] = resultado['centroide'].apply(lambda x: euclidean(centroide, x))\n        \n        # Find the minimum index \n        indice_fila_mas_cercana = resultado['distancia'].idxmin()\n        \n        # Append the closest values to our list of list\n        fila_mas_cercana = resultado.loc[indice_fila_mas_cercana]\n        #Element because this was the ennuncement\n        #Population to calculate the global\n        # CUSEC for look in atlas_socioeconimo\n        #NPRO to check cities looking potential joins\n        #NCA to check cities looking potential joins\n        #NMUN to check cities looking potential joins\n\n        ndf.append([str(elemento),population,fila_mas_cercana['CUSEC'],fila_mas_cercana['NPRO'],fila_mas_cercana['NCA'],fila_mas_cercana['NMUN'] ])\n",
      "metadata": {
        "source_hash": "b5f10b0a",
        "execution_start": 1696373492172,
        "execution_millis": 2150,
        "deepnote_app_coordinates": {
          "h": 5,
          "w": 12,
          "x": 0,
          "y": 0
        },
        "deepnote_to_be_reexecuted": false,
        "cell_id": "7ab19f6218b74def9161d443db7c7532",
        "deepnote_cell_type": "code"
      },
      "outputs": [],
      "execution_count": 14,
      "block_group": "1ab4b67fefa2464d80b8f7fde934c96f"
    },
    {
      "cell_type": "code",
      "source": "df_mc = pd.DataFrame(ndf, columns= columnas)\ndf_mc",
      "metadata": {
        "source_hash": "f07faae5",
        "execution_start": 1696373498888,
        "execution_millis": 239,
        "deepnote_table_state": {
          "sortBy": [],
          "filters": [],
          "pageSize": 10,
          "pageIndex": 10
        },
        "deepnote_table_loading": false,
        "deepnote_app_coordinates": {
          "h": 5,
          "w": 12,
          "x": 0,
          "y": 0
        },
        "deepnote_to_be_reexecuted": false,
        "cell_id": "f82a85eb11194a44a6a4caf9da350ce4",
        "deepnote_cell_type": "code"
      },
      "outputs": [
        {
          "output_type": "execute_result",
          "execution_count": 15,
          "data": {
            "application/vnd.deepnote.dataframe.v3+json": {
              "column_count": 6,
              "row_count": 110,
              "columns": [
                {
                  "name": "Index",
                  "dtype": "object",
                  "stats": {
                    "unique_count": 110,
                    "nan_count": 0,
                    "categories": [
                      {
                        "name": "10113",
                        "count": 1
                      },
                      {
                        "name": "10115",
                        "count": 1
                      },
                      {
                        "name": "108 others",
                        "count": 108
                      }
                    ]
                  }
                },
                {
                  "name": "Population",
                  "dtype": "object",
                  "stats": {
                    "unique_count": 110,
                    "nan_count": 0,
                    "categories": [
                      {
                        "name": "17520",
                        "count": 1
                      },
                      {
                        "name": "38090",
                        "count": 1
                      },
                      {
                        "name": "108 others",
                        "count": 108
                      }
                    ]
                  }
                },
                {
                  "name": "CUSEC",
                  "dtype": "object",
                  "stats": {
                    "unique_count": 110,
                    "nan_count": 0,
                    "categories": [
                      {
                        "name": "0801910113",
                        "count": 1
                      },
                      {
                        "name": "0801910115",
                        "count": 1
                      },
                      {
                        "name": "108 others",
                        "count": 108
                      }
                    ]
                  }
                },
                {
                  "name": "NPRO",
                  "dtype": "object",
                  "stats": {
                    "unique_count": 6,
                    "nan_count": 0,
                    "categories": [
                      {
                        "name": "Madrid",
                        "count": 49
                      },
                      {
                        "name": "Barcelona",
                        "count": 40
                      },
                      {
                        "name": "4 others",
                        "count": 21
                      }
                    ]
                  }
                },
                {
                  "name": "NCA",
                  "dtype": "object",
                  "stats": {
                    "unique_count": 6,
                    "nan_count": 0,
                    "categories": [
                      {
                        "name": "Comunidad de Madrid",
                        "count": 49
                      },
                      {
                        "name": "Cataluña",
                        "count": 40
                      },
                      {
                        "name": "4 others",
                        "count": 21
                      }
                    ]
                  }
                },
                {
                  "name": "NMUN",
                  "dtype": "object",
                  "stats": {
                    "unique_count": 31,
                    "nan_count": 0,
                    "categories": [
                      {
                        "name": "Madrid",
                        "count": 49
                      },
                      {
                        "name": "Barcelona",
                        "count": 28
                      },
                      {
                        "name": "29 others",
                        "count": 33
                      }
                    ]
                  }
                },
                {
                  "name": "_deepnote_index_column",
                  "dtype": "int64"
                }
              ],
              "rows": [
                {
                  "Index": "1079",
                  "Population": "17494",
                  "CUSEC": "3107901001",
                  "NPRO": "Navarra",
                  "NCA": "Comunidad Foral de Navarra",
                  "NMUN": "Desojo",
                  "_deepnote_index_column": 100
                },
                {
                  "Index": "937",
                  "Population": "46355",
                  "CUSEC": "0937801001",
                  "NPRO": "Burgos",
                  "NCA": "Castilla y León",
                  "NMUN": "Tejada",
                  "_deepnote_index_column": 101
                },
                {
                  "Index": "1075",
                  "Population": "34084",
                  "CUSEC": "3107501001",
                  "NPRO": "Navarra",
                  "NCA": "Comunidad Foral de Navarra",
                  "NMUN": "Ciriza/Ziritza",
                  "_deepnote_index_column": 102
                },
                {
                  "Index": "1121",
                  "Population": "27901",
                  "CUSEC": "3112101001",
                  "NPRO": "Navarra",
                  "NCA": "Comunidad Foral de Navarra",
                  "NMUN": "Guirguillano",
                  "_deepnote_index_column": 103
                },
                {
                  "Index": "1171",
                  "Population": "11952",
                  "CUSEC": "3117101001",
                  "NPRO": "Navarra",
                  "NCA": "Comunidad Foral de Navarra",
                  "NMUN": "Miranda de Arga",
                  "_deepnote_index_column": 104
                },
                {
                  "Index": "1062",
                  "Population": "10052",
                  "CUSEC": "3106201001",
                  "NPRO": "Navarra",
                  "NCA": "Comunidad Foral de Navarra",
                  "NMUN": "Cabanillas",
                  "_deepnote_index_column": 105
                },
                {
                  "Index": "1102",
                  "Population": "91083",
                  "CUSEC": "0821102007",
                  "NPRO": "Barcelona",
                  "NCA": "Cataluña",
                  "NMUN": "Sant Feliu de Llobregat",
                  "_deepnote_index_column": 106
                },
                {
                  "Index": "1159",
                  "Population": "66168",
                  "CUSEC": "3115901001",
                  "NPRO": "Navarra",
                  "NCA": "Comunidad Foral de Navarra",
                  "NMUN": "Lumbier",
                  "_deepnote_index_column": 107
                },
                {
                  "Index": "880",
                  "Population": "6961",
                  "CUSEC": "0828801001",
                  "NPRO": "Barcelona",
                  "NCA": "Cataluña",
                  "NMUN": "Torrelles de Foix",
                  "_deepnote_index_column": 108
                },
                {
                  "Index": "914",
                  "Population": "65612",
                  "CUSEC": "1914801001",
                  "NPRO": "Guadalajara",
                  "NCA": "Castilla-La Mancha",
                  "NMUN": "Huertahernando",
                  "_deepnote_index_column": 109
                }
              ]
            },
            "text/plain": "     Index Population       CUSEC         NPRO                         NCA  \\\n0    10113      17520  0801910113    Barcelona                    Cataluña   \n1    10115      38090  0801910115    Barcelona                    Cataluña   \n2    10114      22000  0801910114    Barcelona                    Cataluña   \n3    10125      22923  0801910125    Barcelona                    Cataluña   \n4    10124      14739  0801910124    Barcelona                    Cataluña   \n..     ...        ...         ...          ...                         ...   \n105   1062      10052  3106201001      Navarra  Comunidad Foral de Navarra   \n106   1102      91083  0821102007    Barcelona                    Cataluña   \n107   1159      66168  3115901001      Navarra  Comunidad Foral de Navarra   \n108    880       6961  0828801001    Barcelona                    Cataluña   \n109    914      65612  1914801001  Guadalajara          Castilla-La Mancha   \n\n                        NMUN  \n0                  Barcelona  \n1                  Barcelona  \n2                  Barcelona  \n3                  Barcelona  \n4                  Barcelona  \n..                       ...  \n105               Cabanillas  \n106  Sant Feliu de Llobregat  \n107                  Lumbier  \n108        Torrelles de Foix  \n109           Huertahernando  \n\n[110 rows x 6 columns]",
            "text/html": "<div>\n<style scoped>\n    .dataframe tbody tr th:only-of-type {\n        vertical-align: middle;\n    }\n\n    .dataframe tbody tr th {\n        vertical-align: top;\n    }\n\n    .dataframe thead th {\n        text-align: right;\n    }\n</style>\n<table border=\"1\" class=\"dataframe\">\n  <thead>\n    <tr style=\"text-align: right;\">\n      <th></th>\n      <th>Index</th>\n      <th>Population</th>\n      <th>CUSEC</th>\n      <th>NPRO</th>\n      <th>NCA</th>\n      <th>NMUN</th>\n    </tr>\n  </thead>\n  <tbody>\n    <tr>\n      <th>0</th>\n      <td>10113</td>\n      <td>17520</td>\n      <td>0801910113</td>\n      <td>Barcelona</td>\n      <td>Cataluña</td>\n      <td>Barcelona</td>\n    </tr>\n    <tr>\n      <th>1</th>\n      <td>10115</td>\n      <td>38090</td>\n      <td>0801910115</td>\n      <td>Barcelona</td>\n      <td>Cataluña</td>\n      <td>Barcelona</td>\n    </tr>\n    <tr>\n      <th>2</th>\n      <td>10114</td>\n      <td>22000</td>\n      <td>0801910114</td>\n      <td>Barcelona</td>\n      <td>Cataluña</td>\n      <td>Barcelona</td>\n    </tr>\n    <tr>\n      <th>3</th>\n      <td>10125</td>\n      <td>22923</td>\n      <td>0801910125</td>\n      <td>Barcelona</td>\n      <td>Cataluña</td>\n      <td>Barcelona</td>\n    </tr>\n    <tr>\n      <th>4</th>\n      <td>10124</td>\n      <td>14739</td>\n      <td>0801910124</td>\n      <td>Barcelona</td>\n      <td>Cataluña</td>\n      <td>Barcelona</td>\n    </tr>\n    <tr>\n      <th>...</th>\n      <td>...</td>\n      <td>...</td>\n      <td>...</td>\n      <td>...</td>\n      <td>...</td>\n      <td>...</td>\n    </tr>\n    <tr>\n      <th>105</th>\n      <td>1062</td>\n      <td>10052</td>\n      <td>3106201001</td>\n      <td>Navarra</td>\n      <td>Comunidad Foral de Navarra</td>\n      <td>Cabanillas</td>\n    </tr>\n    <tr>\n      <th>106</th>\n      <td>1102</td>\n      <td>91083</td>\n      <td>0821102007</td>\n      <td>Barcelona</td>\n      <td>Cataluña</td>\n      <td>Sant Feliu de Llobregat</td>\n    </tr>\n    <tr>\n      <th>107</th>\n      <td>1159</td>\n      <td>66168</td>\n      <td>3115901001</td>\n      <td>Navarra</td>\n      <td>Comunidad Foral de Navarra</td>\n      <td>Lumbier</td>\n    </tr>\n    <tr>\n      <th>108</th>\n      <td>880</td>\n      <td>6961</td>\n      <td>0828801001</td>\n      <td>Barcelona</td>\n      <td>Cataluña</td>\n      <td>Torrelles de Foix</td>\n    </tr>\n    <tr>\n      <th>109</th>\n      <td>914</td>\n      <td>65612</td>\n      <td>1914801001</td>\n      <td>Guadalajara</td>\n      <td>Castilla-La Mancha</td>\n      <td>Huertahernando</td>\n    </tr>\n  </tbody>\n</table>\n<p>110 rows × 6 columns</p>\n</div>"
          },
          "metadata": {}
        }
      ],
      "execution_count": 15,
      "block_group": "f1de48abbc2a4293a28ea0a4be0efa4c"
    },
    {
      "cell_type": "markdown",
      "source": "<a style='text-decoration:none;line-height:16px;display:flex;color:#5B5B62;padding:10px;justify-content:end;' href='https://deepnote.com?utm_source=created-in-deepnote-cell&projectId=d79b2b15-9a76-4b8a-9139-6103e6385a17' target=\"_blank\">\n<img alt='Created in deepnote.com' style='display:inline;max-height:16px;margin:0px;margin-right:7.5px;' src='data:image/svg+xml;base64,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' > </img>\nCreated in <span style='font-weight:600;margin-left:4px;'>Deepnote</span></a>",
      "metadata": {
        "created_in_deepnote_cell": true,
        "deepnote_cell_type": "markdown"
      }
    }
  ],
  "nbformat": 4,
  "nbformat_minor": 0,
  "metadata": {
    "deepnote": {},
    "orig_nbformat": 2,
    "deepnote_app_layout": "powerful-article",
    "deepnote_notebook_id": "78dc1c59f5ca4fdba3e8366267f3474d",
    "deepnote_execution_queue": []
  }
}